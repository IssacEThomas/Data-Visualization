{
 "cells": [
  {
   "cell_type": "code",
   "execution_count": 4,
   "metadata": {},
   "outputs": [
    {
     "name": "stderr",
     "output_type": "stream",
     "text": [
      "DEPRECATION: Loading egg at c:\\programdata\\anaconda3\\lib\\site-packages\\vboxapi-1.0-py3.11.egg is deprecated. pip 23.3 will enforce this behaviour change. A possible replacement is to use pip for package installation..\n"
     ]
    },
    {
     "name": "stdout",
     "output_type": "stream",
     "text": [
      "Defaulting to user installation because normal site-packages is not writeable\n",
      "Requirement already satisfied: kagglehub in c:\\users\\issac\\appdata\\roaming\\python\\python311\\site-packages (0.3.4)\n",
      "Requirement already satisfied: packaging in c:\\programdata\\anaconda3\\lib\\site-packages (from kagglehub) (23.0)\n",
      "Requirement already satisfied: requests in c:\\programdata\\anaconda3\\lib\\site-packages (from kagglehub) (2.31.0)\n",
      "Requirement already satisfied: tqdm in c:\\programdata\\anaconda3\\lib\\site-packages (from kagglehub) (4.65.0)\n",
      "Requirement already satisfied: charset-normalizer<4,>=2 in c:\\programdata\\anaconda3\\lib\\site-packages (from requests->kagglehub) (2.0.4)\n",
      "Requirement already satisfied: idna<4,>=2.5 in c:\\programdata\\anaconda3\\lib\\site-packages (from requests->kagglehub) (3.4)\n",
      "Requirement already satisfied: urllib3<3,>=1.21.1 in c:\\programdata\\anaconda3\\lib\\site-packages (from requests->kagglehub) (1.26.16)\n",
      "Requirement already satisfied: certifi>=2017.4.17 in c:\\programdata\\anaconda3\\lib\\site-packages (from requests->kagglehub) (2023.11.17)\n",
      "Requirement already satisfied: colorama in c:\\programdata\\anaconda3\\lib\\site-packages (from tqdm->kagglehub) (0.4.6)\n",
      "Note: you may need to restart the kernel to use updated packages.\n",
      "Path to dataset files: C:\\Users\\Issac\\.cache\\kagglehub\\datasets\\arunvithyasegar\\daily-port-activity-data-and-trade-estimates\\versions\\1\n"
     ]
    }
   ],
   "source": [
    "%pip install kagglehub\n",
    "\n",
    "import kagglehub\n",
    "\n",
    "# Download latest version\n",
    "path = kagglehub.dataset_download(\"arunvithyasegar/daily-port-activity-data-and-trade-estimates\")\n",
    "\n",
    "print(\"Path to dataset files:\", path)"
   ]
  },
  {
   "cell_type": "code",
   "execution_count": 5,
   "metadata": {},
   "outputs": [],
   "source": [
    "# Load the dataset\n",
    "import pandas as pd\n",
    "data = pd.read_csv(path + \"/daily_port_activity_data_and_trade_estimates.csv\")"
   ]
  },
  {
   "cell_type": "markdown",
   "metadata": {},
   "source": [
    "Donald Trump has proposed imposing steep tariffs on imports. A potential 10-20 percent tariff on all imports at least a 60 percent tariff on Chinese imports, and a 25-100 percent tariff on Mexican imports. Economists broadly agree that tariffs hinder trade and disrupt production processes, ultimately resulting in a decrease in overall living standards Tariffs increase the price of foreign-produced goods, incentivizing consumers to switch to domestically produced goods, but this comes at the expense of consumers and other industries. Over the long run, tariffs shrink the economy by reducing work and investment, leading to lower incomes and production. Additionally, tariffs can lead to inefficiencies and political favoritism, and retaliatory tariffs from other countries can further harm the economy. Studies consistently find that Trump's proposed tariffs would have a negative impact on the U.S. economy"
   ]
  },
  {
   "cell_type": "markdown",
   "metadata": {},
   "source": [
    "## Definitions\n",
    "Port Calls are stops a ship makes at a perform activities like loading  and unloading cargo.\n",
    "\n",
    "\n"
   ]
  },
  {
   "cell_type": "code",
   "execution_count": 6,
   "metadata": {},
   "outputs": [
    {
     "name": "stdout",
     "output_type": "stream",
     "text": [
      "Defaulting to user installation because normal site-packages is not writeable\n",
      "Requirement already satisfied: matplotlib in c:\\programdata\\anaconda3\\lib\\site-packages (3.7.1)\n",
      "Requirement already satisfied: contourpy>=1.0.1 in c:\\programdata\\anaconda3\\lib\\site-packages (from matplotlib) (1.0.5)\n",
      "Requirement already satisfied: cycler>=0.10 in c:\\programdata\\anaconda3\\lib\\site-packages (from matplotlib) (0.11.0)\n",
      "Requirement already satisfied: fonttools>=4.22.0 in c:\\programdata\\anaconda3\\lib\\site-packages (from matplotlib) (4.25.0)\n",
      "Requirement already satisfied: kiwisolver>=1.0.1 in c:\\programdata\\anaconda3\\lib\\site-packages (from matplotlib) (1.4.4)\n",
      "Requirement already satisfied: numpy>=1.20 in c:\\users\\issac\\appdata\\roaming\\python\\python311\\site-packages (from matplotlib) (1.24.4)\n",
      "Requirement already satisfied: packaging>=20.0 in c:\\programdata\\anaconda3\\lib\\site-packages (from matplotlib) (23.0)\n",
      "Requirement already satisfied: pillow>=6.2.0 in c:\\programdata\\anaconda3\\lib\\site-packages (from matplotlib) (9.4.0)\n",
      "Requirement already satisfied: pyparsing>=2.3.1 in c:\\programdata\\anaconda3\\lib\\site-packages (from matplotlib) (3.0.9)\n",
      "Requirement already satisfied: python-dateutil>=2.7 in c:\\programdata\\anaconda3\\lib\\site-packages (from matplotlib) (2.8.2)\n",
      "Requirement already satisfied: six>=1.5 in c:\\programdata\\anaconda3\\lib\\site-packages (from python-dateutil>=2.7->matplotlib) (1.16.0)\n",
      "Note: you may need to restart the kernel to use updated packages.\n"
     ]
    },
    {
     "name": "stderr",
     "output_type": "stream",
     "text": [
      "DEPRECATION: Loading egg at c:\\programdata\\anaconda3\\lib\\site-packages\\vboxapi-1.0-py3.11.egg is deprecated. pip 23.3 will enforce this behaviour change. A possible replacement is to use pip for package installation..\n"
     ]
    },
    {
     "name": "stdout",
     "output_type": "stream",
     "text": [
      "Note: you may need to restart the kernel to use updated packages.Defaulting to user installation because normal site-packages is not writeable\n",
      "Requirement already satisfied: pandas in c:\\programdata\\anaconda3\\lib\\site-packages (1.5.3)\n",
      "Requirement already satisfied: python-dateutil>=2.8.1 in c:\\programdata\\anaconda3\\lib\\site-packages (from pandas) (2.8.2)\n",
      "Requirement already satisfied: pytz>=2020.1 in c:\\programdata\\anaconda3\\lib\\site-packages (from pandas) (2022.7)\n",
      "Requirement already satisfied: numpy>=1.21.0 in c:\\users\\issac\\appdata\\roaming\\python\\python311\\site-packages (from pandas) (1.24.4)\n",
      "Requirement already satisfied: six>=1.5 in c:\\programdata\\anaconda3\\lib\\site-packages (from python-dateutil>=2.8.1->pandas) (1.16.0)\n",
      "\n"
     ]
    },
    {
     "name": "stderr",
     "output_type": "stream",
     "text": [
      "DEPRECATION: Loading egg at c:\\programdata\\anaconda3\\lib\\site-packages\\vboxapi-1.0-py3.11.egg is deprecated. pip 23.3 will enforce this behaviour change. A possible replacement is to use pip for package installation..\n"
     ]
    },
    {
     "name": "stdout",
     "output_type": "stream",
     "text": [
      "Defaulting to user installation because normal site-packages is not writeable\n",
      "Requirement already satisfied: numpy in c:\\users\\issac\\appdata\\roaming\\python\\python311\\site-packages (1.24.4)\n",
      "Note: you may need to restart the kernel to use updated packages.\n"
     ]
    },
    {
     "name": "stderr",
     "output_type": "stream",
     "text": [
      "DEPRECATION: Loading egg at c:\\programdata\\anaconda3\\lib\\site-packages\\vboxapi-1.0-py3.11.egg is deprecated. pip 23.3 will enforce this behaviour change. A possible replacement is to use pip for package installation..\n"
     ]
    },
    {
     "name": "stdout",
     "output_type": "stream",
     "text": [
      "Defaulting to user installation because normal site-packages is not writeable\n",
      "Requirement already satisfied: plotly in c:\\programdata\\anaconda3\\lib\\site-packages (5.9.0)\n",
      "Requirement already satisfied: tenacity>=6.2.0 in c:\\programdata\\anaconda3\\lib\\site-packages (from plotly) (8.2.2)\n",
      "Note: you may need to restart the kernel to use updated packages.\n"
     ]
    },
    {
     "name": "stderr",
     "output_type": "stream",
     "text": [
      "DEPRECATION: Loading egg at c:\\programdata\\anaconda3\\lib\\site-packages\\vboxapi-1.0-py3.11.egg is deprecated. pip 23.3 will enforce this behaviour change. A possible replacement is to use pip for package installation..\n"
     ]
    },
    {
     "name": "stdout",
     "output_type": "stream",
     "text": [
      "Defaulting to user installation because normal site-packages is not writeable\n",
      "Requirement already satisfied: scipy in c:\\programdata\\anaconda3\\lib\\site-packages (1.10.1)\n",
      "Requirement already satisfied: numpy<1.27.0,>=1.19.5 in c:\\users\\issac\\appdata\\roaming\\python\\python311\\site-packages (from scipy) (1.24.4)\n",
      "Note: you may need to restart the kernel to use updated packages.\n"
     ]
    },
    {
     "name": "stderr",
     "output_type": "stream",
     "text": [
      "DEPRECATION: Loading egg at c:\\programdata\\anaconda3\\lib\\site-packages\\vboxapi-1.0-py3.11.egg is deprecated. pip 23.3 will enforce this behaviour change. A possible replacement is to use pip for package installation..\n"
     ]
    }
   ],
   "source": [
    "%pip install matplotlib\n",
    "%pip install pandas\n",
    "%pip install numpy\n",
    "%pip install plotly\n",
    "%pip install scipy\n",
    "\n",
    "import matplotlib.pyplot as plt\n",
    "import pandas as pd\n",
    "import numpy as np\n",
    "from scipy.optimize import minimize\n",
    "import matplotlib.ticker as ticker\n",
    "import plotly.graph_objects as go\n",
    "import plotly.express as px"
   ]
  },
  {
   "cell_type": "code",
   "execution_count": 7,
   "metadata": {},
   "outputs": [],
   "source": [
    "\n",
    "data = pd.read_csv(path + \"/daily_port_activity_data_and_trade_estimates.csv\")"
   ]
  },
  {
   "cell_type": "code",
   "execution_count": 10,
   "metadata": {},
   "outputs": [
    {
     "data": {
      "text/html": [
       "<div>\n",
       "<style scoped>\n",
       "    .dataframe tbody tr th:only-of-type {\n",
       "        vertical-align: middle;\n",
       "    }\n",
       "\n",
       "    .dataframe tbody tr th {\n",
       "        vertical-align: top;\n",
       "    }\n",
       "\n",
       "    .dataframe thead th {\n",
       "        text-align: right;\n",
       "    }\n",
       "</style>\n",
       "<table border=\"1\" class=\"dataframe\">\n",
       "  <thead>\n",
       "    <tr style=\"text-align: right;\">\n",
       "      <th></th>\n",
       "      <th>date</th>\n",
       "      <th>year</th>\n",
       "      <th>month</th>\n",
       "      <th>day</th>\n",
       "      <th>portid</th>\n",
       "      <th>portname</th>\n",
       "      <th>country</th>\n",
       "      <th>ISO3</th>\n",
       "      <th>portcalls_container</th>\n",
       "      <th>portcalls_dry_bulk</th>\n",
       "      <th>...</th>\n",
       "      <th>import_cargo</th>\n",
       "      <th>import</th>\n",
       "      <th>export_container</th>\n",
       "      <th>export_dry_bulk</th>\n",
       "      <th>export_general_cargo</th>\n",
       "      <th>export_roro</th>\n",
       "      <th>export_tanker</th>\n",
       "      <th>export_cargo</th>\n",
       "      <th>export</th>\n",
       "      <th>ObjectId</th>\n",
       "    </tr>\n",
       "  </thead>\n",
       "  <tbody>\n",
       "    <tr>\n",
       "      <th>0</th>\n",
       "      <td>2019/01/01 00:00:00+00</td>\n",
       "      <td>2019</td>\n",
       "      <td>1</td>\n",
       "      <td>1</td>\n",
       "      <td>port0</td>\n",
       "      <td>Abbot Point</td>\n",
       "      <td>Australia</td>\n",
       "      <td>AUS</td>\n",
       "      <td>0</td>\n",
       "      <td>2</td>\n",
       "      <td>...</td>\n",
       "      <td>25648.932871</td>\n",
       "      <td>25648.932871</td>\n",
       "      <td>0.0</td>\n",
       "      <td>69693.624446</td>\n",
       "      <td>0.0</td>\n",
       "      <td>0.0</td>\n",
       "      <td>0.0</td>\n",
       "      <td>69693.624446</td>\n",
       "      <td>69693.624446</td>\n",
       "      <td>1</td>\n",
       "    </tr>\n",
       "    <tr>\n",
       "      <th>1</th>\n",
       "      <td>2019/01/02 00:00:00+00</td>\n",
       "      <td>2019</td>\n",
       "      <td>1</td>\n",
       "      <td>2</td>\n",
       "      <td>port0</td>\n",
       "      <td>Abbot Point</td>\n",
       "      <td>Australia</td>\n",
       "      <td>AUS</td>\n",
       "      <td>0</td>\n",
       "      <td>1</td>\n",
       "      <td>...</td>\n",
       "      <td>0.000000</td>\n",
       "      <td>0.000000</td>\n",
       "      <td>0.0</td>\n",
       "      <td>59426.741882</td>\n",
       "      <td>0.0</td>\n",
       "      <td>0.0</td>\n",
       "      <td>0.0</td>\n",
       "      <td>59426.741882</td>\n",
       "      <td>59426.741882</td>\n",
       "      <td>2</td>\n",
       "    </tr>\n",
       "    <tr>\n",
       "      <th>2</th>\n",
       "      <td>2019/01/03 00:00:00+00</td>\n",
       "      <td>2019</td>\n",
       "      <td>1</td>\n",
       "      <td>3</td>\n",
       "      <td>port0</td>\n",
       "      <td>Abbot Point</td>\n",
       "      <td>Australia</td>\n",
       "      <td>AUS</td>\n",
       "      <td>0</td>\n",
       "      <td>1</td>\n",
       "      <td>...</td>\n",
       "      <td>691.808826</td>\n",
       "      <td>691.808826</td>\n",
       "      <td>0.0</td>\n",
       "      <td>0.000000</td>\n",
       "      <td>0.0</td>\n",
       "      <td>0.0</td>\n",
       "      <td>0.0</td>\n",
       "      <td>0.000000</td>\n",
       "      <td>0.000000</td>\n",
       "      <td>3</td>\n",
       "    </tr>\n",
       "    <tr>\n",
       "      <th>3</th>\n",
       "      <td>2019/01/04 00:00:00+00</td>\n",
       "      <td>2019</td>\n",
       "      <td>1</td>\n",
       "      <td>4</td>\n",
       "      <td>port0</td>\n",
       "      <td>Abbot Point</td>\n",
       "      <td>Australia</td>\n",
       "      <td>AUS</td>\n",
       "      <td>0</td>\n",
       "      <td>1</td>\n",
       "      <td>...</td>\n",
       "      <td>0.000000</td>\n",
       "      <td>0.000000</td>\n",
       "      <td>0.0</td>\n",
       "      <td>35660.208032</td>\n",
       "      <td>0.0</td>\n",
       "      <td>0.0</td>\n",
       "      <td>0.0</td>\n",
       "      <td>35660.208032</td>\n",
       "      <td>35660.208032</td>\n",
       "      <td>4</td>\n",
       "    </tr>\n",
       "    <tr>\n",
       "      <th>4</th>\n",
       "      <td>2019/01/05 00:00:00+00</td>\n",
       "      <td>2019</td>\n",
       "      <td>1</td>\n",
       "      <td>5</td>\n",
       "      <td>port0</td>\n",
       "      <td>Abbot Point</td>\n",
       "      <td>Australia</td>\n",
       "      <td>AUS</td>\n",
       "      <td>0</td>\n",
       "      <td>1</td>\n",
       "      <td>...</td>\n",
       "      <td>0.000000</td>\n",
       "      <td>0.000000</td>\n",
       "      <td>0.0</td>\n",
       "      <td>19127.574067</td>\n",
       "      <td>0.0</td>\n",
       "      <td>0.0</td>\n",
       "      <td>0.0</td>\n",
       "      <td>19127.574067</td>\n",
       "      <td>19127.574067</td>\n",
       "      <td>5</td>\n",
       "    </tr>\n",
       "  </tbody>\n",
       "</table>\n",
       "<p>5 rows × 30 columns</p>\n",
       "</div>"
      ],
      "text/plain": [
       "                     date  year  month  day portid     portname    country  \\\n",
       "0  2019/01/01 00:00:00+00  2019      1    1  port0  Abbot Point  Australia   \n",
       "1  2019/01/02 00:00:00+00  2019      1    2  port0  Abbot Point  Australia   \n",
       "2  2019/01/03 00:00:00+00  2019      1    3  port0  Abbot Point  Australia   \n",
       "3  2019/01/04 00:00:00+00  2019      1    4  port0  Abbot Point  Australia   \n",
       "4  2019/01/05 00:00:00+00  2019      1    5  port0  Abbot Point  Australia   \n",
       "\n",
       "  ISO3  portcalls_container  portcalls_dry_bulk  ...  import_cargo  \\\n",
       "0  AUS                    0                   2  ...  25648.932871   \n",
       "1  AUS                    0                   1  ...      0.000000   \n",
       "2  AUS                    0                   1  ...    691.808826   \n",
       "3  AUS                    0                   1  ...      0.000000   \n",
       "4  AUS                    0                   1  ...      0.000000   \n",
       "\n",
       "         import  export_container  export_dry_bulk  export_general_cargo  \\\n",
       "0  25648.932871               0.0     69693.624446                   0.0   \n",
       "1      0.000000               0.0     59426.741882                   0.0   \n",
       "2    691.808826               0.0         0.000000                   0.0   \n",
       "3      0.000000               0.0     35660.208032                   0.0   \n",
       "4      0.000000               0.0     19127.574067                   0.0   \n",
       "\n",
       "   export_roro  export_tanker  export_cargo        export  ObjectId  \n",
       "0          0.0            0.0  69693.624446  69693.624446         1  \n",
       "1          0.0            0.0  59426.741882  59426.741882         2  \n",
       "2          0.0            0.0      0.000000      0.000000         3  \n",
       "3          0.0            0.0  35660.208032  35660.208032         4  \n",
       "4          0.0            0.0  19127.574067  19127.574067         5  \n",
       "\n",
       "[5 rows x 30 columns]"
      ]
     },
     "execution_count": 10,
     "metadata": {},
     "output_type": "execute_result"
    }
   ],
   "source": [
    "data.head()"
   ]
  },
  {
   "cell_type": "markdown",
   "metadata": {},
   "source": [
    "## Preprocessing Data"
   ]
  },
  {
   "cell_type": "code",
   "execution_count": 9,
   "metadata": {},
   "outputs": [
    {
     "name": "stdout",
     "output_type": "stream",
     "text": [
      "<class 'pandas.core.frame.DataFrame'>\n",
      "RangeIndex: 3486153 entries, 0 to 3486152\n",
      "Data columns (total 30 columns):\n",
      " #   Column                   Dtype  \n",
      "---  ------                   -----  \n",
      " 0   date                     object \n",
      " 1   year                     int64  \n",
      " 2   month                    int64  \n",
      " 3   day                      int64  \n",
      " 4   portid                   object \n",
      " 5   portname                 object \n",
      " 6   country                  object \n",
      " 7   ISO3                     object \n",
      " 8   portcalls_container      int64  \n",
      " 9   portcalls_dry_bulk       int64  \n",
      " 10  portcalls_general_cargo  int64  \n",
      " 11  portcalls_roro           int64  \n",
      " 12  portcalls_tanker         int64  \n",
      " 13  portcalls_cargo          int64  \n",
      " 14  portcalls                int64  \n",
      " 15  import_container         float64\n",
      " 16  import_dry_bulk          float64\n",
      " 17  import_general_cargo     float64\n",
      " 18  import_roro              float64\n",
      " 19  import_tanker            float64\n",
      " 20  import_cargo             float64\n",
      " 21  import                   float64\n",
      " 22  export_container         float64\n",
      " 23  export_dry_bulk          float64\n",
      " 24  export_general_cargo     float64\n",
      " 25  export_roro              float64\n",
      " 26  export_tanker            float64\n",
      " 27  export_cargo             float64\n",
      " 28  export                   float64\n",
      " 29  ObjectId                 int64  \n",
      "dtypes: float64(14), int64(11), object(5)\n",
      "memory usage: 797.9+ MB\n"
     ]
    }
   ],
   "source": [
    "data.info()"
   ]
  },
  {
   "cell_type": "code",
   "execution_count": 7,
   "metadata": {},
   "outputs": [
    {
     "data": {
      "text/plain": [
       "date                       0\n",
       "year                       0\n",
       "month                      0\n",
       "day                        0\n",
       "portid                     0\n",
       "portname                   0\n",
       "country                    0\n",
       "ISO3                       0\n",
       "portcalls_container        0\n",
       "portcalls_dry_bulk         0\n",
       "portcalls_general_cargo    0\n",
       "portcalls_roro             0\n",
       "portcalls_tanker           0\n",
       "portcalls_cargo            0\n",
       "portcalls                  0\n",
       "import_container           0\n",
       "import_dry_bulk            0\n",
       "import_general_cargo       0\n",
       "import_roro                0\n",
       "import_tanker              0\n",
       "import_cargo               0\n",
       "import                     0\n",
       "export_container           0\n",
       "export_dry_bulk            0\n",
       "export_general_cargo       0\n",
       "export_roro                0\n",
       "export_tanker              0\n",
       "export_cargo               0\n",
       "export                     0\n",
       "ObjectId                   0\n",
       "dtype: int64"
      ]
     },
     "execution_count": 7,
     "metadata": {},
     "output_type": "execute_result"
    }
   ],
   "source": [
    "data.isna().sum()"
   ]
  },
  {
   "cell_type": "code",
   "execution_count": 8,
   "metadata": {},
   "outputs": [],
   "source": [
    "data = data.drop(columns=['date'])"
   ]
  },
  {
   "cell_type": "code",
   "execution_count": 9,
   "metadata": {},
   "outputs": [
    {
     "data": {
      "text/html": [
       "<div>\n",
       "<style scoped>\n",
       "    .dataframe tbody tr th:only-of-type {\n",
       "        vertical-align: middle;\n",
       "    }\n",
       "\n",
       "    .dataframe tbody tr th {\n",
       "        vertical-align: top;\n",
       "    }\n",
       "\n",
       "    .dataframe thead th {\n",
       "        text-align: right;\n",
       "    }\n",
       "</style>\n",
       "<table border=\"1\" class=\"dataframe\">\n",
       "  <thead>\n",
       "    <tr style=\"text-align: right;\">\n",
       "      <th></th>\n",
       "      <th>year</th>\n",
       "      <th>month</th>\n",
       "      <th>day</th>\n",
       "      <th>portid</th>\n",
       "      <th>portname</th>\n",
       "      <th>country</th>\n",
       "      <th>ISO3</th>\n",
       "      <th>portcalls_container</th>\n",
       "      <th>portcalls_dry_bulk</th>\n",
       "      <th>portcalls_general_cargo</th>\n",
       "      <th>...</th>\n",
       "      <th>import_cargo</th>\n",
       "      <th>import</th>\n",
       "      <th>export_container</th>\n",
       "      <th>export_dry_bulk</th>\n",
       "      <th>export_general_cargo</th>\n",
       "      <th>export_roro</th>\n",
       "      <th>export_tanker</th>\n",
       "      <th>export_cargo</th>\n",
       "      <th>export</th>\n",
       "      <th>ObjectId</th>\n",
       "    </tr>\n",
       "  </thead>\n",
       "  <tbody>\n",
       "    <tr>\n",
       "      <th>0</th>\n",
       "      <td>2019</td>\n",
       "      <td>1</td>\n",
       "      <td>1</td>\n",
       "      <td>port0</td>\n",
       "      <td>Abbot Point</td>\n",
       "      <td>Australia</td>\n",
       "      <td>AUS</td>\n",
       "      <td>0</td>\n",
       "      <td>2</td>\n",
       "      <td>0</td>\n",
       "      <td>...</td>\n",
       "      <td>25648.932871</td>\n",
       "      <td>25648.932871</td>\n",
       "      <td>0.0</td>\n",
       "      <td>69693.624446</td>\n",
       "      <td>0.0</td>\n",
       "      <td>0.0</td>\n",
       "      <td>0.0</td>\n",
       "      <td>69693.624446</td>\n",
       "      <td>69693.624446</td>\n",
       "      <td>1</td>\n",
       "    </tr>\n",
       "    <tr>\n",
       "      <th>1</th>\n",
       "      <td>2019</td>\n",
       "      <td>1</td>\n",
       "      <td>2</td>\n",
       "      <td>port0</td>\n",
       "      <td>Abbot Point</td>\n",
       "      <td>Australia</td>\n",
       "      <td>AUS</td>\n",
       "      <td>0</td>\n",
       "      <td>1</td>\n",
       "      <td>0</td>\n",
       "      <td>...</td>\n",
       "      <td>0.000000</td>\n",
       "      <td>0.000000</td>\n",
       "      <td>0.0</td>\n",
       "      <td>59426.741882</td>\n",
       "      <td>0.0</td>\n",
       "      <td>0.0</td>\n",
       "      <td>0.0</td>\n",
       "      <td>59426.741882</td>\n",
       "      <td>59426.741882</td>\n",
       "      <td>2</td>\n",
       "    </tr>\n",
       "    <tr>\n",
       "      <th>2</th>\n",
       "      <td>2019</td>\n",
       "      <td>1</td>\n",
       "      <td>3</td>\n",
       "      <td>port0</td>\n",
       "      <td>Abbot Point</td>\n",
       "      <td>Australia</td>\n",
       "      <td>AUS</td>\n",
       "      <td>0</td>\n",
       "      <td>1</td>\n",
       "      <td>0</td>\n",
       "      <td>...</td>\n",
       "      <td>691.808826</td>\n",
       "      <td>691.808826</td>\n",
       "      <td>0.0</td>\n",
       "      <td>0.000000</td>\n",
       "      <td>0.0</td>\n",
       "      <td>0.0</td>\n",
       "      <td>0.0</td>\n",
       "      <td>0.000000</td>\n",
       "      <td>0.000000</td>\n",
       "      <td>3</td>\n",
       "    </tr>\n",
       "    <tr>\n",
       "      <th>3</th>\n",
       "      <td>2019</td>\n",
       "      <td>1</td>\n",
       "      <td>4</td>\n",
       "      <td>port0</td>\n",
       "      <td>Abbot Point</td>\n",
       "      <td>Australia</td>\n",
       "      <td>AUS</td>\n",
       "      <td>0</td>\n",
       "      <td>1</td>\n",
       "      <td>0</td>\n",
       "      <td>...</td>\n",
       "      <td>0.000000</td>\n",
       "      <td>0.000000</td>\n",
       "      <td>0.0</td>\n",
       "      <td>35660.208032</td>\n",
       "      <td>0.0</td>\n",
       "      <td>0.0</td>\n",
       "      <td>0.0</td>\n",
       "      <td>35660.208032</td>\n",
       "      <td>35660.208032</td>\n",
       "      <td>4</td>\n",
       "    </tr>\n",
       "    <tr>\n",
       "      <th>4</th>\n",
       "      <td>2019</td>\n",
       "      <td>1</td>\n",
       "      <td>5</td>\n",
       "      <td>port0</td>\n",
       "      <td>Abbot Point</td>\n",
       "      <td>Australia</td>\n",
       "      <td>AUS</td>\n",
       "      <td>0</td>\n",
       "      <td>1</td>\n",
       "      <td>0</td>\n",
       "      <td>...</td>\n",
       "      <td>0.000000</td>\n",
       "      <td>0.000000</td>\n",
       "      <td>0.0</td>\n",
       "      <td>19127.574067</td>\n",
       "      <td>0.0</td>\n",
       "      <td>0.0</td>\n",
       "      <td>0.0</td>\n",
       "      <td>19127.574067</td>\n",
       "      <td>19127.574067</td>\n",
       "      <td>5</td>\n",
       "    </tr>\n",
       "  </tbody>\n",
       "</table>\n",
       "<p>5 rows × 29 columns</p>\n",
       "</div>"
      ],
      "text/plain": [
       "   year  month  day portid     portname    country ISO3  portcalls_container  \\\n",
       "0  2019      1    1  port0  Abbot Point  Australia  AUS                    0   \n",
       "1  2019      1    2  port0  Abbot Point  Australia  AUS                    0   \n",
       "2  2019      1    3  port0  Abbot Point  Australia  AUS                    0   \n",
       "3  2019      1    4  port0  Abbot Point  Australia  AUS                    0   \n",
       "4  2019      1    5  port0  Abbot Point  Australia  AUS                    0   \n",
       "\n",
       "   portcalls_dry_bulk  portcalls_general_cargo  ...  import_cargo  \\\n",
       "0                   2                        0  ...  25648.932871   \n",
       "1                   1                        0  ...      0.000000   \n",
       "2                   1                        0  ...    691.808826   \n",
       "3                   1                        0  ...      0.000000   \n",
       "4                   1                        0  ...      0.000000   \n",
       "\n",
       "         import  export_container  export_dry_bulk  export_general_cargo  \\\n",
       "0  25648.932871               0.0     69693.624446                   0.0   \n",
       "1      0.000000               0.0     59426.741882                   0.0   \n",
       "2    691.808826               0.0         0.000000                   0.0   \n",
       "3      0.000000               0.0     35660.208032                   0.0   \n",
       "4      0.000000               0.0     19127.574067                   0.0   \n",
       "\n",
       "   export_roro  export_tanker  export_cargo        export  ObjectId  \n",
       "0          0.0            0.0  69693.624446  69693.624446         1  \n",
       "1          0.0            0.0  59426.741882  59426.741882         2  \n",
       "2          0.0            0.0      0.000000      0.000000         3  \n",
       "3          0.0            0.0  35660.208032  35660.208032         4  \n",
       "4          0.0            0.0  19127.574067  19127.574067         5  \n",
       "\n",
       "[5 rows x 29 columns]"
      ]
     },
     "execution_count": 9,
     "metadata": {},
     "output_type": "execute_result"
    }
   ],
   "source": [
    "data.head()"
   ]
  },
  {
   "cell_type": "code",
   "execution_count": 12,
   "metadata": {},
   "outputs": [
    {
     "data": {
      "text/plain": [
       "180"
      ]
     },
     "execution_count": 12,
     "metadata": {},
     "output_type": "execute_result"
    }
   ],
   "source": [
    "len(data['country'].unique())"
   ]
  },
  {
   "cell_type": "code",
   "execution_count": 36,
   "metadata": {},
   "outputs": [
    {
     "data": {
      "text/plain": [
       "1620"
      ]
     },
     "execution_count": 36,
     "metadata": {},
     "output_type": "execute_result"
    }
   ],
   "source": [
    "len(data['portname'].unique())"
   ]
  },
  {
   "cell_type": "code",
   "execution_count": 13,
   "metadata": {},
   "outputs": [],
   "source": [
    "data.sort_values(by=['portname', 'year'], ascending=False,inplace=True)"
   ]
  },
  {
   "cell_type": "code",
   "execution_count": 14,
   "metadata": {},
   "outputs": [
    {
     "data": {
      "text/html": [
       "<div>\n",
       "<style scoped>\n",
       "    .dataframe tbody tr th:only-of-type {\n",
       "        vertical-align: middle;\n",
       "    }\n",
       "\n",
       "    .dataframe tbody tr th {\n",
       "        vertical-align: top;\n",
       "    }\n",
       "\n",
       "    .dataframe thead th {\n",
       "        text-align: right;\n",
       "    }\n",
       "</style>\n",
       "<table border=\"1\" class=\"dataframe\">\n",
       "  <thead>\n",
       "    <tr style=\"text-align: right;\">\n",
       "      <th></th>\n",
       "      <th>year</th>\n",
       "      <th>month</th>\n",
       "      <th>day</th>\n",
       "      <th>portid</th>\n",
       "      <th>portname</th>\n",
       "      <th>country</th>\n",
       "      <th>ISO3</th>\n",
       "      <th>portcalls_container</th>\n",
       "      <th>portcalls_dry_bulk</th>\n",
       "      <th>portcalls_general_cargo</th>\n",
       "      <th>...</th>\n",
       "      <th>import_cargo</th>\n",
       "      <th>import</th>\n",
       "      <th>export_container</th>\n",
       "      <th>export_dry_bulk</th>\n",
       "      <th>export_general_cargo</th>\n",
       "      <th>export_roro</th>\n",
       "      <th>export_tanker</th>\n",
       "      <th>export_cargo</th>\n",
       "      <th>export</th>\n",
       "      <th>ObjectId</th>\n",
       "    </tr>\n",
       "  </thead>\n",
       "  <tbody>\n",
       "    <tr>\n",
       "      <th>988529</th>\n",
       "      <td>2024</td>\n",
       "      <td>1</td>\n",
       "      <td>1</td>\n",
       "      <td>port1430</td>\n",
       "      <td>Zonguldak</td>\n",
       "      <td>Türkiye</td>\n",
       "      <td>TUR</td>\n",
       "      <td>0</td>\n",
       "      <td>0</td>\n",
       "      <td>0</td>\n",
       "      <td>...</td>\n",
       "      <td>0.000000</td>\n",
       "      <td>0.000000</td>\n",
       "      <td>0.0</td>\n",
       "      <td>0.000000</td>\n",
       "      <td>0.000000</td>\n",
       "      <td>0.0</td>\n",
       "      <td>0.0</td>\n",
       "      <td>0.000000</td>\n",
       "      <td>0.000000</td>\n",
       "      <td>988530</td>\n",
       "    </tr>\n",
       "    <tr>\n",
       "      <th>988578</th>\n",
       "      <td>2024</td>\n",
       "      <td>1</td>\n",
       "      <td>2</td>\n",
       "      <td>port1430</td>\n",
       "      <td>Zonguldak</td>\n",
       "      <td>Türkiye</td>\n",
       "      <td>TUR</td>\n",
       "      <td>0</td>\n",
       "      <td>1</td>\n",
       "      <td>1</td>\n",
       "      <td>...</td>\n",
       "      <td>2668.397578</td>\n",
       "      <td>2668.397578</td>\n",
       "      <td>0.0</td>\n",
       "      <td>3915.744726</td>\n",
       "      <td>0.000000</td>\n",
       "      <td>0.0</td>\n",
       "      <td>0.0</td>\n",
       "      <td>3915.744726</td>\n",
       "      <td>3915.744726</td>\n",
       "      <td>988579</td>\n",
       "    </tr>\n",
       "    <tr>\n",
       "      <th>988579</th>\n",
       "      <td>2024</td>\n",
       "      <td>1</td>\n",
       "      <td>3</td>\n",
       "      <td>port1430</td>\n",
       "      <td>Zonguldak</td>\n",
       "      <td>Türkiye</td>\n",
       "      <td>TUR</td>\n",
       "      <td>0</td>\n",
       "      <td>0</td>\n",
       "      <td>1</td>\n",
       "      <td>...</td>\n",
       "      <td>0.000000</td>\n",
       "      <td>0.000000</td>\n",
       "      <td>0.0</td>\n",
       "      <td>0.000000</td>\n",
       "      <td>102.450893</td>\n",
       "      <td>0.0</td>\n",
       "      <td>0.0</td>\n",
       "      <td>102.450893</td>\n",
       "      <td>102.450893</td>\n",
       "      <td>988580</td>\n",
       "    </tr>\n",
       "    <tr>\n",
       "      <th>988582</th>\n",
       "      <td>2024</td>\n",
       "      <td>1</td>\n",
       "      <td>4</td>\n",
       "      <td>port1430</td>\n",
       "      <td>Zonguldak</td>\n",
       "      <td>Türkiye</td>\n",
       "      <td>TUR</td>\n",
       "      <td>0</td>\n",
       "      <td>1</td>\n",
       "      <td>1</td>\n",
       "      <td>...</td>\n",
       "      <td>27881.980183</td>\n",
       "      <td>27881.980183</td>\n",
       "      <td>0.0</td>\n",
       "      <td>0.000000</td>\n",
       "      <td>493.183022</td>\n",
       "      <td>0.0</td>\n",
       "      <td>0.0</td>\n",
       "      <td>493.183022</td>\n",
       "      <td>493.183022</td>\n",
       "      <td>988583</td>\n",
       "    </tr>\n",
       "    <tr>\n",
       "      <th>988592</th>\n",
       "      <td>2024</td>\n",
       "      <td>1</td>\n",
       "      <td>5</td>\n",
       "      <td>port1430</td>\n",
       "      <td>Zonguldak</td>\n",
       "      <td>Türkiye</td>\n",
       "      <td>TUR</td>\n",
       "      <td>0</td>\n",
       "      <td>0</td>\n",
       "      <td>1</td>\n",
       "      <td>...</td>\n",
       "      <td>1772.975474</td>\n",
       "      <td>1772.975474</td>\n",
       "      <td>0.0</td>\n",
       "      <td>0.000000</td>\n",
       "      <td>0.000000</td>\n",
       "      <td>0.0</td>\n",
       "      <td>0.0</td>\n",
       "      <td>0.000000</td>\n",
       "      <td>0.000000</td>\n",
       "      <td>988593</td>\n",
       "    </tr>\n",
       "  </tbody>\n",
       "</table>\n",
       "<p>5 rows × 29 columns</p>\n",
       "</div>"
      ],
      "text/plain": [
       "        year  month  day    portid   portname  country ISO3  \\\n",
       "988529  2024      1    1  port1430  Zonguldak  Türkiye  TUR   \n",
       "988578  2024      1    2  port1430  Zonguldak  Türkiye  TUR   \n",
       "988579  2024      1    3  port1430  Zonguldak  Türkiye  TUR   \n",
       "988582  2024      1    4  port1430  Zonguldak  Türkiye  TUR   \n",
       "988592  2024      1    5  port1430  Zonguldak  Türkiye  TUR   \n",
       "\n",
       "        portcalls_container  portcalls_dry_bulk  portcalls_general_cargo  ...  \\\n",
       "988529                    0                   0                        0  ...   \n",
       "988578                    0                   1                        1  ...   \n",
       "988579                    0                   0                        1  ...   \n",
       "988582                    0                   1                        1  ...   \n",
       "988592                    0                   0                        1  ...   \n",
       "\n",
       "        import_cargo        import  export_container  export_dry_bulk  \\\n",
       "988529      0.000000      0.000000               0.0         0.000000   \n",
       "988578   2668.397578   2668.397578               0.0      3915.744726   \n",
       "988579      0.000000      0.000000               0.0         0.000000   \n",
       "988582  27881.980183  27881.980183               0.0         0.000000   \n",
       "988592   1772.975474   1772.975474               0.0         0.000000   \n",
       "\n",
       "        export_general_cargo  export_roro  export_tanker  export_cargo  \\\n",
       "988529              0.000000          0.0            0.0      0.000000   \n",
       "988578              0.000000          0.0            0.0   3915.744726   \n",
       "988579            102.450893          0.0            0.0    102.450893   \n",
       "988582            493.183022          0.0            0.0    493.183022   \n",
       "988592              0.000000          0.0            0.0      0.000000   \n",
       "\n",
       "             export  ObjectId  \n",
       "988529     0.000000    988530  \n",
       "988578  3915.744726    988579  \n",
       "988579   102.450893    988580  \n",
       "988582   493.183022    988583  \n",
       "988592     0.000000    988593  \n",
       "\n",
       "[5 rows x 29 columns]"
      ]
     },
     "execution_count": 14,
     "metadata": {},
     "output_type": "execute_result"
    }
   ],
   "source": [
    "data.head()"
   ]
  },
  {
   "cell_type": "code",
   "execution_count": 8,
   "metadata": {},
   "outputs": [
    {
     "name": "stdout",
     "output_type": "stream",
     "text": [
      "                            OLS Regression Results                            \n",
      "==============================================================================\n",
      "Dep. Variable:                 export   R-squared:                       0.734\n",
      "Model:                            OLS   Adj. R-squared:                  0.734\n",
      "Method:                 Least Squares   F-statistic:                 8.022e+05\n",
      "Date:                Tue, 10 Dec 2024   Prob (F-statistic):               0.00\n",
      "Time:                        19:33:33   Log-Likelihood:            -3.9291e+07\n",
      "No. Observations:             3486153   AIC:                         7.858e+07\n",
      "Df Residuals:                 3486140   BIC:                         7.858e+07\n",
      "Df Model:                          12                                         \n",
      "Covariance Type:            nonrobust                                         \n",
      "==========================================================================================\n",
      "                             coef    std err          t      P>|t|      [0.025      0.975]\n",
      "------------------------------------------------------------------------------------------\n",
      "const                    436.3056     60.249      7.242      0.000     318.220     554.391\n",
      "export_dry_bulk            1.0271      0.000   2895.987      0.000       1.026       1.028\n",
      "export_general_cargo       2.7545      0.005    536.453      0.000       2.744       2.765\n",
      "country_Brazil          3458.1565     91.269     37.890      0.000    3279.273    3637.040\n",
      "country_China           1.131e+04     75.380    149.994      0.000    1.12e+04    1.15e+04\n",
      "country_Indonesia        351.9896     76.642      4.593      0.000     201.774     502.205\n",
      "country_Italy           1164.2466     88.168     13.205      0.000     991.440    1337.053\n",
      "country_Japan            241.7828     72.105      3.353      0.001     100.459     383.107\n",
      "country_Norway          1011.9439     85.506     11.835      0.000     844.355    1179.533\n",
      "country_Other           2899.9871     61.515     47.143      0.000    2779.420    3020.554\n",
      "country_Spain           2588.4274     90.001     28.760      0.000    2412.029    2764.825\n",
      "country_United Kingdom   652.9104     78.740      8.292      0.000     498.582     807.239\n",
      "country_United States   4839.1358     72.043     67.170      0.000    4697.934    4980.338\n",
      "==============================================================================\n",
      "Omnibus:                  5759014.341   Durbin-Watson:                   0.717\n",
      "Prob(Omnibus):                  0.000   Jarque-Bera (JB):       6042919766.297\n",
      "Skew:                          11.072   Prob(JB):                         0.00\n",
      "Kurtosis:                     205.759   Cond. No.                     6.06e+05\n",
      "==============================================================================\n",
      "\n",
      "Notes:\n",
      "[1] Standard Errors assume that the covariance matrix of the errors is correctly specified.\n",
      "[2] The condition number is large, 6.06e+05. This might indicate that there are\n",
      "strong multicollinearity or other numerical problems.\n"
     ]
    }
   ],
   "source": [
    "import statsmodels.api as sm\n",
    "\n",
    "# Group less frequent countries into 'Other' category\n",
    "top_countries = data['country'].value_counts().nlargest(10).index\n",
    "data['country'] = data['country'].apply(lambda x: x if x in top_countries else 'Other')\n",
    "\n",
    "# Encode the categorical variable 'country' using one-hot encoding\n",
    "data_encoded = pd.get_dummies(data, columns=['country'], drop_first=True)\n",
    "\n",
    "# Define the predictor variables and the dependent variable\n",
    "X = data_encoded[['export_dry_bulk', 'export_general_cargo'] + [col for col in data_encoded.columns if col.startswith('country_')]]\n",
    "y = data_encoded['export']\n",
    "\n",
    "# Add a constant to the predictor variables\n",
    "X = sm.add_constant(X)\n",
    "\n",
    "# Create the linear regression model\n",
    "model = sm.OLS(y, X).fit()\n",
    "\n",
    "# Print the summary of the model\n",
    "print(model.summary())"
   ]
  },
  {
   "cell_type": "code",
   "execution_count": 14,
   "metadata": {},
   "outputs": [
    {
     "data": {
      "text/html": [
       "<div>\n",
       "<style scoped>\n",
       "    .dataframe tbody tr th:only-of-type {\n",
       "        vertical-align: middle;\n",
       "    }\n",
       "\n",
       "    .dataframe tbody tr th {\n",
       "        vertical-align: top;\n",
       "    }\n",
       "\n",
       "    .dataframe thead th {\n",
       "        text-align: right;\n",
       "    }\n",
       "</style>\n",
       "<table border=\"1\" class=\"dataframe\">\n",
       "  <thead>\n",
       "    <tr style=\"text-align: right;\">\n",
       "      <th></th>\n",
       "      <th>year</th>\n",
       "      <th>month</th>\n",
       "      <th>day</th>\n",
       "      <th>portid</th>\n",
       "      <th>portname</th>\n",
       "      <th>country</th>\n",
       "      <th>ISO3</th>\n",
       "      <th>portcalls_container</th>\n",
       "      <th>portcalls_dry_bulk</th>\n",
       "      <th>portcalls_general_cargo</th>\n",
       "      <th>...</th>\n",
       "      <th>import_cargo</th>\n",
       "      <th>import</th>\n",
       "      <th>export_container</th>\n",
       "      <th>export_dry_bulk</th>\n",
       "      <th>export_general_cargo</th>\n",
       "      <th>export_roro</th>\n",
       "      <th>export_tanker</th>\n",
       "      <th>export_cargo</th>\n",
       "      <th>export</th>\n",
       "      <th>ObjectId</th>\n",
       "    </tr>\n",
       "  </thead>\n",
       "  <tbody>\n",
       "    <tr>\n",
       "      <th>988529</th>\n",
       "      <td>2024</td>\n",
       "      <td>1</td>\n",
       "      <td>1</td>\n",
       "      <td>port1430</td>\n",
       "      <td>Zonguldak</td>\n",
       "      <td>Türkiye</td>\n",
       "      <td>TUR</td>\n",
       "      <td>0</td>\n",
       "      <td>0</td>\n",
       "      <td>0</td>\n",
       "      <td>...</td>\n",
       "      <td>0.000000</td>\n",
       "      <td>0.000000</td>\n",
       "      <td>0.0</td>\n",
       "      <td>0.000000</td>\n",
       "      <td>0.000000</td>\n",
       "      <td>0.0</td>\n",
       "      <td>0.0</td>\n",
       "      <td>0.000000</td>\n",
       "      <td>0.000000</td>\n",
       "      <td>988530</td>\n",
       "    </tr>\n",
       "    <tr>\n",
       "      <th>988578</th>\n",
       "      <td>2024</td>\n",
       "      <td>1</td>\n",
       "      <td>2</td>\n",
       "      <td>port1430</td>\n",
       "      <td>Zonguldak</td>\n",
       "      <td>Türkiye</td>\n",
       "      <td>TUR</td>\n",
       "      <td>0</td>\n",
       "      <td>1</td>\n",
       "      <td>1</td>\n",
       "      <td>...</td>\n",
       "      <td>2668.397578</td>\n",
       "      <td>2668.397578</td>\n",
       "      <td>0.0</td>\n",
       "      <td>3915.744726</td>\n",
       "      <td>0.000000</td>\n",
       "      <td>0.0</td>\n",
       "      <td>0.0</td>\n",
       "      <td>3915.744726</td>\n",
       "      <td>3915.744726</td>\n",
       "      <td>988579</td>\n",
       "    </tr>\n",
       "    <tr>\n",
       "      <th>988579</th>\n",
       "      <td>2024</td>\n",
       "      <td>1</td>\n",
       "      <td>3</td>\n",
       "      <td>port1430</td>\n",
       "      <td>Zonguldak</td>\n",
       "      <td>Türkiye</td>\n",
       "      <td>TUR</td>\n",
       "      <td>0</td>\n",
       "      <td>0</td>\n",
       "      <td>1</td>\n",
       "      <td>...</td>\n",
       "      <td>0.000000</td>\n",
       "      <td>0.000000</td>\n",
       "      <td>0.0</td>\n",
       "      <td>0.000000</td>\n",
       "      <td>102.450893</td>\n",
       "      <td>0.0</td>\n",
       "      <td>0.0</td>\n",
       "      <td>102.450893</td>\n",
       "      <td>102.450893</td>\n",
       "      <td>988580</td>\n",
       "    </tr>\n",
       "    <tr>\n",
       "      <th>988582</th>\n",
       "      <td>2024</td>\n",
       "      <td>1</td>\n",
       "      <td>4</td>\n",
       "      <td>port1430</td>\n",
       "      <td>Zonguldak</td>\n",
       "      <td>Türkiye</td>\n",
       "      <td>TUR</td>\n",
       "      <td>0</td>\n",
       "      <td>1</td>\n",
       "      <td>1</td>\n",
       "      <td>...</td>\n",
       "      <td>27881.980183</td>\n",
       "      <td>27881.980183</td>\n",
       "      <td>0.0</td>\n",
       "      <td>0.000000</td>\n",
       "      <td>493.183022</td>\n",
       "      <td>0.0</td>\n",
       "      <td>0.0</td>\n",
       "      <td>493.183022</td>\n",
       "      <td>493.183022</td>\n",
       "      <td>988583</td>\n",
       "    </tr>\n",
       "    <tr>\n",
       "      <th>988592</th>\n",
       "      <td>2024</td>\n",
       "      <td>1</td>\n",
       "      <td>5</td>\n",
       "      <td>port1430</td>\n",
       "      <td>Zonguldak</td>\n",
       "      <td>Türkiye</td>\n",
       "      <td>TUR</td>\n",
       "      <td>0</td>\n",
       "      <td>0</td>\n",
       "      <td>1</td>\n",
       "      <td>...</td>\n",
       "      <td>1772.975474</td>\n",
       "      <td>1772.975474</td>\n",
       "      <td>0.0</td>\n",
       "      <td>0.000000</td>\n",
       "      <td>0.000000</td>\n",
       "      <td>0.0</td>\n",
       "      <td>0.0</td>\n",
       "      <td>0.000000</td>\n",
       "      <td>0.000000</td>\n",
       "      <td>988593</td>\n",
       "    </tr>\n",
       "  </tbody>\n",
       "</table>\n",
       "<p>5 rows × 29 columns</p>\n",
       "</div>"
      ],
      "text/plain": [
       "        year  month  day    portid   portname  country ISO3  \\\n",
       "988529  2024      1    1  port1430  Zonguldak  Türkiye  TUR   \n",
       "988578  2024      1    2  port1430  Zonguldak  Türkiye  TUR   \n",
       "988579  2024      1    3  port1430  Zonguldak  Türkiye  TUR   \n",
       "988582  2024      1    4  port1430  Zonguldak  Türkiye  TUR   \n",
       "988592  2024      1    5  port1430  Zonguldak  Türkiye  TUR   \n",
       "\n",
       "        portcalls_container  portcalls_dry_bulk  portcalls_general_cargo  ...  \\\n",
       "988529                    0                   0                        0  ...   \n",
       "988578                    0                   1                        1  ...   \n",
       "988579                    0                   0                        1  ...   \n",
       "988582                    0                   1                        1  ...   \n",
       "988592                    0                   0                        1  ...   \n",
       "\n",
       "        import_cargo        import  export_container  export_dry_bulk  \\\n",
       "988529      0.000000      0.000000               0.0         0.000000   \n",
       "988578   2668.397578   2668.397578               0.0      3915.744726   \n",
       "988579      0.000000      0.000000               0.0         0.000000   \n",
       "988582  27881.980183  27881.980183               0.0         0.000000   \n",
       "988592   1772.975474   1772.975474               0.0         0.000000   \n",
       "\n",
       "        export_general_cargo  export_roro  export_tanker  export_cargo  \\\n",
       "988529              0.000000          0.0            0.0      0.000000   \n",
       "988578              0.000000          0.0            0.0   3915.744726   \n",
       "988579            102.450893          0.0            0.0    102.450893   \n",
       "988582            493.183022          0.0            0.0    493.183022   \n",
       "988592              0.000000          0.0            0.0      0.000000   \n",
       "\n",
       "             export  ObjectId  \n",
       "988529     0.000000    988530  \n",
       "988578  3915.744726    988579  \n",
       "988579   102.450893    988580  \n",
       "988582   493.183022    988583  \n",
       "988592     0.000000    988593  \n",
       "\n",
       "[5 rows x 29 columns]"
      ]
     },
     "execution_count": 14,
     "metadata": {},
     "output_type": "execute_result"
    }
   ],
   "source": [
    "# Filter data for 2023 and 2024 still has almost 1 million rows\n",
    "data = data[(data['year'] == 2023) | (data['year'] == 2024)]\n",
    "data.head()"
   ]
  },
  {
   "cell_type": "code",
   "execution_count": 15,
   "metadata": {},
   "outputs": [
    {
     "data": {
      "text/html": [
       "<div>\n",
       "<style scoped>\n",
       "    .dataframe tbody tr th:only-of-type {\n",
       "        vertical-align: middle;\n",
       "    }\n",
       "\n",
       "    .dataframe tbody tr th {\n",
       "        vertical-align: top;\n",
       "    }\n",
       "\n",
       "    .dataframe thead th {\n",
       "        text-align: right;\n",
       "    }\n",
       "</style>\n",
       "<table border=\"1\" class=\"dataframe\">\n",
       "  <thead>\n",
       "    <tr style=\"text-align: right;\">\n",
       "      <th></th>\n",
       "      <th>year</th>\n",
       "      <th>month</th>\n",
       "      <th>day</th>\n",
       "      <th>portcalls_container</th>\n",
       "      <th>portcalls_dry_bulk</th>\n",
       "      <th>portcalls_general_cargo</th>\n",
       "      <th>portcalls_roro</th>\n",
       "      <th>portcalls_tanker</th>\n",
       "      <th>portcalls_cargo</th>\n",
       "      <th>portcalls</th>\n",
       "      <th>...</th>\n",
       "      <th>import_cargo</th>\n",
       "      <th>import</th>\n",
       "      <th>export_container</th>\n",
       "      <th>export_dry_bulk</th>\n",
       "      <th>export_general_cargo</th>\n",
       "      <th>export_roro</th>\n",
       "      <th>export_tanker</th>\n",
       "      <th>export_cargo</th>\n",
       "      <th>export</th>\n",
       "      <th>ObjectId</th>\n",
       "    </tr>\n",
       "  </thead>\n",
       "  <tbody>\n",
       "    <tr>\n",
       "      <th>count</th>\n",
       "      <td>1.091574e+06</td>\n",
       "      <td>1.091574e+06</td>\n",
       "      <td>1.091574e+06</td>\n",
       "      <td>1.091574e+06</td>\n",
       "      <td>1.091574e+06</td>\n",
       "      <td>1.091574e+06</td>\n",
       "      <td>1.091574e+06</td>\n",
       "      <td>1.091574e+06</td>\n",
       "      <td>1.091574e+06</td>\n",
       "      <td>1.091574e+06</td>\n",
       "      <td>...</td>\n",
       "      <td>1.091574e+06</td>\n",
       "      <td>1.091574e+06</td>\n",
       "      <td>1.091574e+06</td>\n",
       "      <td>1.091574e+06</td>\n",
       "      <td>1.091574e+06</td>\n",
       "      <td>1.091574e+06</td>\n",
       "      <td>1.091574e+06</td>\n",
       "      <td>1.091574e+06</td>\n",
       "      <td>1.091574e+06</td>\n",
       "      <td>1.091574e+06</td>\n",
       "    </tr>\n",
       "    <tr>\n",
       "      <th>mean</th>\n",
       "      <td>2.023452e+03</td>\n",
       "      <td>6.042042e+00</td>\n",
       "      <td>1.565465e+01</td>\n",
       "      <td>7.711415e-01</td>\n",
       "      <td>4.044517e-01</td>\n",
       "      <td>6.034240e-01</td>\n",
       "      <td>9.240968e-02</td>\n",
       "      <td>8.126650e-01</td>\n",
       "      <td>1.871427e+00</td>\n",
       "      <td>2.684092e+00</td>\n",
       "      <td>...</td>\n",
       "      <td>6.161847e+03</td>\n",
       "      <td>8.726083e+03</td>\n",
       "      <td>1.845609e+03</td>\n",
       "      <td>3.893758e+03</td>\n",
       "      <td>4.633080e+02</td>\n",
       "      <td>7.639668e+01</td>\n",
       "      <td>2.340056e+03</td>\n",
       "      <td>6.279072e+03</td>\n",
       "      <td>8.619128e+03</td>\n",
       "      <td>1.743807e+06</td>\n",
       "    </tr>\n",
       "    <tr>\n",
       "      <th>std</th>\n",
       "      <td>4.976863e-01</td>\n",
       "      <td>3.233837e+00</td>\n",
       "      <td>8.764573e+00</td>\n",
       "      <td>2.770865e+00</td>\n",
       "      <td>1.104567e+00</td>\n",
       "      <td>1.466427e+00</td>\n",
       "      <td>4.432009e-01</td>\n",
       "      <td>2.622232e+00</td>\n",
       "      <td>4.335827e+00</td>\n",
       "      <td>6.169630e+00</td>\n",
       "      <td>...</td>\n",
       "      <td>2.325420e+04</td>\n",
       "      <td>3.072752e+04</td>\n",
       "      <td>1.104539e+04</td>\n",
       "      <td>2.956286e+04</td>\n",
       "      <td>1.944667e+03</td>\n",
       "      <td>7.207486e+02</td>\n",
       "      <td>1.389936e+04</td>\n",
       "      <td>3.240826e+04</td>\n",
       "      <td>3.654342e+04</td>\n",
       "      <td>1.006366e+06</td>\n",
       "    </tr>\n",
       "    <tr>\n",
       "      <th>min</th>\n",
       "      <td>2.023000e+03</td>\n",
       "      <td>1.000000e+00</td>\n",
       "      <td>1.000000e+00</td>\n",
       "      <td>0.000000e+00</td>\n",
       "      <td>0.000000e+00</td>\n",
       "      <td>0.000000e+00</td>\n",
       "      <td>0.000000e+00</td>\n",
       "      <td>0.000000e+00</td>\n",
       "      <td>0.000000e+00</td>\n",
       "      <td>0.000000e+00</td>\n",
       "      <td>...</td>\n",
       "      <td>0.000000e+00</td>\n",
       "      <td>0.000000e+00</td>\n",
       "      <td>0.000000e+00</td>\n",
       "      <td>0.000000e+00</td>\n",
       "      <td>0.000000e+00</td>\n",
       "      <td>0.000000e+00</td>\n",
       "      <td>0.000000e+00</td>\n",
       "      <td>0.000000e+00</td>\n",
       "      <td>0.000000e+00</td>\n",
       "      <td>1.253000e+03</td>\n",
       "    </tr>\n",
       "    <tr>\n",
       "      <th>25%</th>\n",
       "      <td>2.023000e+03</td>\n",
       "      <td>3.000000e+00</td>\n",
       "      <td>8.000000e+00</td>\n",
       "      <td>0.000000e+00</td>\n",
       "      <td>0.000000e+00</td>\n",
       "      <td>0.000000e+00</td>\n",
       "      <td>0.000000e+00</td>\n",
       "      <td>0.000000e+00</td>\n",
       "      <td>0.000000e+00</td>\n",
       "      <td>0.000000e+00</td>\n",
       "      <td>...</td>\n",
       "      <td>0.000000e+00</td>\n",
       "      <td>0.000000e+00</td>\n",
       "      <td>0.000000e+00</td>\n",
       "      <td>0.000000e+00</td>\n",
       "      <td>0.000000e+00</td>\n",
       "      <td>0.000000e+00</td>\n",
       "      <td>0.000000e+00</td>\n",
       "      <td>0.000000e+00</td>\n",
       "      <td>0.000000e+00</td>\n",
       "      <td>8.719042e+05</td>\n",
       "    </tr>\n",
       "    <tr>\n",
       "      <th>50%</th>\n",
       "      <td>2.023000e+03</td>\n",
       "      <td>6.000000e+00</td>\n",
       "      <td>1.600000e+01</td>\n",
       "      <td>0.000000e+00</td>\n",
       "      <td>0.000000e+00</td>\n",
       "      <td>0.000000e+00</td>\n",
       "      <td>0.000000e+00</td>\n",
       "      <td>0.000000e+00</td>\n",
       "      <td>0.000000e+00</td>\n",
       "      <td>1.000000e+00</td>\n",
       "      <td>...</td>\n",
       "      <td>0.000000e+00</td>\n",
       "      <td>0.000000e+00</td>\n",
       "      <td>0.000000e+00</td>\n",
       "      <td>0.000000e+00</td>\n",
       "      <td>0.000000e+00</td>\n",
       "      <td>0.000000e+00</td>\n",
       "      <td>0.000000e+00</td>\n",
       "      <td>0.000000e+00</td>\n",
       "      <td>0.000000e+00</td>\n",
       "      <td>1.743808e+06</td>\n",
       "    </tr>\n",
       "    <tr>\n",
       "      <th>75%</th>\n",
       "      <td>2.024000e+03</td>\n",
       "      <td>9.000000e+00</td>\n",
       "      <td>2.300000e+01</td>\n",
       "      <td>0.000000e+00</td>\n",
       "      <td>0.000000e+00</td>\n",
       "      <td>1.000000e+00</td>\n",
       "      <td>0.000000e+00</td>\n",
       "      <td>1.000000e+00</td>\n",
       "      <td>2.000000e+00</td>\n",
       "      <td>3.000000e+00</td>\n",
       "      <td>...</td>\n",
       "      <td>1.553936e+03</td>\n",
       "      <td>3.457265e+03</td>\n",
       "      <td>0.000000e+00</td>\n",
       "      <td>0.000000e+00</td>\n",
       "      <td>0.000000e+00</td>\n",
       "      <td>0.000000e+00</td>\n",
       "      <td>0.000000e+00</td>\n",
       "      <td>1.103170e+03</td>\n",
       "      <td>2.707438e+03</td>\n",
       "      <td>2.615711e+06</td>\n",
       "    </tr>\n",
       "    <tr>\n",
       "      <th>max</th>\n",
       "      <td>2.024000e+03</td>\n",
       "      <td>1.200000e+01</td>\n",
       "      <td>3.100000e+01</td>\n",
       "      <td>6.600000e+01</td>\n",
       "      <td>4.600000e+01</td>\n",
       "      <td>3.900000e+01</td>\n",
       "      <td>1.200000e+01</td>\n",
       "      <td>1.300000e+02</td>\n",
       "      <td>1.380000e+02</td>\n",
       "      <td>2.180000e+02</td>\n",
       "      <td>...</td>\n",
       "      <td>6.647844e+05</td>\n",
       "      <td>8.784747e+05</td>\n",
       "      <td>4.484983e+05</td>\n",
       "      <td>1.663924e+06</td>\n",
       "      <td>7.889184e+04</td>\n",
       "      <td>3.996245e+04</td>\n",
       "      <td>1.211276e+06</td>\n",
       "      <td>1.668492e+06</td>\n",
       "      <td>1.668492e+06</td>\n",
       "      <td>3.486153e+06</td>\n",
       "    </tr>\n",
       "  </tbody>\n",
       "</table>\n",
       "<p>8 rows × 25 columns</p>\n",
       "</div>"
      ],
      "text/plain": [
       "               year         month           day  portcalls_container  \\\n",
       "count  1.091574e+06  1.091574e+06  1.091574e+06         1.091574e+06   \n",
       "mean   2.023452e+03  6.042042e+00  1.565465e+01         7.711415e-01   \n",
       "std    4.976863e-01  3.233837e+00  8.764573e+00         2.770865e+00   \n",
       "min    2.023000e+03  1.000000e+00  1.000000e+00         0.000000e+00   \n",
       "25%    2.023000e+03  3.000000e+00  8.000000e+00         0.000000e+00   \n",
       "50%    2.023000e+03  6.000000e+00  1.600000e+01         0.000000e+00   \n",
       "75%    2.024000e+03  9.000000e+00  2.300000e+01         0.000000e+00   \n",
       "max    2.024000e+03  1.200000e+01  3.100000e+01         6.600000e+01   \n",
       "\n",
       "       portcalls_dry_bulk  portcalls_general_cargo  portcalls_roro  \\\n",
       "count        1.091574e+06             1.091574e+06    1.091574e+06   \n",
       "mean         4.044517e-01             6.034240e-01    9.240968e-02   \n",
       "std          1.104567e+00             1.466427e+00    4.432009e-01   \n",
       "min          0.000000e+00             0.000000e+00    0.000000e+00   \n",
       "25%          0.000000e+00             0.000000e+00    0.000000e+00   \n",
       "50%          0.000000e+00             0.000000e+00    0.000000e+00   \n",
       "75%          0.000000e+00             1.000000e+00    0.000000e+00   \n",
       "max          4.600000e+01             3.900000e+01    1.200000e+01   \n",
       "\n",
       "       portcalls_tanker  portcalls_cargo     portcalls  ...  import_cargo  \\\n",
       "count      1.091574e+06     1.091574e+06  1.091574e+06  ...  1.091574e+06   \n",
       "mean       8.126650e-01     1.871427e+00  2.684092e+00  ...  6.161847e+03   \n",
       "std        2.622232e+00     4.335827e+00  6.169630e+00  ...  2.325420e+04   \n",
       "min        0.000000e+00     0.000000e+00  0.000000e+00  ...  0.000000e+00   \n",
       "25%        0.000000e+00     0.000000e+00  0.000000e+00  ...  0.000000e+00   \n",
       "50%        0.000000e+00     0.000000e+00  1.000000e+00  ...  0.000000e+00   \n",
       "75%        1.000000e+00     2.000000e+00  3.000000e+00  ...  1.553936e+03   \n",
       "max        1.300000e+02     1.380000e+02  2.180000e+02  ...  6.647844e+05   \n",
       "\n",
       "             import  export_container  export_dry_bulk  export_general_cargo  \\\n",
       "count  1.091574e+06      1.091574e+06     1.091574e+06          1.091574e+06   \n",
       "mean   8.726083e+03      1.845609e+03     3.893758e+03          4.633080e+02   \n",
       "std    3.072752e+04      1.104539e+04     2.956286e+04          1.944667e+03   \n",
       "min    0.000000e+00      0.000000e+00     0.000000e+00          0.000000e+00   \n",
       "25%    0.000000e+00      0.000000e+00     0.000000e+00          0.000000e+00   \n",
       "50%    0.000000e+00      0.000000e+00     0.000000e+00          0.000000e+00   \n",
       "75%    3.457265e+03      0.000000e+00     0.000000e+00          0.000000e+00   \n",
       "max    8.784747e+05      4.484983e+05     1.663924e+06          7.889184e+04   \n",
       "\n",
       "        export_roro  export_tanker  export_cargo        export      ObjectId  \n",
       "count  1.091574e+06   1.091574e+06  1.091574e+06  1.091574e+06  1.091574e+06  \n",
       "mean   7.639668e+01   2.340056e+03  6.279072e+03  8.619128e+03  1.743807e+06  \n",
       "std    7.207486e+02   1.389936e+04  3.240826e+04  3.654342e+04  1.006366e+06  \n",
       "min    0.000000e+00   0.000000e+00  0.000000e+00  0.000000e+00  1.253000e+03  \n",
       "25%    0.000000e+00   0.000000e+00  0.000000e+00  0.000000e+00  8.719042e+05  \n",
       "50%    0.000000e+00   0.000000e+00  0.000000e+00  0.000000e+00  1.743808e+06  \n",
       "75%    0.000000e+00   0.000000e+00  1.103170e+03  2.707438e+03  2.615711e+06  \n",
       "max    3.996245e+04   1.211276e+06  1.668492e+06  1.668492e+06  3.486153e+06  \n",
       "\n",
       "[8 rows x 25 columns]"
      ]
     },
     "execution_count": 15,
     "metadata": {},
     "output_type": "execute_result"
    }
   ],
   "source": [
    "data.describe()"
   ]
  },
  {
   "cell_type": "code",
   "execution_count": 12,
   "metadata": {},
   "outputs": [
    {
     "name": "stdout",
     "output_type": "stream",
     "text": [
      "               count           mean            std          min  \\\n",
      "portname                                                          \n",
      "Dampier       2127.0  259765.881479  101446.040587     0.000000   \n",
      "Port Hedland  2127.0  875354.800914  212276.022018     0.000000   \n",
      "Port Walcott  2127.0  298384.210023  126374.577803     0.000000   \n",
      "Shanghai      2127.0  269402.535303  119659.605161     0.000000   \n",
      "Singapore     2127.0  336867.829316   83243.986805  4432.272976   \n",
      "\n",
      "                        25%            50%           75%           max  \n",
      "portname                                                                \n",
      "Dampier       207878.665752  255587.300147  3.421543e+05  7.183393e+05  \n",
      "Port Hedland  744376.145807  882580.701845  1.010520e+06  1.732930e+06  \n",
      "Port Walcott  223048.798873  315811.413184  3.698316e+05  7.852084e+05  \n",
      "Shanghai      193524.257242  251354.339886  3.228224e+05  1.113071e+06  \n",
      "Singapore     279691.332829  326197.026692  3.820433e+05  1.053735e+06  \n"
     ]
    }
   ],
   "source": [
    "# Filter data for the top 5 ports\n",
    "top_ports_data = data[data['portname'].isin(top_ports)]\n",
    "\n",
    "# Create summary statistics for the top 5 exports\n",
    "summary_statistics = top_ports_data.groupby('portname')['export'].describe()\n",
    "print(summary_statistics)"
   ]
  },
  {
   "cell_type": "code",
   "execution_count": null,
   "metadata": {},
   "outputs": [],
   "source": []
  },
  {
   "cell_type": "code",
   "execution_count": 34,
   "metadata": {},
   "outputs": [
    {
     "data": {
      "application/vnd.plotly.v1+json": {
       "config": {
        "plotlyServerURL": "https://plot.ly"
       },
       "data": [
        {
         "hovertemplate": "country=Australia<br>Month=%{x}<br>Export Value=%{y}<extra></extra>",
         "legendgroup": "Australia",
         "line": {
          "color": "#636efa",
          "dash": "solid"
         },
         "marker": {
          "symbol": "circle"
         },
         "mode": "lines",
         "name": "Australia",
         "orientation": "v",
         "showlegend": true,
         "textposition": "top center",
         "type": "scatter",
         "x": [
          1,
          2,
          3,
          4,
          5,
          6,
          7,
          8,
          9,
          10
         ],
         "xaxis": "x",
         "y": [
          64313505.53368538,
          60317285.46205232,
          68544122.2962013,
          65288314.181194544,
          68781312.75232244,
          72067154.98084132,
          62342265.997740164,
          66577155.81069812,
          68148434.1176295,
          56508891.64601883
         ],
         "yaxis": "y"
        },
        {
         "hovertemplate": "country=Brazil<br>Month=%{x}<br>Export Value=%{y}<extra></extra>",
         "legendgroup": "Brazil",
         "line": {
          "color": "#EF553B",
          "dash": "solid"
         },
         "marker": {
          "symbol": "circle"
         },
         "mode": "lines",
         "name": "Brazil",
         "orientation": "v",
         "showlegend": true,
         "textposition": "top center",
         "type": "scatter",
         "x": [
          1,
          2,
          3,
          4,
          5,
          6,
          7,
          8,
          9,
          10
         ],
         "xaxis": "x",
         "y": [
          23819348.396486044,
          24971778.587206513,
          25744256.828861203,
          28308040.404856294,
          27359109.417418662,
          28733182.851849448,
          27571654.405279513,
          31279644.973211434,
          28061397.427243467,
          22179732.19609083
         ],
         "yaxis": "y"
        },
        {
         "hovertemplate": "country=China<br>Month=%{x}<br>Export Value=%{y}<extra></extra>",
         "legendgroup": "China",
         "line": {
          "color": "#00cc96",
          "dash": "solid"
         },
         "marker": {
          "symbol": "circle"
         },
         "mode": "lines",
         "name": "China",
         "orientation": "v",
         "showlegend": true,
         "textposition": "top center",
         "type": "scatter",
         "x": [
          1,
          2,
          3,
          4,
          5,
          6,
          7,
          8,
          9,
          10
         ],
         "xaxis": "x",
         "y": [
          58789311.42554663,
          44643317.183972776,
          63676515.85468514,
          57554377.591352455,
          66375520.87601112,
          67111118.2782796,
          59303277.94210181,
          52043414.309470676,
          46757221.28869653,
          41562440.164033905
         ],
         "yaxis": "y"
        },
        {
         "hovertemplate": "country=India<br>Month=%{x}<br>Export Value=%{y}<extra></extra>",
         "legendgroup": "India",
         "line": {
          "color": "#ab63fa",
          "dash": "solid"
         },
         "marker": {
          "symbol": "circle"
         },
         "mode": "lines",
         "name": "India",
         "orientation": "v",
         "showlegend": true,
         "textposition": "top center",
         "type": "scatter",
         "x": [
          1,
          2,
          3,
          4,
          5,
          6,
          7,
          8,
          9,
          10
         ],
         "xaxis": "x",
         "y": [
          10821969.593901541,
          9497830.908385709,
          10361505.555724857,
          9218862.478105195,
          10240639.08378598,
          10326259.65389359,
          8985586.004953373,
          7899737.540932928,
          7990671.187164434,
          7399665.109620664
         ],
         "yaxis": "y"
        },
        {
         "hovertemplate": "country=Korea<br>Month=%{x}<br>Export Value=%{y}<extra></extra>",
         "legendgroup": "Korea",
         "line": {
          "color": "#FFA15A",
          "dash": "solid"
         },
         "marker": {
          "symbol": "circle"
         },
         "mode": "lines",
         "name": "Korea",
         "orientation": "v",
         "showlegend": true,
         "textposition": "top center",
         "type": "scatter",
         "x": [
          1,
          2,
          3,
          4,
          5,
          6,
          7,
          8,
          9,
          10
         ],
         "xaxis": "x",
         "y": [
          8569147.066882273,
          8129053.744816613,
          9758899.44818563,
          9038811.476217391,
          9714845.324637245,
          8493785.250025984,
          8757404.998895885,
          7495726.5335859265,
          7127674.514798084,
          6072565.698093681
         ],
         "yaxis": "y"
        },
        {
         "hovertemplate": "country=Russian Federation<br>Month=%{x}<br>Export Value=%{y}<extra></extra>",
         "legendgroup": "Russian Federation",
         "line": {
          "color": "#19d3f3",
          "dash": "solid"
         },
         "marker": {
          "symbol": "circle"
         },
         "mode": "lines",
         "name": "Russian Federation",
         "orientation": "v",
         "showlegend": true,
         "textposition": "top center",
         "type": "scatter",
         "x": [
          1,
          2,
          3,
          4,
          5,
          6,
          7,
          8,
          9,
          10
         ],
         "xaxis": "x",
         "y": [
          19727439.754487332,
          18211275.95758728,
          19028909.094982184,
          18763160.78163654,
          18563821.596432403,
          16147896.852411762,
          15436103.92321779,
          14702901.01978685,
          15235786.482923513,
          13114930.951165512
         ],
         "yaxis": "y"
        },
        {
         "hovertemplate": "country=Saudi Arabia<br>Month=%{x}<br>Export Value=%{y}<extra></extra>",
         "legendgroup": "Saudi Arabia",
         "line": {
          "color": "#FF6692",
          "dash": "solid"
         },
         "marker": {
          "symbol": "circle"
         },
         "mode": "lines",
         "name": "Saudi Arabia",
         "orientation": "v",
         "showlegend": true,
         "textposition": "top center",
         "type": "scatter",
         "x": [
          1,
          2,
          3,
          4,
          5,
          6,
          7,
          8,
          9,
          10
         ],
         "xaxis": "x",
         "y": [
          10392450.514126688,
          9302380.637262337,
          16330761.350126913,
          13906223.532640638,
          14939069.964547811,
          14706461.550575128,
          14361487.326091565,
          15365608.17722941,
          14541383.0537845,
          12668197.40766718
         ],
         "yaxis": "y"
        },
        {
         "hovertemplate": "country=Singapore<br>Month=%{x}<br>Export Value=%{y}<extra></extra>",
         "legendgroup": "Singapore",
         "line": {
          "color": "#B6E880",
          "dash": "solid"
         },
         "marker": {
          "symbol": "circle"
         },
         "mode": "lines",
         "name": "Singapore",
         "orientation": "v",
         "showlegend": true,
         "textposition": "top center",
         "type": "scatter",
         "x": [
          1,
          2,
          3,
          4,
          5,
          6,
          7,
          8,
          9,
          10
         ],
         "xaxis": "x",
         "y": [
          9960698.648393774,
          9528453.237661637,
          10417708.713615227,
          9087944.948527742,
          9407290.240965264,
          9094342.621062255,
          8674455.256561296,
          8848930.177384451,
          8763376.153226698,
          8085959.518900281
         ],
         "yaxis": "y"
        },
        {
         "hovertemplate": "country=United Arab Emirates<br>Month=%{x}<br>Export Value=%{y}<extra></extra>",
         "legendgroup": "United Arab Emirates",
         "line": {
          "color": "#FF97FF",
          "dash": "solid"
         },
         "marker": {
          "symbol": "circle"
         },
         "mode": "lines",
         "name": "United Arab Emirates",
         "orientation": "v",
         "showlegend": true,
         "textposition": "top center",
         "type": "scatter",
         "x": [
          1,
          2,
          3,
          4,
          5,
          6,
          7,
          8,
          9,
          10
         ],
         "xaxis": "x",
         "y": [
          9670404.540772416,
          8346430.034594014,
          11415340.68903433,
          9807161.571766863,
          9855781.899023278,
          10346422.559204992,
          8808163.80025438,
          10049676.451421225,
          10899749.688494122,
          7725680.429481323
         ],
         "yaxis": "y"
        },
        {
         "hovertemplate": "country=United States<br>Month=%{x}<br>Export Value=%{y}<extra></extra>",
         "legendgroup": "United States",
         "line": {
          "color": "#FECB52",
          "dash": "solid"
         },
         "marker": {
          "symbol": "circle"
         },
         "mode": "lines",
         "name": "United States",
         "orientation": "v",
         "showlegend": true,
         "textposition": "top center",
         "type": "scatter",
         "x": [
          1,
          2,
          3,
          4,
          5,
          6,
          7,
          8,
          9,
          10
         ],
         "xaxis": "x",
         "y": [
          32740503.93315675,
          31189047.6538268,
          35073582.27480718,
          30134626.935581066,
          31828844.26676375,
          31246215.760397423,
          31108950.545965366,
          31064152.17867434,
          30911926.715777125,
          27280762.27621111
         ],
         "yaxis": "y"
        }
       ],
       "layout": {
        "legend": {
         "title": {
          "text": "country"
         },
         "tracegroupgap": 0
        },
        "template": {
         "data": {
          "bar": [
           {
            "error_x": {
             "color": "#2a3f5f"
            },
            "error_y": {
             "color": "#2a3f5f"
            },
            "marker": {
             "line": {
              "color": "#E5ECF6",
              "width": 0.5
             },
             "pattern": {
              "fillmode": "overlay",
              "size": 10,
              "solidity": 0.2
             }
            },
            "type": "bar"
           }
          ],
          "barpolar": [
           {
            "marker": {
             "line": {
              "color": "#E5ECF6",
              "width": 0.5
             },
             "pattern": {
              "fillmode": "overlay",
              "size": 10,
              "solidity": 0.2
             }
            },
            "type": "barpolar"
           }
          ],
          "carpet": [
           {
            "aaxis": {
             "endlinecolor": "#2a3f5f",
             "gridcolor": "white",
             "linecolor": "white",
             "minorgridcolor": "white",
             "startlinecolor": "#2a3f5f"
            },
            "baxis": {
             "endlinecolor": "#2a3f5f",
             "gridcolor": "white",
             "linecolor": "white",
             "minorgridcolor": "white",
             "startlinecolor": "#2a3f5f"
            },
            "type": "carpet"
           }
          ],
          "choropleth": [
           {
            "colorbar": {
             "outlinewidth": 0,
             "ticks": ""
            },
            "type": "choropleth"
           }
          ],
          "contour": [
           {
            "colorbar": {
             "outlinewidth": 0,
             "ticks": ""
            },
            "colorscale": [
             [
              0,
              "#0d0887"
             ],
             [
              0.1111111111111111,
              "#46039f"
             ],
             [
              0.2222222222222222,
              "#7201a8"
             ],
             [
              0.3333333333333333,
              "#9c179e"
             ],
             [
              0.4444444444444444,
              "#bd3786"
             ],
             [
              0.5555555555555556,
              "#d8576b"
             ],
             [
              0.6666666666666666,
              "#ed7953"
             ],
             [
              0.7777777777777778,
              "#fb9f3a"
             ],
             [
              0.8888888888888888,
              "#fdca26"
             ],
             [
              1,
              "#f0f921"
             ]
            ],
            "type": "contour"
           }
          ],
          "contourcarpet": [
           {
            "colorbar": {
             "outlinewidth": 0,
             "ticks": ""
            },
            "type": "contourcarpet"
           }
          ],
          "heatmap": [
           {
            "colorbar": {
             "outlinewidth": 0,
             "ticks": ""
            },
            "colorscale": [
             [
              0,
              "#0d0887"
             ],
             [
              0.1111111111111111,
              "#46039f"
             ],
             [
              0.2222222222222222,
              "#7201a8"
             ],
             [
              0.3333333333333333,
              "#9c179e"
             ],
             [
              0.4444444444444444,
              "#bd3786"
             ],
             [
              0.5555555555555556,
              "#d8576b"
             ],
             [
              0.6666666666666666,
              "#ed7953"
             ],
             [
              0.7777777777777778,
              "#fb9f3a"
             ],
             [
              0.8888888888888888,
              "#fdca26"
             ],
             [
              1,
              "#f0f921"
             ]
            ],
            "type": "heatmap"
           }
          ],
          "heatmapgl": [
           {
            "colorbar": {
             "outlinewidth": 0,
             "ticks": ""
            },
            "colorscale": [
             [
              0,
              "#0d0887"
             ],
             [
              0.1111111111111111,
              "#46039f"
             ],
             [
              0.2222222222222222,
              "#7201a8"
             ],
             [
              0.3333333333333333,
              "#9c179e"
             ],
             [
              0.4444444444444444,
              "#bd3786"
             ],
             [
              0.5555555555555556,
              "#d8576b"
             ],
             [
              0.6666666666666666,
              "#ed7953"
             ],
             [
              0.7777777777777778,
              "#fb9f3a"
             ],
             [
              0.8888888888888888,
              "#fdca26"
             ],
             [
              1,
              "#f0f921"
             ]
            ],
            "type": "heatmapgl"
           }
          ],
          "histogram": [
           {
            "marker": {
             "pattern": {
              "fillmode": "overlay",
              "size": 10,
              "solidity": 0.2
             }
            },
            "type": "histogram"
           }
          ],
          "histogram2d": [
           {
            "colorbar": {
             "outlinewidth": 0,
             "ticks": ""
            },
            "colorscale": [
             [
              0,
              "#0d0887"
             ],
             [
              0.1111111111111111,
              "#46039f"
             ],
             [
              0.2222222222222222,
              "#7201a8"
             ],
             [
              0.3333333333333333,
              "#9c179e"
             ],
             [
              0.4444444444444444,
              "#bd3786"
             ],
             [
              0.5555555555555556,
              "#d8576b"
             ],
             [
              0.6666666666666666,
              "#ed7953"
             ],
             [
              0.7777777777777778,
              "#fb9f3a"
             ],
             [
              0.8888888888888888,
              "#fdca26"
             ],
             [
              1,
              "#f0f921"
             ]
            ],
            "type": "histogram2d"
           }
          ],
          "histogram2dcontour": [
           {
            "colorbar": {
             "outlinewidth": 0,
             "ticks": ""
            },
            "colorscale": [
             [
              0,
              "#0d0887"
             ],
             [
              0.1111111111111111,
              "#46039f"
             ],
             [
              0.2222222222222222,
              "#7201a8"
             ],
             [
              0.3333333333333333,
              "#9c179e"
             ],
             [
              0.4444444444444444,
              "#bd3786"
             ],
             [
              0.5555555555555556,
              "#d8576b"
             ],
             [
              0.6666666666666666,
              "#ed7953"
             ],
             [
              0.7777777777777778,
              "#fb9f3a"
             ],
             [
              0.8888888888888888,
              "#fdca26"
             ],
             [
              1,
              "#f0f921"
             ]
            ],
            "type": "histogram2dcontour"
           }
          ],
          "mesh3d": [
           {
            "colorbar": {
             "outlinewidth": 0,
             "ticks": ""
            },
            "type": "mesh3d"
           }
          ],
          "parcoords": [
           {
            "line": {
             "colorbar": {
              "outlinewidth": 0,
              "ticks": ""
             }
            },
            "type": "parcoords"
           }
          ],
          "pie": [
           {
            "automargin": true,
            "type": "pie"
           }
          ],
          "scatter": [
           {
            "fillpattern": {
             "fillmode": "overlay",
             "size": 10,
             "solidity": 0.2
            },
            "type": "scatter"
           }
          ],
          "scatter3d": [
           {
            "line": {
             "colorbar": {
              "outlinewidth": 0,
              "ticks": ""
             }
            },
            "marker": {
             "colorbar": {
              "outlinewidth": 0,
              "ticks": ""
             }
            },
            "type": "scatter3d"
           }
          ],
          "scattercarpet": [
           {
            "marker": {
             "colorbar": {
              "outlinewidth": 0,
              "ticks": ""
             }
            },
            "type": "scattercarpet"
           }
          ],
          "scattergeo": [
           {
            "marker": {
             "colorbar": {
              "outlinewidth": 0,
              "ticks": ""
             }
            },
            "type": "scattergeo"
           }
          ],
          "scattergl": [
           {
            "marker": {
             "colorbar": {
              "outlinewidth": 0,
              "ticks": ""
             }
            },
            "type": "scattergl"
           }
          ],
          "scattermapbox": [
           {
            "marker": {
             "colorbar": {
              "outlinewidth": 0,
              "ticks": ""
             }
            },
            "type": "scattermapbox"
           }
          ],
          "scatterpolar": [
           {
            "marker": {
             "colorbar": {
              "outlinewidth": 0,
              "ticks": ""
             }
            },
            "type": "scatterpolar"
           }
          ],
          "scatterpolargl": [
           {
            "marker": {
             "colorbar": {
              "outlinewidth": 0,
              "ticks": ""
             }
            },
            "type": "scatterpolargl"
           }
          ],
          "scatterternary": [
           {
            "marker": {
             "colorbar": {
              "outlinewidth": 0,
              "ticks": ""
             }
            },
            "type": "scatterternary"
           }
          ],
          "surface": [
           {
            "colorbar": {
             "outlinewidth": 0,
             "ticks": ""
            },
            "colorscale": [
             [
              0,
              "#0d0887"
             ],
             [
              0.1111111111111111,
              "#46039f"
             ],
             [
              0.2222222222222222,
              "#7201a8"
             ],
             [
              0.3333333333333333,
              "#9c179e"
             ],
             [
              0.4444444444444444,
              "#bd3786"
             ],
             [
              0.5555555555555556,
              "#d8576b"
             ],
             [
              0.6666666666666666,
              "#ed7953"
             ],
             [
              0.7777777777777778,
              "#fb9f3a"
             ],
             [
              0.8888888888888888,
              "#fdca26"
             ],
             [
              1,
              "#f0f921"
             ]
            ],
            "type": "surface"
           }
          ],
          "table": [
           {
            "cells": {
             "fill": {
              "color": "#EBF0F8"
             },
             "line": {
              "color": "white"
             }
            },
            "header": {
             "fill": {
              "color": "#C8D4E3"
             },
             "line": {
              "color": "white"
             }
            },
            "type": "table"
           }
          ]
         },
         "layout": {
          "annotationdefaults": {
           "arrowcolor": "#2a3f5f",
           "arrowhead": 0,
           "arrowwidth": 1
          },
          "autotypenumbers": "strict",
          "coloraxis": {
           "colorbar": {
            "outlinewidth": 0,
            "ticks": ""
           }
          },
          "colorscale": {
           "diverging": [
            [
             0,
             "#8e0152"
            ],
            [
             0.1,
             "#c51b7d"
            ],
            [
             0.2,
             "#de77ae"
            ],
            [
             0.3,
             "#f1b6da"
            ],
            [
             0.4,
             "#fde0ef"
            ],
            [
             0.5,
             "#f7f7f7"
            ],
            [
             0.6,
             "#e6f5d0"
            ],
            [
             0.7,
             "#b8e186"
            ],
            [
             0.8,
             "#7fbc41"
            ],
            [
             0.9,
             "#4d9221"
            ],
            [
             1,
             "#276419"
            ]
           ],
           "sequential": [
            [
             0,
             "#0d0887"
            ],
            [
             0.1111111111111111,
             "#46039f"
            ],
            [
             0.2222222222222222,
             "#7201a8"
            ],
            [
             0.3333333333333333,
             "#9c179e"
            ],
            [
             0.4444444444444444,
             "#bd3786"
            ],
            [
             0.5555555555555556,
             "#d8576b"
            ],
            [
             0.6666666666666666,
             "#ed7953"
            ],
            [
             0.7777777777777778,
             "#fb9f3a"
            ],
            [
             0.8888888888888888,
             "#fdca26"
            ],
            [
             1,
             "#f0f921"
            ]
           ],
           "sequentialminus": [
            [
             0,
             "#0d0887"
            ],
            [
             0.1111111111111111,
             "#46039f"
            ],
            [
             0.2222222222222222,
             "#7201a8"
            ],
            [
             0.3333333333333333,
             "#9c179e"
            ],
            [
             0.4444444444444444,
             "#bd3786"
            ],
            [
             0.5555555555555556,
             "#d8576b"
            ],
            [
             0.6666666666666666,
             "#ed7953"
            ],
            [
             0.7777777777777778,
             "#fb9f3a"
            ],
            [
             0.8888888888888888,
             "#fdca26"
            ],
            [
             1,
             "#f0f921"
            ]
           ]
          },
          "colorway": [
           "#636efa",
           "#EF553B",
           "#00cc96",
           "#ab63fa",
           "#FFA15A",
           "#19d3f3",
           "#FF6692",
           "#B6E880",
           "#FF97FF",
           "#FECB52"
          ],
          "font": {
           "color": "#2a3f5f"
          },
          "geo": {
           "bgcolor": "white",
           "lakecolor": "white",
           "landcolor": "#E5ECF6",
           "showlakes": true,
           "showland": true,
           "subunitcolor": "white"
          },
          "hoverlabel": {
           "align": "left"
          },
          "hovermode": "closest",
          "mapbox": {
           "style": "light"
          },
          "paper_bgcolor": "white",
          "plot_bgcolor": "#E5ECF6",
          "polar": {
           "angularaxis": {
            "gridcolor": "white",
            "linecolor": "white",
            "ticks": ""
           },
           "bgcolor": "#E5ECF6",
           "radialaxis": {
            "gridcolor": "white",
            "linecolor": "white",
            "ticks": ""
           }
          },
          "scene": {
           "xaxis": {
            "backgroundcolor": "#E5ECF6",
            "gridcolor": "white",
            "gridwidth": 2,
            "linecolor": "white",
            "showbackground": true,
            "ticks": "",
            "zerolinecolor": "white"
           },
           "yaxis": {
            "backgroundcolor": "#E5ECF6",
            "gridcolor": "white",
            "gridwidth": 2,
            "linecolor": "white",
            "showbackground": true,
            "ticks": "",
            "zerolinecolor": "white"
           },
           "zaxis": {
            "backgroundcolor": "#E5ECF6",
            "gridcolor": "white",
            "gridwidth": 2,
            "linecolor": "white",
            "showbackground": true,
            "ticks": "",
            "zerolinecolor": "white"
           }
          },
          "shapedefaults": {
           "line": {
            "color": "#2a3f5f"
           }
          },
          "ternary": {
           "aaxis": {
            "gridcolor": "white",
            "linecolor": "white",
            "ticks": ""
           },
           "baxis": {
            "gridcolor": "white",
            "linecolor": "white",
            "ticks": ""
           },
           "bgcolor": "#E5ECF6",
           "caxis": {
            "gridcolor": "white",
            "linecolor": "white",
            "ticks": ""
           }
          },
          "title": {
           "x": 0.05
          },
          "xaxis": {
           "automargin": true,
           "gridcolor": "white",
           "linecolor": "white",
           "ticks": "",
           "title": {
            "standoff": 15
           },
           "zerolinecolor": "white",
           "zerolinewidth": 2
          },
          "yaxis": {
           "automargin": true,
           "gridcolor": "white",
           "linecolor": "white",
           "ticks": "",
           "title": {
            "standoff": 15
           },
           "zerolinecolor": "white",
           "zerolinewidth": 2
          }
         }
        },
        "title": {
         "text": "Exports by Country (2024)"
        },
        "xaxis": {
         "anchor": "y",
         "domain": [
          0,
          1
         ],
         "tickformat": "%m",
         "title": {
          "text": "Month"
         }
        },
        "yaxis": {
         "anchor": "x",
         "domain": [
          0,
          1
         ],
         "title": {
          "text": "Export Value"
         }
        }
       }
      }
     },
     "metadata": {},
     "output_type": "display_data"
    }
   ],
   "source": [
    "import plotly.express as px\n",
    "\n",
    "# Filter data for  2024\n",
    "filtered_data = data[(data['year'] == 2024)]\n",
    "\n",
    "# Group by country, year, and month, and sum the exports\n",
    "grouped_data = filtered_data.groupby(['country', 'year', 'month'])['export'].sum().reset_index()\n",
    "\n",
    "# Create a line chart\n",
    "#fig = px.line(grouped_data, x='month', y='export', color='country', title='Exports by Country ('2024)', labels={'export': 'Export Value', 'month': 'Month'})\n",
    "# Filter for the top 10 exporting countries by total export value\n",
    "top_exporting_countries = filtered_data.groupby('country')['export'].sum().nlargest(10).index\n",
    "grouped_data = grouped_data[grouped_data['country'].isin(top_exporting_countries)]\n",
    "fig = px.line(grouped_data, x='month', y='export', color='country', title=\"Exports by Country (2024)\", labels={'export': 'Export Value', 'month': 'Month'})\n",
    "def update_fig_layout_with_date(fig):\n",
    "    fig.update_layout(xaxis=dict(title='Month', tickformat='%m'), # Format as Year-Month\n",
    "\t\t\t\t  xaxis_title='Month', \n",
    "\t\t\t\t  yaxis_title='Export Value')\n",
    "\n",
    "update_fig_layout_with_date(fig)\n",
    "fig.update_traces(textposition=\"top center\")\n",
    "\n",
    "# Show the chart\n",
    "fig.show()"
   ]
  },
  {
   "cell_type": "code",
   "execution_count": null,
   "metadata": {},
   "outputs": [
    {
     "name": "stdout",
     "output_type": "stream",
     "text": [
      "Total Port Calls: 2.6840919626154527\n",
      "Total Imports: 8726.082977572765\n",
      "Total Exports: 8619.128129423272\n"
     ]
    }
   ],
   "source": [
    "# Calculate key performance indicators\n",
    "total_port_calls = data['portcalls'].mean()\n",
    "Average_imports = data['import'].mean()\n",
    "total_exports = data['export'].sum()\n",
    "\n",
    "# Create a dictionary to store the KPIs\n",
    "kpis = {\n",
    "    'Total Port Calls': total_port_calls,\n",
    "    'Average Imports': Average_imports,\n",
    "    'Total Exports': total_exports\n",
    "}\n",
    "\n",
    "# Print the KPIs\n",
    "for kpi, value in kpis.items():\n",
    "    print(f\"{kpi}: {value}\")"
   ]
  },
  {
   "cell_type": "code",
   "execution_count": 12,
   "metadata": {},
   "outputs": [
    {
     "data": {
      "image/png": "[encoded data removed]",
      "text/plain": [
       "<Figure size 1000x600 with 1 Axes>"
      ]
     },
     "metadata": {},
     "output_type": "display_data"
    }
   ],
   "source": [
    "# pie chart of the top 10 exporters\n",
    "\n",
    "top_exporters = data.groupby('country')['export'].sum().sort_values(ascending=False).head(5)\n",
    "fig, ax = plt.subplots(figsize=(10, 6))\n",
    "ax.pie(top_exporters.values, labels=top_exporters.index, autopct='%1.1f%%', startangle=140)\n",
    "ax.set_title('Top 5 Exporters')\n",
    "plt.show()"
   ]
  },
  {
   "cell_type": "code",
   "execution_count": 10,
   "metadata": {},
   "outputs": [
    {
     "data": {
      "image/png": "[encoded data removed]",
      "text/plain": [
       "<Figure size 1000x600 with 1 Axes>"
      ]
     },
     "metadata": {},
     "output_type": "display_data"
    }
   ],
   "source": [
    "# Ensure top_importers is defined\n",
    "top_importers = data.groupby('country')['import'].sum().sort_values(ascending=False).head(10)\n",
    "\n",
    "# Ensure top_exporters is defined\n",
    "top_exporters = data.groupby('country')['export'].sum().sort_values(ascending=False).head(10)\n",
    "\n",
    "fig, ax = plt.subplots(figsize=(10, 6))\n",
    "ax.barh(top_exporters.index, top_exporters.values, alpha=0.7, label='Export')\n",
    "ax.barh(top_importers.index, top_importers.values, alpha=0.7, label='Import')\n",
    "ax.set_xlabel('Value (Billions)')\n",
    "ax.xaxis.set_major_formatter(ticker.FuncFormatter(lambda x, pos: f'{x*1e-9:.1f}B'))\n",
    "plt.xticks(rotation=45)\n",
    "ax.set_ylabel('Country')\n",
    "ax.set_title('Top 10 Exporters and Top 10 Importers')\n",
    "ax.legend()\n",
    "plt.show()"
   ]
  },
  {
   "cell_type": "code",
   "execution_count": null,
   "metadata": {},
   "outputs": [
    {
     "data": {
      "image/png": "[encoded data removed]",
      "text/plain": [
       "<Figure size 1000x600 with 1 Axes>"
      ]
     },
     "metadata": {},
     "output_type": "display_data"
    }
   ],
   "source": [
    "import matplotlib.pyplot as plt\n",
    "import numpy as np\n",
    "\n",
    "# Ensure top_importers is defined\n",
    "top_importers = data.groupby('country')['import'].sum().sort_values(ascending=False).head(10)\n",
    "\n",
    "fig, ax = plt.subplots(figsize=(10, 6))\n",
    "ax.scatter(top_importers.index, top_importers.values, alpha=0.7)\n",
    "ax.set_xlabel('Country')\n",
    "ax.set_ylabel('Import Value')\n",
    "ax.set_title('Top 10 Importers')\n",
    "plt.xticks(rotation=45)\n",
    "ax.scatter(top_importers.index, top_importers.values, color='red', alpha=0.7)\n",
    "colors = plt.cm.tab10(np.linspace(0, 1, len(top_importers)))\n",
    "for i, (country, value) in enumerate(top_importers.items()):\n",
    "    ax.scatter(country, value, color=colors[i], alpha=0.7)\n",
    "ax.legend(['Import'])\n",
    "plt.show()"
   ]
  },
  {
   "cell_type": "code",
   "execution_count": 16,
   "metadata": {},
   "outputs": [
    {
     "data": {
      "image/png": "[encoded data removed]",
      "text/plain": [
       "<Figure size 1000x600 with 1 Axes>"
      ]
     },
     "metadata": {},
     "output_type": "display_data"
    }
   ],
   "source": [
    "import matplotlib.pyplot as plt\n",
    "import numpy as np\n",
    "\n",
    "# Ensure top_importers is defined\n",
    "top_importers = data.groupby('country')['import'].sum().sort_values(ascending=False).head(10)\n",
    "fig, ax = plt.subplots(figsize=(10, 6))\n",
    "ax.barh(top_importers.index, top_importers.values, alpha=0.7, label='Import')\n",
    "ax.set_xlabel('Value (Trillions)')\n",
    "ax.xaxis.set_major_formatter(ticker.FuncFormatter(lambda x, pos: f'{x*1e-9:.1f}T'))\n",
    "plt.xticks(rotation=45)\n",
    "ax.set_ylabel('Country')\n",
    "ax.set_title('Top 10 Importers')\n",
    "ax.legend()\n",
    "plt.show()"
   ]
  },
  {
   "cell_type": "code",
   "execution_count": 19,
   "metadata": {},
   "outputs": [
    {
     "data": {
      "image/png": "[encoded data removed]",
      "text/plain": [
       "<Figure size 1000x600 with 1 Axes>"
      ]
     },
     "metadata": {},
     "output_type": "display_data"
    }
   ],
   "source": [
    "import matplotlib.pyplot as plt\n",
    "import numpy as np\n",
    "\n",
    "# Ensure top_exporters is defined\n",
    "top_exporters = data.groupby('country')['export'].sum().sort_values(ascending=False).head(10)\n",
    "fig, ax = plt.subplots(figsize=(10, 6))\n",
    "ax.barh(top_exporters.index, top_exporters.values, alpha=0.7)\n",
    "ax.set_xlabel('Value (Trillions)')\n",
    "ax.xaxis.set_major_formatter(ticker.FuncFormatter(lambda x, pos: f'{x*1e-9:.1f}T'))\n",
    "plt.xticks(rotation=45)\n",
    "ax.set_ylabel('Country')\n",
    "ax.barh(top_exporters.index, top_exporters.values, alpha=0.7, label='Export', color='red')\n",
    "ax.set_title('Top 10 Exporters')\n",
    "ax.legend()\n",
    "plt.show()"
   ]
  },
  {
   "cell_type": "code",
   "execution_count": 38,
   "metadata": {},
   "outputs": [
    {
     "data": {
      "image/png": "[encoded data removed]",
      "text/plain": [
       "<Figure size 640x480 with 1 Axes>"
      ]
     },
     "metadata": {},
     "output_type": "display_data"
    }
   ],
   "source": [
    "from scipy.cluster.hierarchy import dendrogram, linkage\n",
    "\n",
    "# Compute the linkage matrix\n",
    "Z = linkage(top_exporters.values.reshape(-1, 1), method='ward')\n",
    "\n",
    "# Plot title\n",
    "plt.title('Closeness in Export Values of Top Exporters')\n",
    "\n",
    "# Plot axis labels\n",
    "plt.xlabel('Country')\n",
    "plt.ylabel('distance (Ward)')\n",
    "\n",
    "# Make the dendrogram\n",
    "dendrogram(Z, labels=top_exporters.index, leaf_rotation=90)\n",
    "\n",
    "# Show the graph\n",
    "plt.show()"
   ]
  }
 ],
 "metadata": {
  "kernelspec": {
   "display_name": "base",
   "language": "python",
   "name": "python3"
  },
  "language_info": {
   "codemirror_mode": {
    "name": "ipython",
    "version": 3
   },
   "file_extension": ".py",
   "mimetype": "text/x-python",
   "name": "python",
   "nbconvert_exporter": "python",
   "pygments_lexer": "ipython3",
   "version": "3.11.4"
  }
 },
 "nbformat": 4,
 "nbformat_minor": 2
}
