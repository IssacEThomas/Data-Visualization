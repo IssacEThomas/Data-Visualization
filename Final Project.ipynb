{
 "cells": [
  {
   "cell_type": "code",
   "execution_count": 11,
   "metadata": {},
   "outputs": [
    {
     "name": "stderr",
     "output_type": "stream",
     "text": [
      "DEPRECATION: Loading egg at c:\\programdata\\anaconda3\\lib\\site-packages\\vboxapi-1.0-py3.11.egg is deprecated. pip 23.3 will enforce this behaviour change. A possible replacement is to use pip for package installation..\n"
     ]
    },
    {
     "name": "stdout",
     "output_type": "stream",
     "text": [
      "Defaulting to user installation because normal site-packages is not writeable\n",
      "Requirement already satisfied: kagglehub in c:\\users\\issac\\appdata\\roaming\\python\\python311\\site-packages (0.3.4)\n",
      "Requirement already satisfied: packaging in c:\\programdata\\anaconda3\\lib\\site-packages (from kagglehub) (23.0)\n",
      "Requirement already satisfied: requests in c:\\programdata\\anaconda3\\lib\\site-packages (from kagglehub) (2.31.0)\n",
      "Requirement already satisfied: tqdm in c:\\programdata\\anaconda3\\lib\\site-packages (from kagglehub) (4.65.0)\n",
      "Requirement already satisfied: charset-normalizer<4,>=2 in c:\\programdata\\anaconda3\\lib\\site-packages (from requests->kagglehub) (2.0.4)\n",
      "Requirement already satisfied: idna<4,>=2.5 in c:\\programdata\\anaconda3\\lib\\site-packages (from requests->kagglehub) (3.4)\n",
      "Requirement already satisfied: urllib3<3,>=1.21.1 in c:\\programdata\\anaconda3\\lib\\site-packages (from requests->kagglehub) (1.26.16)\n",
      "Requirement already satisfied: certifi>=2017.4.17 in c:\\programdata\\anaconda3\\lib\\site-packages (from requests->kagglehub) (2023.11.17)\n",
      "Requirement already satisfied: colorama in c:\\programdata\\anaconda3\\lib\\site-packages (from tqdm->kagglehub) (0.4.6)\n",
      "Note: you may need to restart the kernel to use updated packages.\n",
      "Path to dataset files: C:\\Users\\Issac\\.cache\\kagglehub\\datasets\\arunvithyasegar\\daily-port-activity-data-and-trade-estimates\\versions\\1\n"
     ]
    }
   ],
   "source": [
    "%pip install kagglehub\n",
    "\n",
    "import kagglehub\n",
    "\n",
    "# Download latest version\n",
    "path = kagglehub.dataset_download(\"arunvithyasegar/daily-port-activity-data-and-trade-estimates\")\n",
    "\n",
    "print(\"Path to dataset files:\", path)"
   ]
  },
  {
   "cell_type": "markdown",
   "metadata": {},
   "source": [
    "can't provide the full text verbatim, but I can give you a brief summary. President-elect Trump has proposed imposing steep tariffs on imports, including a 10-20 percent tariff on all imports, at least a 60 percent tariff on Chinese imports, and a 25-100 percent tariff on Mexican imports. Economists generally agree that tariffs reduce trade and distort production, leading to lower standards of living. Tariffs increase the price of foreign-produced goods, incentivizing consumers to switch to domestically produced goods, but this comes at the expense of consumers and other industries. Over the long run, tariffs shrink the economy by reducing work and investment, leading to lower incomes and production. Additionally, tariffs can lead to inefficiencies and political favoritism, and retaliatory tariffs from other countries can further harm the economy. Studies consistently find that Trump's proposed tariffs would have a negative impact on the U.S. economy"
   ]
  },
  {
   "cell_type": "markdown",
   "metadata": {},
   "source": [
    "## Definitions\n",
    "Port Calls are stops a ship makes at a perform activities like loading  and unloading cargo.\n",
    "\n"
   ]
  },
  {
   "cell_type": "code",
   "execution_count": 12,
   "metadata": {},
   "outputs": [
    {
     "name": "stdout",
     "output_type": "stream",
     "text": [
      "Defaulting to user installation because normal site-packages is not writeable\n",
      "Requirement already satisfied: matplotlib in c:\\programdata\\anaconda3\\lib\\site-packages (3.7.1)\n",
      "Requirement already satisfied: contourpy>=1.0.1 in c:\\programdata\\anaconda3\\lib\\site-packages (from matplotlib) (1.0.5)\n",
      "Requirement already satisfied: cycler>=0.10 in c:\\programdata\\anaconda3\\lib\\site-packages (from matplotlib) (0.11.0)\n",
      "Requirement already satisfied: fonttools>=4.22.0 in c:\\programdata\\anaconda3\\lib\\site-packages (from matplotlib) (4.25.0)\n",
      "Requirement already satisfied: kiwisolver>=1.0.1 in c:\\programdata\\anaconda3\\lib\\site-packages (from matplotlib) (1.4.4)\n",
      "Requirement already satisfied: numpy>=1.20 in c:\\users\\issac\\appdata\\roaming\\python\\python311\\site-packages (from matplotlib) (1.24.4)\n",
      "Requirement already satisfied: packaging>=20.0 in c:\\programdata\\anaconda3\\lib\\site-packages (from matplotlib) (23.0)\n",
      "Requirement already satisfied: pillow>=6.2.0 in c:\\programdata\\anaconda3\\lib\\site-packages (from matplotlib) (9.4.0)\n",
      "Requirement already satisfied: pyparsing>=2.3.1 in c:\\programdata\\anaconda3\\lib\\site-packages (from matplotlib) (3.0.9)\n",
      "Requirement already satisfied: python-dateutil>=2.7 in c:\\programdata\\anaconda3\\lib\\site-packages (from matplotlib) (2.8.2)\n",
      "Requirement already satisfied: six>=1.5 in c:\\programdata\\anaconda3\\lib\\site-packages (from python-dateutil>=2.7->matplotlib) (1.16.0)\n",
      "Note: you may need to restart the kernel to use updated packages.\n"
     ]
    },
    {
     "name": "stderr",
     "output_type": "stream",
     "text": [
      "DEPRECATION: Loading egg at c:\\programdata\\anaconda3\\lib\\site-packages\\vboxapi-1.0-py3.11.egg is deprecated. pip 23.3 will enforce this behaviour change. A possible replacement is to use pip for package installation..\n"
     ]
    },
    {
     "name": "stdout",
     "output_type": "stream",
     "text": [
      "Defaulting to user installation because normal site-packages is not writeableNote: you may need to restart the kernel to use updated packages.\n",
      "\n",
      "Requirement already satisfied: pandas in c:\\programdata\\anaconda3\\lib\\site-packages (1.5.3)\n",
      "Requirement already satisfied: python-dateutil>=2.8.1 in c:\\programdata\\anaconda3\\lib\\site-packages (from pandas) (2.8.2)\n",
      "Requirement already satisfied: pytz>=2020.1 in c:\\programdata\\anaconda3\\lib\\site-packages (from pandas) (2022.7)\n",
      "Requirement already satisfied: numpy>=1.21.0 in c:\\users\\issac\\appdata\\roaming\\python\\python311\\site-packages (from pandas) (1.24.4)\n",
      "Requirement already satisfied: six>=1.5 in c:\\programdata\\anaconda3\\lib\\site-packages (from python-dateutil>=2.8.1->pandas) (1.16.0)\n"
     ]
    },
    {
     "name": "stderr",
     "output_type": "stream",
     "text": [
      "DEPRECATION: Loading egg at c:\\programdata\\anaconda3\\lib\\site-packages\\vboxapi-1.0-py3.11.egg is deprecated. pip 23.3 will enforce this behaviour change. A possible replacement is to use pip for package installation..\n"
     ]
    },
    {
     "name": "stdout",
     "output_type": "stream",
     "text": [
      "Defaulting to user installation because normal site-packages is not writeable\n",
      "Requirement already satisfied: numpy in c:\\users\\issac\\appdata\\roaming\\python\\python311\\site-packages (1.24.4)\n",
      "Note: you may need to restart the kernel to use updated packages.\n"
     ]
    },
    {
     "name": "stderr",
     "output_type": "stream",
     "text": [
      "DEPRECATION: Loading egg at c:\\programdata\\anaconda3\\lib\\site-packages\\vboxapi-1.0-py3.11.egg is deprecated. pip 23.3 will enforce this behaviour change. A possible replacement is to use pip for package installation..\n"
     ]
    },
    {
     "name": "stdout",
     "output_type": "stream",
     "text": [
      "Defaulting to user installation because normal site-packages is not writeable\n",
      "Requirement already satisfied: plotly in c:\\programdata\\anaconda3\\lib\\site-packages (5.9.0)\n",
      "Requirement already satisfied: tenacity>=6.2.0 in c:\\programdata\\anaconda3\\lib\\site-packages (from plotly) (8.2.2)\n",
      "Note: you may need to restart the kernel to use updated packages.\n"
     ]
    },
    {
     "name": "stderr",
     "output_type": "stream",
     "text": [
      "DEPRECATION: Loading egg at c:\\programdata\\anaconda3\\lib\\site-packages\\vboxapi-1.0-py3.11.egg is deprecated. pip 23.3 will enforce this behaviour change. A possible replacement is to use pip for package installation..\n"
     ]
    },
    {
     "name": "stdout",
     "output_type": "stream",
     "text": [
      "Defaulting to user installation because normal site-packages is not writeable\n",
      "Requirement already satisfied: scipy in c:\\programdata\\anaconda3\\lib\\site-packages (1.10.1)\n",
      "Requirement already satisfied: numpy<1.27.0,>=1.19.5 in c:\\users\\issac\\appdata\\roaming\\python\\python311\\site-packages (from scipy) (1.24.4)\n",
      "Note: you may need to restart the kernel to use updated packages.\n"
     ]
    },
    {
     "name": "stderr",
     "output_type": "stream",
     "text": [
      "DEPRECATION: Loading egg at c:\\programdata\\anaconda3\\lib\\site-packages\\vboxapi-1.0-py3.11.egg is deprecated. pip 23.3 will enforce this behaviour change. A possible replacement is to use pip for package installation..\n"
     ]
    }
   ],
   "source": [
    "%pip install matplotlib\n",
    "%pip install pandas\n",
    "%pip install numpy\n",
    "%pip install plotly\n",
    "%pip install scipy\n",
    "\n",
    "import matplotlib.pyplot as plt\n",
    "import pandas as pd\n",
    "import numpy as np\n",
    "from scipy.optimize import minimize\n",
    "import matplotlib.ticker as ticker\n",
    "import plotly.graph_objects as go\n",
    "import plotly.express as px"
   ]
  },
  {
   "cell_type": "code",
   "execution_count": 13,
   "metadata": {},
   "outputs": [],
   "source": [
    "data = pd.read_csv(path + \"/daily_port_activity_data_and_trade_estimates.csv\")"
   ]
  },
  {
   "cell_type": "code",
   "execution_count": 14,
   "metadata": {},
   "outputs": [
    {
     "data": {
      "text/html": [
       "<div>\n",
       "<style scoped>\n",
       "    .dataframe tbody tr th:only-of-type {\n",
       "        vertical-align: middle;\n",
       "    }\n",
       "\n",
       "    .dataframe tbody tr th {\n",
       "        vertical-align: top;\n",
       "    }\n",
       "\n",
       "    .dataframe thead th {\n",
       "        text-align: right;\n",
       "    }\n",
       "</style>\n",
       "<table border=\"1\" class=\"dataframe\">\n",
       "  <thead>\n",
       "    <tr style=\"text-align: right;\">\n",
       "      <th></th>\n",
       "      <th>date</th>\n",
       "      <th>year</th>\n",
       "      <th>month</th>\n",
       "      <th>day</th>\n",
       "      <th>portid</th>\n",
       "      <th>portname</th>\n",
       "      <th>country</th>\n",
       "      <th>ISO3</th>\n",
       "      <th>portcalls_container</th>\n",
       "      <th>portcalls_dry_bulk</th>\n",
       "      <th>...</th>\n",
       "      <th>import_cargo</th>\n",
       "      <th>import</th>\n",
       "      <th>export_container</th>\n",
       "      <th>export_dry_bulk</th>\n",
       "      <th>export_general_cargo</th>\n",
       "      <th>export_roro</th>\n",
       "      <th>export_tanker</th>\n",
       "      <th>export_cargo</th>\n",
       "      <th>export</th>\n",
       "      <th>ObjectId</th>\n",
       "    </tr>\n",
       "  </thead>\n",
       "  <tbody>\n",
       "    <tr>\n",
       "      <th>0</th>\n",
       "      <td>2019/01/01 00:00:00+00</td>\n",
       "      <td>2019</td>\n",
       "      <td>1</td>\n",
       "      <td>1</td>\n",
       "      <td>port0</td>\n",
       "      <td>Abbot Point</td>\n",
       "      <td>Australia</td>\n",
       "      <td>AUS</td>\n",
       "      <td>0</td>\n",
       "      <td>2</td>\n",
       "      <td>...</td>\n",
       "      <td>25648.932871</td>\n",
       "      <td>25648.932871</td>\n",
       "      <td>0.0</td>\n",
       "      <td>69693.624446</td>\n",
       "      <td>0.0</td>\n",
       "      <td>0.0</td>\n",
       "      <td>0.0</td>\n",
       "      <td>69693.624446</td>\n",
       "      <td>69693.624446</td>\n",
       "      <td>1</td>\n",
       "    </tr>\n",
       "    <tr>\n",
       "      <th>1</th>\n",
       "      <td>2019/01/02 00:00:00+00</td>\n",
       "      <td>2019</td>\n",
       "      <td>1</td>\n",
       "      <td>2</td>\n",
       "      <td>port0</td>\n",
       "      <td>Abbot Point</td>\n",
       "      <td>Australia</td>\n",
       "      <td>AUS</td>\n",
       "      <td>0</td>\n",
       "      <td>1</td>\n",
       "      <td>...</td>\n",
       "      <td>0.000000</td>\n",
       "      <td>0.000000</td>\n",
       "      <td>0.0</td>\n",
       "      <td>59426.741882</td>\n",
       "      <td>0.0</td>\n",
       "      <td>0.0</td>\n",
       "      <td>0.0</td>\n",
       "      <td>59426.741882</td>\n",
       "      <td>59426.741882</td>\n",
       "      <td>2</td>\n",
       "    </tr>\n",
       "    <tr>\n",
       "      <th>2</th>\n",
       "      <td>2019/01/03 00:00:00+00</td>\n",
       "      <td>2019</td>\n",
       "      <td>1</td>\n",
       "      <td>3</td>\n",
       "      <td>port0</td>\n",
       "      <td>Abbot Point</td>\n",
       "      <td>Australia</td>\n",
       "      <td>AUS</td>\n",
       "      <td>0</td>\n",
       "      <td>1</td>\n",
       "      <td>...</td>\n",
       "      <td>691.808826</td>\n",
       "      <td>691.808826</td>\n",
       "      <td>0.0</td>\n",
       "      <td>0.000000</td>\n",
       "      <td>0.0</td>\n",
       "      <td>0.0</td>\n",
       "      <td>0.0</td>\n",
       "      <td>0.000000</td>\n",
       "      <td>0.000000</td>\n",
       "      <td>3</td>\n",
       "    </tr>\n",
       "    <tr>\n",
       "      <th>3</th>\n",
       "      <td>2019/01/04 00:00:00+00</td>\n",
       "      <td>2019</td>\n",
       "      <td>1</td>\n",
       "      <td>4</td>\n",
       "      <td>port0</td>\n",
       "      <td>Abbot Point</td>\n",
       "      <td>Australia</td>\n",
       "      <td>AUS</td>\n",
       "      <td>0</td>\n",
       "      <td>1</td>\n",
       "      <td>...</td>\n",
       "      <td>0.000000</td>\n",
       "      <td>0.000000</td>\n",
       "      <td>0.0</td>\n",
       "      <td>35660.208032</td>\n",
       "      <td>0.0</td>\n",
       "      <td>0.0</td>\n",
       "      <td>0.0</td>\n",
       "      <td>35660.208032</td>\n",
       "      <td>35660.208032</td>\n",
       "      <td>4</td>\n",
       "    </tr>\n",
       "    <tr>\n",
       "      <th>4</th>\n",
       "      <td>2019/01/05 00:00:00+00</td>\n",
       "      <td>2019</td>\n",
       "      <td>1</td>\n",
       "      <td>5</td>\n",
       "      <td>port0</td>\n",
       "      <td>Abbot Point</td>\n",
       "      <td>Australia</td>\n",
       "      <td>AUS</td>\n",
       "      <td>0</td>\n",
       "      <td>1</td>\n",
       "      <td>...</td>\n",
       "      <td>0.000000</td>\n",
       "      <td>0.000000</td>\n",
       "      <td>0.0</td>\n",
       "      <td>19127.574067</td>\n",
       "      <td>0.0</td>\n",
       "      <td>0.0</td>\n",
       "      <td>0.0</td>\n",
       "      <td>19127.574067</td>\n",
       "      <td>19127.574067</td>\n",
       "      <td>5</td>\n",
       "    </tr>\n",
       "  </tbody>\n",
       "</table>\n",
       "<p>5 rows × 30 columns</p>\n",
       "</div>"
      ],
      "text/plain": [
       "                     date  year  month  day portid     portname    country  \\\n",
       "0  2019/01/01 00:00:00+00  2019      1    1  port0  Abbot Point  Australia   \n",
       "1  2019/01/02 00:00:00+00  2019      1    2  port0  Abbot Point  Australia   \n",
       "2  2019/01/03 00:00:00+00  2019      1    3  port0  Abbot Point  Australia   \n",
       "3  2019/01/04 00:00:00+00  2019      1    4  port0  Abbot Point  Australia   \n",
       "4  2019/01/05 00:00:00+00  2019      1    5  port0  Abbot Point  Australia   \n",
       "\n",
       "  ISO3  portcalls_container  portcalls_dry_bulk  ...  import_cargo  \\\n",
       "0  AUS                    0                   2  ...  25648.932871   \n",
       "1  AUS                    0                   1  ...      0.000000   \n",
       "2  AUS                    0                   1  ...    691.808826   \n",
       "3  AUS                    0                   1  ...      0.000000   \n",
       "4  AUS                    0                   1  ...      0.000000   \n",
       "\n",
       "         import  export_container  export_dry_bulk  export_general_cargo  \\\n",
       "0  25648.932871               0.0     69693.624446                   0.0   \n",
       "1      0.000000               0.0     59426.741882                   0.0   \n",
       "2    691.808826               0.0         0.000000                   0.0   \n",
       "3      0.000000               0.0     35660.208032                   0.0   \n",
       "4      0.000000               0.0     19127.574067                   0.0   \n",
       "\n",
       "   export_roro  export_tanker  export_cargo        export  ObjectId  \n",
       "0          0.0            0.0  69693.624446  69693.624446         1  \n",
       "1          0.0            0.0  59426.741882  59426.741882         2  \n",
       "2          0.0            0.0      0.000000      0.000000         3  \n",
       "3          0.0            0.0  35660.208032  35660.208032         4  \n",
       "4          0.0            0.0  19127.574067  19127.574067         5  \n",
       "\n",
       "[5 rows x 30 columns]"
      ]
     },
     "execution_count": 14,
     "metadata": {},
     "output_type": "execute_result"
    }
   ],
   "source": [
    "data.head()"
   ]
  },
  {
   "cell_type": "markdown",
   "metadata": {},
   "source": [
    "## Preprocessing Data"
   ]
  },
  {
   "cell_type": "code",
   "execution_count": 10,
   "metadata": {},
   "outputs": [
    {
     "name": "stdout",
     "output_type": "stream",
     "text": [
      "<class 'pandas.core.frame.DataFrame'>\n",
      "RangeIndex: 3486153 entries, 0 to 3486152\n",
      "Data columns (total 30 columns):\n",
      " #   Column                   Dtype  \n",
      "---  ------                   -----  \n",
      " 0   date                     object \n",
      " 1   year                     int64  \n",
      " 2   month                    int64  \n",
      " 3   day                      int64  \n",
      " 4   portid                   object \n",
      " 5   portname                 object \n",
      " 6   country                  object \n",
      " 7   ISO3                     object \n",
      " 8   portcalls_container      int64  \n",
      " 9   portcalls_dry_bulk       int64  \n",
      " 10  portcalls_general_cargo  int64  \n",
      " 11  portcalls_roro           int64  \n",
      " 12  portcalls_tanker         int64  \n",
      " 13  portcalls_cargo          int64  \n",
      " 14  portcalls                int64  \n",
      " 15  import_container         float64\n",
      " 16  import_dry_bulk          float64\n",
      " 17  import_general_cargo     float64\n",
      " 18  import_roro              float64\n",
      " 19  import_tanker            float64\n",
      " 20  import_cargo             float64\n",
      " 21  import                   float64\n",
      " 22  export_container         float64\n",
      " 23  export_dry_bulk          float64\n",
      " 24  export_general_cargo     float64\n",
      " 25  export_roro              float64\n",
      " 26  export_tanker            float64\n",
      " 27  export_cargo             float64\n",
      " 28  export                   float64\n",
      " 29  ObjectId                 int64  \n",
      "dtypes: float64(14), int64(11), object(5)\n",
      "memory usage: 797.9+ MB\n"
     ]
    }
   ],
   "source": [
    "data.info()"
   ]
  },
  {
   "cell_type": "code",
   "execution_count": 11,
   "metadata": {},
   "outputs": [
    {
     "data": {
      "text/plain": [
       "date                       0\n",
       "year                       0\n",
       "month                      0\n",
       "day                        0\n",
       "portid                     0\n",
       "portname                   0\n",
       "country                    0\n",
       "ISO3                       0\n",
       "portcalls_container        0\n",
       "portcalls_dry_bulk         0\n",
       "portcalls_general_cargo    0\n",
       "portcalls_roro             0\n",
       "portcalls_tanker           0\n",
       "portcalls_cargo            0\n",
       "portcalls                  0\n",
       "import_container           0\n",
       "import_dry_bulk            0\n",
       "import_general_cargo       0\n",
       "import_roro                0\n",
       "import_tanker              0\n",
       "import_cargo               0\n",
       "import                     0\n",
       "export_container           0\n",
       "export_dry_bulk            0\n",
       "export_general_cargo       0\n",
       "export_roro                0\n",
       "export_tanker              0\n",
       "export_cargo               0\n",
       "export                     0\n",
       "ObjectId                   0\n",
       "dtype: int64"
      ]
     },
     "execution_count": 11,
     "metadata": {},
     "output_type": "execute_result"
    }
   ],
   "source": [
    "data.isna().sum()"
   ]
  },
  {
   "cell_type": "code",
   "execution_count": 12,
   "metadata": {},
   "outputs": [],
   "source": [
    "data = data.drop(columns=['date'])"
   ]
  },
  {
   "cell_type": "code",
   "execution_count": 13,
   "metadata": {},
   "outputs": [
    {
     "data": {
      "text/html": [
       "<div>\n",
       "<style scoped>\n",
       "    .dataframe tbody tr th:only-of-type {\n",
       "        vertical-align: middle;\n",
       "    }\n",
       "\n",
       "    .dataframe tbody tr th {\n",
       "        vertical-align: top;\n",
       "    }\n",
       "\n",
       "    .dataframe thead th {\n",
       "        text-align: right;\n",
       "    }\n",
       "</style>\n",
       "<table border=\"1\" class=\"dataframe\">\n",
       "  <thead>\n",
       "    <tr style=\"text-align: right;\">\n",
       "      <th></th>\n",
       "      <th>year</th>\n",
       "      <th>month</th>\n",
       "      <th>day</th>\n",
       "      <th>portid</th>\n",
       "      <th>portname</th>\n",
       "      <th>country</th>\n",
       "      <th>ISO3</th>\n",
       "      <th>portcalls_container</th>\n",
       "      <th>portcalls_dry_bulk</th>\n",
       "      <th>portcalls_general_cargo</th>\n",
       "      <th>...</th>\n",
       "      <th>import_cargo</th>\n",
       "      <th>import</th>\n",
       "      <th>export_container</th>\n",
       "      <th>export_dry_bulk</th>\n",
       "      <th>export_general_cargo</th>\n",
       "      <th>export_roro</th>\n",
       "      <th>export_tanker</th>\n",
       "      <th>export_cargo</th>\n",
       "      <th>export</th>\n",
       "      <th>ObjectId</th>\n",
       "    </tr>\n",
       "  </thead>\n",
       "  <tbody>\n",
       "    <tr>\n",
       "      <th>0</th>\n",
       "      <td>2019</td>\n",
       "      <td>1</td>\n",
       "      <td>1</td>\n",
       "      <td>port0</td>\n",
       "      <td>Abbot Point</td>\n",
       "      <td>Australia</td>\n",
       "      <td>AUS</td>\n",
       "      <td>0</td>\n",
       "      <td>2</td>\n",
       "      <td>0</td>\n",
       "      <td>...</td>\n",
       "      <td>25648.932871</td>\n",
       "      <td>25648.932871</td>\n",
       "      <td>0.0</td>\n",
       "      <td>69693.624446</td>\n",
       "      <td>0.0</td>\n",
       "      <td>0.0</td>\n",
       "      <td>0.0</td>\n",
       "      <td>69693.624446</td>\n",
       "      <td>69693.624446</td>\n",
       "      <td>1</td>\n",
       "    </tr>\n",
       "    <tr>\n",
       "      <th>1</th>\n",
       "      <td>2019</td>\n",
       "      <td>1</td>\n",
       "      <td>2</td>\n",
       "      <td>port0</td>\n",
       "      <td>Abbot Point</td>\n",
       "      <td>Australia</td>\n",
       "      <td>AUS</td>\n",
       "      <td>0</td>\n",
       "      <td>1</td>\n",
       "      <td>0</td>\n",
       "      <td>...</td>\n",
       "      <td>0.000000</td>\n",
       "      <td>0.000000</td>\n",
       "      <td>0.0</td>\n",
       "      <td>59426.741882</td>\n",
       "      <td>0.0</td>\n",
       "      <td>0.0</td>\n",
       "      <td>0.0</td>\n",
       "      <td>59426.741882</td>\n",
       "      <td>59426.741882</td>\n",
       "      <td>2</td>\n",
       "    </tr>\n",
       "    <tr>\n",
       "      <th>2</th>\n",
       "      <td>2019</td>\n",
       "      <td>1</td>\n",
       "      <td>3</td>\n",
       "      <td>port0</td>\n",
       "      <td>Abbot Point</td>\n",
       "      <td>Australia</td>\n",
       "      <td>AUS</td>\n",
       "      <td>0</td>\n",
       "      <td>1</td>\n",
       "      <td>0</td>\n",
       "      <td>...</td>\n",
       "      <td>691.808826</td>\n",
       "      <td>691.808826</td>\n",
       "      <td>0.0</td>\n",
       "      <td>0.000000</td>\n",
       "      <td>0.0</td>\n",
       "      <td>0.0</td>\n",
       "      <td>0.0</td>\n",
       "      <td>0.000000</td>\n",
       "      <td>0.000000</td>\n",
       "      <td>3</td>\n",
       "    </tr>\n",
       "    <tr>\n",
       "      <th>3</th>\n",
       "      <td>2019</td>\n",
       "      <td>1</td>\n",
       "      <td>4</td>\n",
       "      <td>port0</td>\n",
       "      <td>Abbot Point</td>\n",
       "      <td>Australia</td>\n",
       "      <td>AUS</td>\n",
       "      <td>0</td>\n",
       "      <td>1</td>\n",
       "      <td>0</td>\n",
       "      <td>...</td>\n",
       "      <td>0.000000</td>\n",
       "      <td>0.000000</td>\n",
       "      <td>0.0</td>\n",
       "      <td>35660.208032</td>\n",
       "      <td>0.0</td>\n",
       "      <td>0.0</td>\n",
       "      <td>0.0</td>\n",
       "      <td>35660.208032</td>\n",
       "      <td>35660.208032</td>\n",
       "      <td>4</td>\n",
       "    </tr>\n",
       "    <tr>\n",
       "      <th>4</th>\n",
       "      <td>2019</td>\n",
       "      <td>1</td>\n",
       "      <td>5</td>\n",
       "      <td>port0</td>\n",
       "      <td>Abbot Point</td>\n",
       "      <td>Australia</td>\n",
       "      <td>AUS</td>\n",
       "      <td>0</td>\n",
       "      <td>1</td>\n",
       "      <td>0</td>\n",
       "      <td>...</td>\n",
       "      <td>0.000000</td>\n",
       "      <td>0.000000</td>\n",
       "      <td>0.0</td>\n",
       "      <td>19127.574067</td>\n",
       "      <td>0.0</td>\n",
       "      <td>0.0</td>\n",
       "      <td>0.0</td>\n",
       "      <td>19127.574067</td>\n",
       "      <td>19127.574067</td>\n",
       "      <td>5</td>\n",
       "    </tr>\n",
       "  </tbody>\n",
       "</table>\n",
       "<p>5 rows × 29 columns</p>\n",
       "</div>"
      ],
      "text/plain": [
       "   year  month  day portid     portname    country ISO3  portcalls_container  \\\n",
       "0  2019      1    1  port0  Abbot Point  Australia  AUS                    0   \n",
       "1  2019      1    2  port0  Abbot Point  Australia  AUS                    0   \n",
       "2  2019      1    3  port0  Abbot Point  Australia  AUS                    0   \n",
       "3  2019      1    4  port0  Abbot Point  Australia  AUS                    0   \n",
       "4  2019      1    5  port0  Abbot Point  Australia  AUS                    0   \n",
       "\n",
       "   portcalls_dry_bulk  portcalls_general_cargo  ...  import_cargo  \\\n",
       "0                   2                        0  ...  25648.932871   \n",
       "1                   1                        0  ...      0.000000   \n",
       "2                   1                        0  ...    691.808826   \n",
       "3                   1                        0  ...      0.000000   \n",
       "4                   1                        0  ...      0.000000   \n",
       "\n",
       "         import  export_container  export_dry_bulk  export_general_cargo  \\\n",
       "0  25648.932871               0.0     69693.624446                   0.0   \n",
       "1      0.000000               0.0     59426.741882                   0.0   \n",
       "2    691.808826               0.0         0.000000                   0.0   \n",
       "3      0.000000               0.0     35660.208032                   0.0   \n",
       "4      0.000000               0.0     19127.574067                   0.0   \n",
       "\n",
       "   export_roro  export_tanker  export_cargo        export  ObjectId  \n",
       "0          0.0            0.0  69693.624446  69693.624446         1  \n",
       "1          0.0            0.0  59426.741882  59426.741882         2  \n",
       "2          0.0            0.0      0.000000      0.000000         3  \n",
       "3          0.0            0.0  35660.208032  35660.208032         4  \n",
       "4          0.0            0.0  19127.574067  19127.574067         5  \n",
       "\n",
       "[5 rows x 29 columns]"
      ]
     },
     "execution_count": 13,
     "metadata": {},
     "output_type": "execute_result"
    }
   ],
   "source": [
    "data.head()"
   ]
  },
  {
   "cell_type": "code",
   "execution_count": 22,
   "metadata": {},
   "outputs": [],
   "source": [
    "data.sort_values(by=['portname', 'year'], ascending=False,inplace=True)"
   ]
  },
  {
   "cell_type": "code",
   "execution_count": 23,
   "metadata": {},
   "outputs": [
    {
     "data": {
      "text/html": [
       "<div>\n",
       "<style scoped>\n",
       "    .dataframe tbody tr th:only-of-type {\n",
       "        vertical-align: middle;\n",
       "    }\n",
       "\n",
       "    .dataframe tbody tr th {\n",
       "        vertical-align: top;\n",
       "    }\n",
       "\n",
       "    .dataframe thead th {\n",
       "        text-align: right;\n",
       "    }\n",
       "</style>\n",
       "<table border=\"1\" class=\"dataframe\">\n",
       "  <thead>\n",
       "    <tr style=\"text-align: right;\">\n",
       "      <th></th>\n",
       "      <th>year</th>\n",
       "      <th>month</th>\n",
       "      <th>day</th>\n",
       "      <th>portid</th>\n",
       "      <th>portname</th>\n",
       "      <th>country</th>\n",
       "      <th>ISO3</th>\n",
       "      <th>portcalls_container</th>\n",
       "      <th>portcalls_dry_bulk</th>\n",
       "      <th>portcalls_general_cargo</th>\n",
       "      <th>...</th>\n",
       "      <th>import_cargo</th>\n",
       "      <th>import</th>\n",
       "      <th>export_container</th>\n",
       "      <th>export_dry_bulk</th>\n",
       "      <th>export_general_cargo</th>\n",
       "      <th>export_roro</th>\n",
       "      <th>export_tanker</th>\n",
       "      <th>export_cargo</th>\n",
       "      <th>export</th>\n",
       "      <th>ObjectId</th>\n",
       "    </tr>\n",
       "  </thead>\n",
       "  <tbody>\n",
       "    <tr>\n",
       "      <th>988529</th>\n",
       "      <td>2024</td>\n",
       "      <td>1</td>\n",
       "      <td>1</td>\n",
       "      <td>port1430</td>\n",
       "      <td>Zonguldak</td>\n",
       "      <td>Türkiye</td>\n",
       "      <td>TUR</td>\n",
       "      <td>0</td>\n",
       "      <td>0</td>\n",
       "      <td>0</td>\n",
       "      <td>...</td>\n",
       "      <td>0.000000</td>\n",
       "      <td>0.000000</td>\n",
       "      <td>0.0</td>\n",
       "      <td>0.000000</td>\n",
       "      <td>0.000000</td>\n",
       "      <td>0.0</td>\n",
       "      <td>0.0</td>\n",
       "      <td>0.000000</td>\n",
       "      <td>0.000000</td>\n",
       "      <td>988530</td>\n",
       "    </tr>\n",
       "    <tr>\n",
       "      <th>988578</th>\n",
       "      <td>2024</td>\n",
       "      <td>1</td>\n",
       "      <td>2</td>\n",
       "      <td>port1430</td>\n",
       "      <td>Zonguldak</td>\n",
       "      <td>Türkiye</td>\n",
       "      <td>TUR</td>\n",
       "      <td>0</td>\n",
       "      <td>1</td>\n",
       "      <td>1</td>\n",
       "      <td>...</td>\n",
       "      <td>2668.397578</td>\n",
       "      <td>2668.397578</td>\n",
       "      <td>0.0</td>\n",
       "      <td>3915.744726</td>\n",
       "      <td>0.000000</td>\n",
       "      <td>0.0</td>\n",
       "      <td>0.0</td>\n",
       "      <td>3915.744726</td>\n",
       "      <td>3915.744726</td>\n",
       "      <td>988579</td>\n",
       "    </tr>\n",
       "    <tr>\n",
       "      <th>988579</th>\n",
       "      <td>2024</td>\n",
       "      <td>1</td>\n",
       "      <td>3</td>\n",
       "      <td>port1430</td>\n",
       "      <td>Zonguldak</td>\n",
       "      <td>Türkiye</td>\n",
       "      <td>TUR</td>\n",
       "      <td>0</td>\n",
       "      <td>0</td>\n",
       "      <td>1</td>\n",
       "      <td>...</td>\n",
       "      <td>0.000000</td>\n",
       "      <td>0.000000</td>\n",
       "      <td>0.0</td>\n",
       "      <td>0.000000</td>\n",
       "      <td>102.450893</td>\n",
       "      <td>0.0</td>\n",
       "      <td>0.0</td>\n",
       "      <td>102.450893</td>\n",
       "      <td>102.450893</td>\n",
       "      <td>988580</td>\n",
       "    </tr>\n",
       "    <tr>\n",
       "      <th>988582</th>\n",
       "      <td>2024</td>\n",
       "      <td>1</td>\n",
       "      <td>4</td>\n",
       "      <td>port1430</td>\n",
       "      <td>Zonguldak</td>\n",
       "      <td>Türkiye</td>\n",
       "      <td>TUR</td>\n",
       "      <td>0</td>\n",
       "      <td>1</td>\n",
       "      <td>1</td>\n",
       "      <td>...</td>\n",
       "      <td>27881.980183</td>\n",
       "      <td>27881.980183</td>\n",
       "      <td>0.0</td>\n",
       "      <td>0.000000</td>\n",
       "      <td>493.183022</td>\n",
       "      <td>0.0</td>\n",
       "      <td>0.0</td>\n",
       "      <td>493.183022</td>\n",
       "      <td>493.183022</td>\n",
       "      <td>988583</td>\n",
       "    </tr>\n",
       "    <tr>\n",
       "      <th>988592</th>\n",
       "      <td>2024</td>\n",
       "      <td>1</td>\n",
       "      <td>5</td>\n",
       "      <td>port1430</td>\n",
       "      <td>Zonguldak</td>\n",
       "      <td>Türkiye</td>\n",
       "      <td>TUR</td>\n",
       "      <td>0</td>\n",
       "      <td>0</td>\n",
       "      <td>1</td>\n",
       "      <td>...</td>\n",
       "      <td>1772.975474</td>\n",
       "      <td>1772.975474</td>\n",
       "      <td>0.0</td>\n",
       "      <td>0.000000</td>\n",
       "      <td>0.000000</td>\n",
       "      <td>0.0</td>\n",
       "      <td>0.0</td>\n",
       "      <td>0.000000</td>\n",
       "      <td>0.000000</td>\n",
       "      <td>988593</td>\n",
       "    </tr>\n",
       "  </tbody>\n",
       "</table>\n",
       "<p>5 rows × 29 columns</p>\n",
       "</div>"
      ],
      "text/plain": [
       "        year  month  day    portid   portname  country ISO3  \\\n",
       "988529  2024      1    1  port1430  Zonguldak  Türkiye  TUR   \n",
       "988578  2024      1    2  port1430  Zonguldak  Türkiye  TUR   \n",
       "988579  2024      1    3  port1430  Zonguldak  Türkiye  TUR   \n",
       "988582  2024      1    4  port1430  Zonguldak  Türkiye  TUR   \n",
       "988592  2024      1    5  port1430  Zonguldak  Türkiye  TUR   \n",
       "\n",
       "        portcalls_container  portcalls_dry_bulk  portcalls_general_cargo  ...  \\\n",
       "988529                    0                   0                        0  ...   \n",
       "988578                    0                   1                        1  ...   \n",
       "988579                    0                   0                        1  ...   \n",
       "988582                    0                   1                        1  ...   \n",
       "988592                    0                   0                        1  ...   \n",
       "\n",
       "        import_cargo        import  export_container  export_dry_bulk  \\\n",
       "988529      0.000000      0.000000               0.0         0.000000   \n",
       "988578   2668.397578   2668.397578               0.0      3915.744726   \n",
       "988579      0.000000      0.000000               0.0         0.000000   \n",
       "988582  27881.980183  27881.980183               0.0         0.000000   \n",
       "988592   1772.975474   1772.975474               0.0         0.000000   \n",
       "\n",
       "        export_general_cargo  export_roro  export_tanker  export_cargo  \\\n",
       "988529              0.000000          0.0            0.0      0.000000   \n",
       "988578              0.000000          0.0            0.0   3915.744726   \n",
       "988579            102.450893          0.0            0.0    102.450893   \n",
       "988582            493.183022          0.0            0.0    493.183022   \n",
       "988592              0.000000          0.0            0.0      0.000000   \n",
       "\n",
       "             export  ObjectId  \n",
       "988529     0.000000    988530  \n",
       "988578  3915.744726    988579  \n",
       "988579   102.450893    988580  \n",
       "988582   493.183022    988583  \n",
       "988592     0.000000    988593  \n",
       "\n",
       "[5 rows x 29 columns]"
      ]
     },
     "execution_count": 23,
     "metadata": {},
     "output_type": "execute_result"
    }
   ],
   "source": [
    "data.head()"
   ]
  },
  {
   "cell_type": "code",
   "execution_count": null,
   "metadata": {},
   "outputs": [
    {
     "data": {
      "text/html": [
       "<div>\n",
       "<style scoped>\n",
       "    .dataframe tbody tr th:only-of-type {\n",
       "        vertical-align: middle;\n",
       "    }\n",
       "\n",
       "    .dataframe tbody tr th {\n",
       "        vertical-align: top;\n",
       "    }\n",
       "\n",
       "    .dataframe thead th {\n",
       "        text-align: right;\n",
       "    }\n",
       "</style>\n",
       "<table border=\"1\" class=\"dataframe\">\n",
       "  <thead>\n",
       "    <tr style=\"text-align: right;\">\n",
       "      <th></th>\n",
       "      <th>year</th>\n",
       "      <th>month</th>\n",
       "      <th>day</th>\n",
       "      <th>portid</th>\n",
       "      <th>portname</th>\n",
       "      <th>country</th>\n",
       "      <th>ISO3</th>\n",
       "      <th>portcalls_container</th>\n",
       "      <th>portcalls_dry_bulk</th>\n",
       "      <th>portcalls_general_cargo</th>\n",
       "      <th>...</th>\n",
       "      <th>import_cargo</th>\n",
       "      <th>import</th>\n",
       "      <th>export_container</th>\n",
       "      <th>export_dry_bulk</th>\n",
       "      <th>export_general_cargo</th>\n",
       "      <th>export_roro</th>\n",
       "      <th>export_tanker</th>\n",
       "      <th>export_cargo</th>\n",
       "      <th>export</th>\n",
       "      <th>ObjectId</th>\n",
       "    </tr>\n",
       "  </thead>\n",
       "  <tbody>\n",
       "    <tr>\n",
       "      <th>988529</th>\n",
       "      <td>2024</td>\n",
       "      <td>1</td>\n",
       "      <td>1</td>\n",
       "      <td>port1430</td>\n",
       "      <td>Zonguldak</td>\n",
       "      <td>Türkiye</td>\n",
       "      <td>TUR</td>\n",
       "      <td>0</td>\n",
       "      <td>0</td>\n",
       "      <td>0</td>\n",
       "      <td>...</td>\n",
       "      <td>0.000000</td>\n",
       "      <td>0.000000</td>\n",
       "      <td>0.0</td>\n",
       "      <td>0.000000</td>\n",
       "      <td>0.000000</td>\n",
       "      <td>0.0</td>\n",
       "      <td>0.0</td>\n",
       "      <td>0.000000</td>\n",
       "      <td>0.000000</td>\n",
       "      <td>988530</td>\n",
       "    </tr>\n",
       "    <tr>\n",
       "      <th>988578</th>\n",
       "      <td>2024</td>\n",
       "      <td>1</td>\n",
       "      <td>2</td>\n",
       "      <td>port1430</td>\n",
       "      <td>Zonguldak</td>\n",
       "      <td>Türkiye</td>\n",
       "      <td>TUR</td>\n",
       "      <td>0</td>\n",
       "      <td>1</td>\n",
       "      <td>1</td>\n",
       "      <td>...</td>\n",
       "      <td>2668.397578</td>\n",
       "      <td>2668.397578</td>\n",
       "      <td>0.0</td>\n",
       "      <td>3915.744726</td>\n",
       "      <td>0.000000</td>\n",
       "      <td>0.0</td>\n",
       "      <td>0.0</td>\n",
       "      <td>3915.744726</td>\n",
       "      <td>3915.744726</td>\n",
       "      <td>988579</td>\n",
       "    </tr>\n",
       "    <tr>\n",
       "      <th>988579</th>\n",
       "      <td>2024</td>\n",
       "      <td>1</td>\n",
       "      <td>3</td>\n",
       "      <td>port1430</td>\n",
       "      <td>Zonguldak</td>\n",
       "      <td>Türkiye</td>\n",
       "      <td>TUR</td>\n",
       "      <td>0</td>\n",
       "      <td>0</td>\n",
       "      <td>1</td>\n",
       "      <td>...</td>\n",
       "      <td>0.000000</td>\n",
       "      <td>0.000000</td>\n",
       "      <td>0.0</td>\n",
       "      <td>0.000000</td>\n",
       "      <td>102.450893</td>\n",
       "      <td>0.0</td>\n",
       "      <td>0.0</td>\n",
       "      <td>102.450893</td>\n",
       "      <td>102.450893</td>\n",
       "      <td>988580</td>\n",
       "    </tr>\n",
       "    <tr>\n",
       "      <th>988582</th>\n",
       "      <td>2024</td>\n",
       "      <td>1</td>\n",
       "      <td>4</td>\n",
       "      <td>port1430</td>\n",
       "      <td>Zonguldak</td>\n",
       "      <td>Türkiye</td>\n",
       "      <td>TUR</td>\n",
       "      <td>0</td>\n",
       "      <td>1</td>\n",
       "      <td>1</td>\n",
       "      <td>...</td>\n",
       "      <td>27881.980183</td>\n",
       "      <td>27881.980183</td>\n",
       "      <td>0.0</td>\n",
       "      <td>0.000000</td>\n",
       "      <td>493.183022</td>\n",
       "      <td>0.0</td>\n",
       "      <td>0.0</td>\n",
       "      <td>493.183022</td>\n",
       "      <td>493.183022</td>\n",
       "      <td>988583</td>\n",
       "    </tr>\n",
       "    <tr>\n",
       "      <th>988592</th>\n",
       "      <td>2024</td>\n",
       "      <td>1</td>\n",
       "      <td>5</td>\n",
       "      <td>port1430</td>\n",
       "      <td>Zonguldak</td>\n",
       "      <td>Türkiye</td>\n",
       "      <td>TUR</td>\n",
       "      <td>0</td>\n",
       "      <td>0</td>\n",
       "      <td>1</td>\n",
       "      <td>...</td>\n",
       "      <td>1772.975474</td>\n",
       "      <td>1772.975474</td>\n",
       "      <td>0.0</td>\n",
       "      <td>0.000000</td>\n",
       "      <td>0.000000</td>\n",
       "      <td>0.0</td>\n",
       "      <td>0.0</td>\n",
       "      <td>0.000000</td>\n",
       "      <td>0.000000</td>\n",
       "      <td>988593</td>\n",
       "    </tr>\n",
       "  </tbody>\n",
       "</table>\n",
       "<p>5 rows × 29 columns</p>\n",
       "</div>"
      ],
      "text/plain": [
       "        year  month  day    portid   portname  country ISO3  \\\n",
       "988529  2024      1    1  port1430  Zonguldak  Türkiye  TUR   \n",
       "988578  2024      1    2  port1430  Zonguldak  Türkiye  TUR   \n",
       "988579  2024      1    3  port1430  Zonguldak  Türkiye  TUR   \n",
       "988582  2024      1    4  port1430  Zonguldak  Türkiye  TUR   \n",
       "988592  2024      1    5  port1430  Zonguldak  Türkiye  TUR   \n",
       "\n",
       "        portcalls_container  portcalls_dry_bulk  portcalls_general_cargo  ...  \\\n",
       "988529                    0                   0                        0  ...   \n",
       "988578                    0                   1                        1  ...   \n",
       "988579                    0                   0                        1  ...   \n",
       "988582                    0                   1                        1  ...   \n",
       "988592                    0                   0                        1  ...   \n",
       "\n",
       "        import_cargo        import  export_container  export_dry_bulk  \\\n",
       "988529      0.000000      0.000000               0.0         0.000000   \n",
       "988578   2668.397578   2668.397578               0.0      3915.744726   \n",
       "988579      0.000000      0.000000               0.0         0.000000   \n",
       "988582  27881.980183  27881.980183               0.0         0.000000   \n",
       "988592   1772.975474   1772.975474               0.0         0.000000   \n",
       "\n",
       "        export_general_cargo  export_roro  export_tanker  export_cargo  \\\n",
       "988529              0.000000          0.0            0.0      0.000000   \n",
       "988578              0.000000          0.0            0.0   3915.744726   \n",
       "988579            102.450893          0.0            0.0    102.450893   \n",
       "988582            493.183022          0.0            0.0    493.183022   \n",
       "988592              0.000000          0.0            0.0      0.000000   \n",
       "\n",
       "             export  ObjectId  \n",
       "988529     0.000000    988530  \n",
       "988578  3915.744726    988579  \n",
       "988579   102.450893    988580  \n",
       "988582   493.183022    988583  \n",
       "988592     0.000000    988593  \n",
       "\n",
       "[5 rows x 29 columns]"
      ]
     },
     "execution_count": 28,
     "metadata": {},
     "output_type": "execute_result"
    }
   ],
   "source": [
    "# Filter data for 2023 and 2024 still has almost 1 million rows\n",
    "data = data[(data['year'] == 2023) | (data['year'] == 2024)]\n",
    "data.head()"
   ]
  },
  {
   "cell_type": "code",
   "execution_count": 52,
   "metadata": {},
   "outputs": [
    {
     "data": {
      "text/html": [
       "<div>\n",
       "<style scoped>\n",
       "    .dataframe tbody tr th:only-of-type {\n",
       "        vertical-align: middle;\n",
       "    }\n",
       "\n",
       "    .dataframe tbody tr th {\n",
       "        vertical-align: top;\n",
       "    }\n",
       "\n",
       "    .dataframe thead th {\n",
       "        text-align: right;\n",
       "    }\n",
       "</style>\n",
       "<table border=\"1\" class=\"dataframe\">\n",
       "  <thead>\n",
       "    <tr style=\"text-align: right;\">\n",
       "      <th></th>\n",
       "      <th>year</th>\n",
       "      <th>month</th>\n",
       "      <th>day</th>\n",
       "      <th>portcalls_container</th>\n",
       "      <th>portcalls_dry_bulk</th>\n",
       "      <th>portcalls_general_cargo</th>\n",
       "      <th>portcalls_roro</th>\n",
       "      <th>portcalls_tanker</th>\n",
       "      <th>portcalls_cargo</th>\n",
       "      <th>portcalls</th>\n",
       "      <th>...</th>\n",
       "      <th>import_cargo</th>\n",
       "      <th>import</th>\n",
       "      <th>export_container</th>\n",
       "      <th>export_dry_bulk</th>\n",
       "      <th>export_general_cargo</th>\n",
       "      <th>export_roro</th>\n",
       "      <th>export_tanker</th>\n",
       "      <th>export_cargo</th>\n",
       "      <th>export</th>\n",
       "      <th>ObjectId</th>\n",
       "    </tr>\n",
       "  </thead>\n",
       "  <tbody>\n",
       "    <tr>\n",
       "      <th>count</th>\n",
       "      <td>493339.0</td>\n",
       "      <td>493339.000000</td>\n",
       "      <td>493339.000000</td>\n",
       "      <td>493339.000000</td>\n",
       "      <td>493339.000000</td>\n",
       "      <td>493339.000000</td>\n",
       "      <td>493339.000000</td>\n",
       "      <td>493339.000000</td>\n",
       "      <td>493339.000000</td>\n",
       "      <td>493339.000000</td>\n",
       "      <td>...</td>\n",
       "      <td>493339.000000</td>\n",
       "      <td>493339.000000</td>\n",
       "      <td>493339.000000</td>\n",
       "      <td>4.933390e+05</td>\n",
       "      <td>493339.000000</td>\n",
       "      <td>493339.000000</td>\n",
       "      <td>4.933390e+05</td>\n",
       "      <td>4.933390e+05</td>\n",
       "      <td>4.933390e+05</td>\n",
       "      <td>4.933390e+05</td>\n",
       "    </tr>\n",
       "    <tr>\n",
       "      <th>mean</th>\n",
       "      <td>2024.0</td>\n",
       "      <td>5.455150</td>\n",
       "      <td>15.574751</td>\n",
       "      <td>0.729975</td>\n",
       "      <td>0.387981</td>\n",
       "      <td>0.577605</td>\n",
       "      <td>0.089062</td>\n",
       "      <td>0.789998</td>\n",
       "      <td>1.784623</td>\n",
       "      <td>2.574621</td>\n",
       "      <td>...</td>\n",
       "      <td>5945.257567</td>\n",
       "      <td>8420.285098</td>\n",
       "      <td>1751.467274</td>\n",
       "      <td>3.789000e+03</td>\n",
       "      <td>449.071016</td>\n",
       "      <td>73.529697</td>\n",
       "      <td>2.231420e+03</td>\n",
       "      <td>6.063068e+03</td>\n",
       "      <td>8.294488e+03</td>\n",
       "      <td>1.743990e+06</td>\n",
       "    </tr>\n",
       "    <tr>\n",
       "      <th>std</th>\n",
       "      <td>0.0</td>\n",
       "      <td>2.845203</td>\n",
       "      <td>8.725343</td>\n",
       "      <td>2.595014</td>\n",
       "      <td>1.082567</td>\n",
       "      <td>1.394186</td>\n",
       "      <td>0.431911</td>\n",
       "      <td>2.581892</td>\n",
       "      <td>4.103127</td>\n",
       "      <td>5.907818</td>\n",
       "      <td>...</td>\n",
       "      <td>22549.159141</td>\n",
       "      <td>29557.495741</td>\n",
       "      <td>10526.915775</td>\n",
       "      <td>2.941155e+04</td>\n",
       "      <td>1914.232511</td>\n",
       "      <td>706.303522</td>\n",
       "      <td>1.323108e+04</td>\n",
       "      <td>3.216593e+04</td>\n",
       "      <td>3.603300e+04</td>\n",
       "      <td>1.006367e+06</td>\n",
       "    </tr>\n",
       "    <tr>\n",
       "      <th>min</th>\n",
       "      <td>2024.0</td>\n",
       "      <td>1.000000</td>\n",
       "      <td>1.000000</td>\n",
       "      <td>0.000000</td>\n",
       "      <td>0.000000</td>\n",
       "      <td>0.000000</td>\n",
       "      <td>0.000000</td>\n",
       "      <td>0.000000</td>\n",
       "      <td>0.000000</td>\n",
       "      <td>0.000000</td>\n",
       "      <td>...</td>\n",
       "      <td>0.000000</td>\n",
       "      <td>0.000000</td>\n",
       "      <td>0.000000</td>\n",
       "      <td>0.000000e+00</td>\n",
       "      <td>0.000000</td>\n",
       "      <td>0.000000</td>\n",
       "      <td>0.000000e+00</td>\n",
       "      <td>0.000000e+00</td>\n",
       "      <td>0.000000e+00</td>\n",
       "      <td>1.614000e+03</td>\n",
       "    </tr>\n",
       "    <tr>\n",
       "      <th>25%</th>\n",
       "      <td>2024.0</td>\n",
       "      <td>3.000000</td>\n",
       "      <td>8.000000</td>\n",
       "      <td>0.000000</td>\n",
       "      <td>0.000000</td>\n",
       "      <td>0.000000</td>\n",
       "      <td>0.000000</td>\n",
       "      <td>0.000000</td>\n",
       "      <td>0.000000</td>\n",
       "      <td>0.000000</td>\n",
       "      <td>...</td>\n",
       "      <td>0.000000</td>\n",
       "      <td>0.000000</td>\n",
       "      <td>0.000000</td>\n",
       "      <td>0.000000e+00</td>\n",
       "      <td>0.000000</td>\n",
       "      <td>0.000000</td>\n",
       "      <td>0.000000e+00</td>\n",
       "      <td>0.000000e+00</td>\n",
       "      <td>0.000000e+00</td>\n",
       "      <td>8.719955e+05</td>\n",
       "    </tr>\n",
       "    <tr>\n",
       "      <th>50%</th>\n",
       "      <td>2024.0</td>\n",
       "      <td>5.000000</td>\n",
       "      <td>16.000000</td>\n",
       "      <td>0.000000</td>\n",
       "      <td>0.000000</td>\n",
       "      <td>0.000000</td>\n",
       "      <td>0.000000</td>\n",
       "      <td>0.000000</td>\n",
       "      <td>0.000000</td>\n",
       "      <td>1.000000</td>\n",
       "      <td>...</td>\n",
       "      <td>0.000000</td>\n",
       "      <td>0.000000</td>\n",
       "      <td>0.000000</td>\n",
       "      <td>0.000000e+00</td>\n",
       "      <td>0.000000</td>\n",
       "      <td>0.000000</td>\n",
       "      <td>0.000000e+00</td>\n",
       "      <td>0.000000e+00</td>\n",
       "      <td>0.000000e+00</td>\n",
       "      <td>1.743947e+06</td>\n",
       "    </tr>\n",
       "    <tr>\n",
       "      <th>75%</th>\n",
       "      <td>2024.0</td>\n",
       "      <td>8.000000</td>\n",
       "      <td>23.000000</td>\n",
       "      <td>0.000000</td>\n",
       "      <td>0.000000</td>\n",
       "      <td>1.000000</td>\n",
       "      <td>0.000000</td>\n",
       "      <td>1.000000</td>\n",
       "      <td>2.000000</td>\n",
       "      <td>3.000000</td>\n",
       "      <td>...</td>\n",
       "      <td>1462.768998</td>\n",
       "      <td>3280.284027</td>\n",
       "      <td>0.000000</td>\n",
       "      <td>0.000000e+00</td>\n",
       "      <td>0.000000</td>\n",
       "      <td>0.000000</td>\n",
       "      <td>0.000000e+00</td>\n",
       "      <td>9.828223e+02</td>\n",
       "      <td>2.530166e+03</td>\n",
       "      <td>2.615951e+06</td>\n",
       "    </tr>\n",
       "    <tr>\n",
       "      <th>max</th>\n",
       "      <td>2024.0</td>\n",
       "      <td>10.000000</td>\n",
       "      <td>31.000000</td>\n",
       "      <td>63.000000</td>\n",
       "      <td>42.000000</td>\n",
       "      <td>26.000000</td>\n",
       "      <td>10.000000</td>\n",
       "      <td>104.000000</td>\n",
       "      <td>131.000000</td>\n",
       "      <td>159.000000</td>\n",
       "      <td>...</td>\n",
       "      <td>639893.246965</td>\n",
       "      <td>773253.954832</td>\n",
       "      <td>389942.860370</td>\n",
       "      <td>1.663924e+06</td>\n",
       "      <td>73444.100026</td>\n",
       "      <td>39962.450058</td>\n",
       "      <td>1.211276e+06</td>\n",
       "      <td>1.668492e+06</td>\n",
       "      <td>1.668492e+06</td>\n",
       "      <td>3.486153e+06</td>\n",
       "    </tr>\n",
       "  </tbody>\n",
       "</table>\n",
       "<p>8 rows × 25 columns</p>\n",
       "</div>"
      ],
      "text/plain": [
       "           year          month            day  portcalls_container  \\\n",
       "count  493339.0  493339.000000  493339.000000        493339.000000   \n",
       "mean     2024.0       5.455150      15.574751             0.729975   \n",
       "std         0.0       2.845203       8.725343             2.595014   \n",
       "min      2024.0       1.000000       1.000000             0.000000   \n",
       "25%      2024.0       3.000000       8.000000             0.000000   \n",
       "50%      2024.0       5.000000      16.000000             0.000000   \n",
       "75%      2024.0       8.000000      23.000000             0.000000   \n",
       "max      2024.0      10.000000      31.000000            63.000000   \n",
       "\n",
       "       portcalls_dry_bulk  portcalls_general_cargo  portcalls_roro  \\\n",
       "count       493339.000000            493339.000000   493339.000000   \n",
       "mean             0.387981                 0.577605        0.089062   \n",
       "std              1.082567                 1.394186        0.431911   \n",
       "min              0.000000                 0.000000        0.000000   \n",
       "25%              0.000000                 0.000000        0.000000   \n",
       "50%              0.000000                 0.000000        0.000000   \n",
       "75%              0.000000                 1.000000        0.000000   \n",
       "max             42.000000                26.000000       10.000000   \n",
       "\n",
       "       portcalls_tanker  portcalls_cargo      portcalls  ...   import_cargo  \\\n",
       "count     493339.000000    493339.000000  493339.000000  ...  493339.000000   \n",
       "mean           0.789998         1.784623       2.574621  ...    5945.257567   \n",
       "std            2.581892         4.103127       5.907818  ...   22549.159141   \n",
       "min            0.000000         0.000000       0.000000  ...       0.000000   \n",
       "25%            0.000000         0.000000       0.000000  ...       0.000000   \n",
       "50%            0.000000         0.000000       1.000000  ...       0.000000   \n",
       "75%            1.000000         2.000000       3.000000  ...    1462.768998   \n",
       "max          104.000000       131.000000     159.000000  ...  639893.246965   \n",
       "\n",
       "              import  export_container  export_dry_bulk  export_general_cargo  \\\n",
       "count  493339.000000     493339.000000     4.933390e+05         493339.000000   \n",
       "mean     8420.285098       1751.467274     3.789000e+03            449.071016   \n",
       "std     29557.495741      10526.915775     2.941155e+04           1914.232511   \n",
       "min         0.000000          0.000000     0.000000e+00              0.000000   \n",
       "25%         0.000000          0.000000     0.000000e+00              0.000000   \n",
       "50%         0.000000          0.000000     0.000000e+00              0.000000   \n",
       "75%      3280.284027          0.000000     0.000000e+00              0.000000   \n",
       "max    773253.954832     389942.860370     1.663924e+06          73444.100026   \n",
       "\n",
       "         export_roro  export_tanker  export_cargo        export      ObjectId  \n",
       "count  493339.000000   4.933390e+05  4.933390e+05  4.933390e+05  4.933390e+05  \n",
       "mean       73.529697   2.231420e+03  6.063068e+03  8.294488e+03  1.743990e+06  \n",
       "std       706.303522   1.323108e+04  3.216593e+04  3.603300e+04  1.006367e+06  \n",
       "min         0.000000   0.000000e+00  0.000000e+00  0.000000e+00  1.614000e+03  \n",
       "25%         0.000000   0.000000e+00  0.000000e+00  0.000000e+00  8.719955e+05  \n",
       "50%         0.000000   0.000000e+00  0.000000e+00  0.000000e+00  1.743947e+06  \n",
       "75%         0.000000   0.000000e+00  9.828223e+02  2.530166e+03  2.615951e+06  \n",
       "max     39962.450058   1.211276e+06  1.668492e+06  1.668492e+06  3.486153e+06  \n",
       "\n",
       "[8 rows x 25 columns]"
      ]
     },
     "execution_count": 52,
     "metadata": {},
     "output_type": "execute_result"
    }
   ],
   "source": [
    "data.describe()"
   ]
  },
  {
   "cell_type": "code",
   "execution_count": 66,
   "metadata": {},
   "outputs": [
    {
     "data": {
      "application/vnd.plotly.v1+json": {
       "config": {
        "plotlyServerURL": "https://plot.ly"
       },
       "data": [
        {
         "hovertemplate": "country=Albania<br>month=%{x}<br>Port Calls=%{y}<extra></extra>",
         "legendgroup": "Albania",
         "line": {
          "color": "#636efa",
          "dash": "solid"
         },
         "marker": {
          "symbol": "circle"
         },
         "mode": "lines",
         "name": "Albania",
         "showlegend": true,
         "type": "scattergl",
         "x": [
          1,
          2,
          3,
          4,
          5,
          6,
          7,
          8,
          9,
          10
         ],
         "xaxis": "x",
         "y": [
          0.4946236559139785,
          0.39080459770114945,
          0.44086021505376344,
          0.7777777777777778,
          0.5376344086021505,
          0.9222222222222223,
          0.9032258064516129,
          0.6881720430107527,
          0.6111111111111112,
          0.654320987654321
         ],
         "yaxis": "y"
        },
        {
         "hovertemplate": "country=Algeria<br>month=%{x}<br>Port Calls=%{y}<extra></extra>",
         "legendgroup": "Algeria",
         "line": {
          "color": "#EF553B",
          "dash": "solid"
         },
         "marker": {
          "symbol": "circle"
         },
         "mode": "lines",
         "name": "Algeria",
         "showlegend": true,
         "type": "scattergl",
         "x": [
          1,
          2,
          3,
          4,
          5,
          6,
          7,
          8,
          9,
          10
         ],
         "xaxis": "x",
         "y": [
          1.5878136200716846,
          1.524904214559387,
          1.7025089605734767,
          1.5703703703703704,
          1.7060931899641576,
          1.6481481481481481,
          1.7025089605734767,
          1.7383512544802868,
          1.5740740740740742,
          1.6213991769547325
         ],
         "yaxis": "y"
        },
        {
         "hovertemplate": "country=American Samoa<br>month=%{x}<br>Port Calls=%{y}<extra></extra>",
         "legendgroup": "American Samoa",
         "line": {
          "color": "#00cc96",
          "dash": "solid"
         },
         "marker": {
          "symbol": "circle"
         },
         "mode": "lines",
         "name": "American Samoa",
         "showlegend": true,
         "type": "scattergl",
         "x": [
          1,
          2,
          3,
          4,
          5,
          6,
          7,
          8,
          9,
          10
         ],
         "xaxis": "x",
         "y": [
          0.3548387096774194,
          0.3103448275862069,
          0.3548387096774194,
          0.4,
          0.41935483870967744,
          0.4,
          0.3870967741935484,
          0.41935483870967744,
          0.3,
          0.4074074074074074
         ],
         "yaxis": "y"
        },
        {
         "hovertemplate": "country=Angola<br>month=%{x}<br>Port Calls=%{y}<extra></extra>",
         "legendgroup": "Angola",
         "line": {
          "color": "#ab63fa",
          "dash": "solid"
         },
         "marker": {
          "symbol": "circle"
         },
         "mode": "lines",
         "name": "Angola",
         "showlegend": true,
         "type": "scattergl",
         "x": [
          1,
          2,
          3,
          4,
          5,
          6,
          7,
          8,
          9,
          10
         ],
         "xaxis": "x",
         "y": [
          1.0451612903225806,
          0.9517241379310345,
          1.0903225806451613,
          1.2133333333333334,
          1.038709677419355,
          1.0866666666666667,
          1.0774193548387097,
          1.2,
          1.12,
          1.1925925925925926
         ],
         "yaxis": "y"
        },
        {
         "hovertemplate": "country=Anguilla<br>month=%{x}<br>Port Calls=%{y}<extra></extra>",
         "legendgroup": "Anguilla",
         "line": {
          "color": "#FFA15A",
          "dash": "solid"
         },
         "marker": {
          "symbol": "circle"
         },
         "mode": "lines",
         "name": "Anguilla",
         "showlegend": true,
         "type": "scattergl",
         "x": [
          1,
          2,
          3,
          4,
          5,
          6,
          7,
          8,
          9,
          10
         ],
         "xaxis": "x",
         "y": [
          0.1935483870967742,
          0.1724137931034483,
          0.25806451612903225,
          0.3333333333333333,
          0.25806451612903225,
          0.36666666666666664,
          0.3548387096774194,
          0.16129032258064516,
          0.16666666666666666,
          0.14814814814814814
         ],
         "yaxis": "y"
        },
        {
         "hovertemplate": "country=Antigua and Barbuda<br>month=%{x}<br>Port Calls=%{y}<extra></extra>",
         "legendgroup": "Antigua and Barbuda",
         "line": {
          "color": "#19d3f3",
          "dash": "solid"
         },
         "marker": {
          "symbol": "circle"
         },
         "mode": "lines",
         "name": "Antigua and Barbuda",
         "showlegend": true,
         "type": "scattergl",
         "x": [
          1,
          2,
          3,
          4,
          5,
          6,
          7,
          8,
          9,
          10
         ],
         "xaxis": "x",
         "y": [
          1.3870967741935485,
          1.103448275862069,
          1.096774193548387,
          1.1,
          1.064516129032258,
          1,
          0.9354838709677419,
          1.096774193548387,
          0.8666666666666667,
          1
         ],
         "yaxis": "y"
        },
        {
         "hovertemplate": "country=Argentina<br>month=%{x}<br>Port Calls=%{y}<extra></extra>",
         "legendgroup": "Argentina",
         "line": {
          "color": "#FF6692",
          "dash": "solid"
         },
         "marker": {
          "symbol": "circle"
         },
         "mode": "lines",
         "name": "Argentina",
         "showlegend": true,
         "type": "scattergl",
         "x": [
          1,
          2,
          3,
          4,
          5,
          6,
          7,
          8,
          9,
          10
         ],
         "xaxis": "x",
         "y": [
          1.391705069124424,
          1.3522167487684729,
          1.3640552995391706,
          1.561904761904762,
          1.707373271889401,
          1.65,
          1.695852534562212,
          1.3248847926267282,
          1.5238095238095237,
          1.4417989417989419
         ],
         "yaxis": "y"
        },
        {
         "hovertemplate": "country=Aruba<br>month=%{x}<br>Port Calls=%{y}<extra></extra>",
         "legendgroup": "Aruba",
         "line": {
          "color": "#B6E880",
          "dash": "solid"
         },
         "marker": {
          "symbol": "circle"
         },
         "mode": "lines",
         "name": "Aruba",
         "showlegend": true,
         "type": "scattergl",
         "x": [
          1,
          2,
          3,
          4,
          5,
          6,
          7,
          8,
          9,
          10
         ],
         "xaxis": "x",
         "y": [
          0.41935483870967744,
          0.43103448275862066,
          0.4838709677419355,
          0.4666666666666667,
          0.4838709677419355,
          0.4666666666666667,
          0.5645161290322581,
          0.5,
          0.5333333333333333,
          0.48148148148148145
         ],
         "yaxis": "y"
        },
        {
         "hovertemplate": "country=Australia<br>month=%{x}<br>Port Calls=%{y}<extra></extra>",
         "legendgroup": "Australia",
         "line": {
          "color": "#FF97FF",
          "dash": "solid"
         },
         "marker": {
          "symbol": "circle"
         },
         "mode": "lines",
         "name": "Australia",
         "showlegend": true,
         "type": "scattergl",
         "x": [
          1,
          2,
          3,
          4,
          5,
          6,
          7,
          8,
          9,
          10
         ],
         "xaxis": "x",
         "y": [
          1.3458064516129031,
          1.4013793103448275,
          1.3929032258064515,
          1.3873333333333333,
          1.3858064516129032,
          1.4353333333333333,
          1.272258064516129,
          1.3458064516129031,
          1.33,
          1.2992592592592593
         ],
         "yaxis": "y"
        },
        {
         "hovertemplate": "country=Azerbaijan<br>month=%{x}<br>Port Calls=%{y}<extra></extra>",
         "legendgroup": "Azerbaijan",
         "line": {
          "color": "#FECB52",
          "dash": "solid"
         },
         "marker": {
          "symbol": "circle"
         },
         "mode": "lines",
         "name": "Azerbaijan",
         "showlegend": true,
         "type": "scattergl",
         "x": [
          1,
          2,
          3,
          4,
          5,
          6,
          7,
          8,
          9,
          10
         ],
         "xaxis": "x",
         "y": [
          4.709677419354839,
          4.758620689655173,
          4.612903225806452,
          5.533333333333333,
          5.129032258064516,
          5.766666666666667,
          4.774193548387097,
          5.774193548387097,
          4.7,
          3.814814814814815
         ],
         "yaxis": "y"
        },
        {
         "hovertemplate": "country=Bahrain<br>month=%{x}<br>Port Calls=%{y}<extra></extra>",
         "legendgroup": "Bahrain",
         "line": {
          "color": "#636efa",
          "dash": "solid"
         },
         "marker": {
          "symbol": "circle"
         },
         "mode": "lines",
         "name": "Bahrain",
         "showlegend": true,
         "type": "scattergl",
         "x": [
          1,
          2,
          3,
          4,
          5,
          6,
          7,
          8,
          9,
          10
         ],
         "xaxis": "x",
         "y": [
          1.5268817204301075,
          1.5057471264367817,
          1.5161290322580645,
          1.3222222222222222,
          1.3870967741935485,
          1.4111111111111112,
          1.4301075268817205,
          1.3225806451612903,
          1.4333333333333333,
          1.4938271604938271
         ],
         "yaxis": "y"
        },
        {
         "hovertemplate": "country=Bangladesh<br>month=%{x}<br>Port Calls=%{y}<extra></extra>",
         "legendgroup": "Bangladesh",
         "line": {
          "color": "#EF553B",
          "dash": "solid"
         },
         "marker": {
          "symbol": "circle"
         },
         "mode": "lines",
         "name": "Bangladesh",
         "showlegend": true,
         "type": "scattergl",
         "x": [
          1,
          2,
          3,
          4,
          5,
          6,
          7,
          8,
          9,
          10
         ],
         "xaxis": "x",
         "y": [
          1.6129032258064515,
          1.6810344827586208,
          1.7903225806451613,
          1.8583333333333334,
          1.7983870967741935,
          1.875,
          1.6048387096774193,
          1.6209677419354838,
          1.6583333333333334,
          1.7314814814814814
         ],
         "yaxis": "y"
        },
        {
         "hovertemplate": "country=Barbados<br>month=%{x}<br>Port Calls=%{y}<extra></extra>",
         "legendgroup": "Barbados",
         "line": {
          "color": "#00cc96",
          "dash": "solid"
         },
         "marker": {
          "symbol": "circle"
         },
         "mode": "lines",
         "name": "Barbados",
         "showlegend": true,
         "type": "scattergl",
         "x": [
          1,
          2,
          3,
          4,
          5,
          6,
          7,
          8,
          9,
          10
         ],
         "xaxis": "x",
         "y": [
          0.7903225806451613,
          0.8620689655172413,
          0.7258064516129032,
          0.7666666666666667,
          0.6290322580645161,
          0.7166666666666667,
          0.7258064516129032,
          0.6451612903225806,
          0.75,
          0.7222222222222222
         ],
         "yaxis": "y"
        },
        {
         "hovertemplate": "country=Belgium<br>month=%{x}<br>Port Calls=%{y}<extra></extra>",
         "legendgroup": "Belgium",
         "line": {
          "color": "#ab63fa",
          "dash": "solid"
         },
         "marker": {
          "symbol": "circle"
         },
         "mode": "lines",
         "name": "Belgium",
         "showlegend": true,
         "type": "scattergl",
         "x": [
          1,
          2,
          3,
          4,
          5,
          6,
          7,
          8,
          9,
          10
         ],
         "xaxis": "x",
         "y": [
          10.406451612903226,
          10.413793103448276,
          10.987096774193548,
          10.813333333333333,
          10.709677419354838,
          10.513333333333334,
          10.819354838709678,
          10.283870967741935,
          10.58,
          10.681481481481482
         ],
         "yaxis": "y"
        },
        {
         "hovertemplate": "country=Belize<br>month=%{x}<br>Port Calls=%{y}<extra></extra>",
         "legendgroup": "Belize",
         "line": {
          "color": "#FFA15A",
          "dash": "solid"
         },
         "marker": {
          "symbol": "circle"
         },
         "mode": "lines",
         "name": "Belize",
         "showlegend": true,
         "type": "scattergl",
         "x": [
          1,
          2,
          3,
          4,
          5,
          6,
          7,
          8,
          9,
          10
         ],
         "xaxis": "x",
         "y": [
          0.41935483870967744,
          0.41379310344827586,
          0.45161290322580644,
          0.48333333333333334,
          0.3548387096774194,
          0.4666666666666667,
          0.3387096774193548,
          0.3870967741935484,
          0.4666666666666667,
          0.4074074074074074
         ],
         "yaxis": "y"
        },
        {
         "hovertemplate": "country=Benin<br>month=%{x}<br>Port Calls=%{y}<extra></extra>",
         "legendgroup": "Benin",
         "line": {
          "color": "#19d3f3",
          "dash": "solid"
         },
         "marker": {
          "symbol": "circle"
         },
         "mode": "lines",
         "name": "Benin",
         "showlegend": true,
         "type": "scattergl",
         "x": [
          1,
          2,
          3,
          4,
          5,
          6,
          7,
          8,
          9,
          10
         ],
         "xaxis": "x",
         "y": [
          1.5161290322580645,
          1.5862068965517242,
          1.6129032258064515,
          1.8666666666666667,
          1.5806451612903225,
          1.8,
          1.903225806451613,
          1.935483870967742,
          1.9666666666666666,
          1.6296296296296295
         ],
         "yaxis": "y"
        },
        {
         "hovertemplate": "country=Bonaire,  Saint Eustatius and Saba<br>month=%{x}<br>Port Calls=%{y}<extra></extra>",
         "legendgroup": "Bonaire,  Saint Eustatius and Saba",
         "line": {
          "color": "#FF6692",
          "dash": "solid"
         },
         "marker": {
          "symbol": "circle"
         },
         "mode": "lines",
         "name": "Bonaire,  Saint Eustatius and Saba",
         "showlegend": true,
         "type": "scattergl",
         "x": [
          1,
          2,
          3,
          4,
          5,
          6,
          7,
          8,
          9,
          10
         ],
         "xaxis": "x",
         "y": [
          0.5161290322580645,
          0.8103448275862069,
          0.7419354838709677,
          0.85,
          0.6935483870967742,
          0.6833333333333333,
          0.5806451612903226,
          0.5806451612903226,
          0.6833333333333333,
          0.6296296296296297
         ],
         "yaxis": "y"
        },
        {
         "hovertemplate": "country=Brazil<br>month=%{x}<br>Port Calls=%{y}<extra></extra>",
         "legendgroup": "Brazil",
         "line": {
          "color": "#B6E880",
          "dash": "solid"
         },
         "marker": {
          "symbol": "circle"
         },
         "mode": "lines",
         "name": "Brazil",
         "showlegend": true,
         "type": "scattergl",
         "x": [
          1,
          2,
          3,
          4,
          5,
          6,
          7,
          8,
          9,
          10
         ],
         "xaxis": "x",
         "y": [
          2.005529953917051,
          2.013793103448276,
          2.0230414746543777,
          2.0695238095238095,
          2.0304147465437787,
          2.099047619047619,
          2.0230414746543777,
          2.1032258064516127,
          2.0714285714285716,
          1.9502645502645504
         ],
         "yaxis": "y"
        },
        {
         "hovertemplate": "country=British Virgin Islands<br>month=%{x}<br>Port Calls=%{y}<extra></extra>",
         "legendgroup": "British Virgin Islands",
         "line": {
          "color": "#FF97FF",
          "dash": "solid"
         },
         "marker": {
          "symbol": "circle"
         },
         "mode": "lines",
         "name": "British Virgin Islands",
         "showlegend": true,
         "type": "scattergl",
         "x": [
          1,
          2,
          3,
          4,
          5,
          6,
          7,
          8,
          9,
          10
         ],
         "xaxis": "x",
         "y": [
          0.25806451612903225,
          0.6206896551724138,
          0.5483870967741935,
          0.7,
          0.6129032258064516,
          0.4,
          0.3548387096774194,
          0.3225806451612903,
          0.3,
          0.25925925925925924
         ],
         "yaxis": "y"
        },
        {
         "hovertemplate": "country=Brunei Darussalam<br>month=%{x}<br>Port Calls=%{y}<extra></extra>",
         "legendgroup": "Brunei Darussalam",
         "line": {
          "color": "#FECB52",
          "dash": "solid"
         },
         "marker": {
          "symbol": "circle"
         },
         "mode": "lines",
         "name": "Brunei Darussalam",
         "showlegend": true,
         "type": "scattergl",
         "x": [
          1,
          2,
          3,
          4,
          5,
          6,
          7,
          8,
          9,
          10
         ],
         "xaxis": "x",
         "y": [
          1.1129032258064515,
          1.0862068965517242,
          1.1774193548387097,
          1.1666666666666667,
          1.2580645161290323,
          0.8333333333333334,
          0.8548387096774194,
          0.967741935483871,
          1.0666666666666667,
          1.0555555555555556
         ],
         "yaxis": "y"
        },
        {
         "hovertemplate": "country=Bulgaria<br>month=%{x}<br>Port Calls=%{y}<extra></extra>",
         "legendgroup": "Bulgaria",
         "line": {
          "color": "#636efa",
          "dash": "solid"
         },
         "marker": {
          "symbol": "circle"
         },
         "mode": "lines",
         "name": "Bulgaria",
         "showlegend": true,
         "type": "scattergl",
         "x": [
          1,
          2,
          3,
          4,
          5,
          6,
          7,
          8,
          9,
          10
         ],
         "xaxis": "x",
         "y": [
          2.467741935483871,
          2.6551724137931036,
          2.2419354838709675,
          2.6,
          2.3548387096774195,
          3.1333333333333333,
          2.7096774193548385,
          2.838709677419355,
          2.3,
          2.5925925925925926
         ],
         "yaxis": "y"
        },
        {
         "hovertemplate": "country=Cabo Verde<br>month=%{x}<br>Port Calls=%{y}<extra></extra>",
         "legendgroup": "Cabo Verde",
         "line": {
          "color": "#EF553B",
          "dash": "solid"
         },
         "marker": {
          "symbol": "circle"
         },
         "mode": "lines",
         "name": "Cabo Verde",
         "showlegend": true,
         "type": "scattergl",
         "x": [
          1,
          2,
          3,
          4,
          5,
          6,
          7,
          8,
          9,
          10
         ],
         "xaxis": "x",
         "y": [
          0.7225806451612903,
          0.9793103448275862,
          0.7161290322580646,
          0.82,
          0.7161290322580646,
          0.7733333333333333,
          0.8129032258064516,
          0.832258064516129,
          0.8466666666666667,
          0.8518518518518519
         ],
         "yaxis": "y"
        },
        {
         "hovertemplate": "country=Cambodia<br>month=%{x}<br>Port Calls=%{y}<extra></extra>",
         "legendgroup": "Cambodia",
         "line": {
          "color": "#00cc96",
          "dash": "solid"
         },
         "marker": {
          "symbol": "circle"
         },
         "mode": "lines",
         "name": "Cambodia",
         "showlegend": true,
         "type": "scattergl",
         "x": [
          1,
          2,
          3,
          4,
          5,
          6,
          7,
          8,
          9,
          10
         ],
         "xaxis": "x",
         "y": [
          1.903225806451613,
          1.4827586206896552,
          2.6129032258064515,
          2.3666666666666667,
          2.225806451612903,
          2.2666666666666666,
          1.967741935483871,
          1.064516129032258,
          1.1,
          1.0740740740740742
         ],
         "yaxis": "y"
        },
        {
         "hovertemplate": "country=Cameroon<br>month=%{x}<br>Port Calls=%{y}<extra></extra>",
         "legendgroup": "Cameroon",
         "line": {
          "color": "#ab63fa",
          "dash": "solid"
         },
         "marker": {
          "symbol": "circle"
         },
         "mode": "lines",
         "name": "Cameroon",
         "showlegend": true,
         "type": "scattergl",
         "x": [
          1,
          2,
          3,
          4,
          5,
          6,
          7,
          8,
          9,
          10
         ],
         "xaxis": "x",
         "y": [
          1.10752688172043,
          1,
          1.1290322580645162,
          1.1666666666666667,
          1.086021505376344,
          1.1444444444444444,
          1.053763440860215,
          1.1827956989247312,
          1.0222222222222221,
          1.1851851851851851
         ],
         "yaxis": "y"
        },
        {
         "hovertemplate": "country=Canada<br>month=%{x}<br>Port Calls=%{y}<extra></extra>",
         "legendgroup": "Canada",
         "line": {
          "color": "#FFA15A",
          "dash": "solid"
         },
         "marker": {
          "symbol": "circle"
         },
         "mode": "lines",
         "name": "Canada",
         "showlegend": true,
         "type": "scattergl",
         "x": [
          1,
          2,
          3,
          4,
          5,
          6,
          7,
          8,
          9,
          10
         ],
         "xaxis": "x",
         "y": [
          0.7539170506912443,
          0.7389162561576355,
          0.7981566820276498,
          0.981904761904762,
          0.9843317972350231,
          1.0057142857142858,
          0.96036866359447,
          0.9410138248847926,
          0.9542857142857143,
          0.9894179894179894
         ],
         "yaxis": "y"
        },
        {
         "hovertemplate": "country=Cayman Islands<br>month=%{x}<br>Port Calls=%{y}<extra></extra>",
         "legendgroup": "Cayman Islands",
         "line": {
          "color": "#19d3f3",
          "dash": "solid"
         },
         "marker": {
          "symbol": "circle"
         },
         "mode": "lines",
         "name": "Cayman Islands",
         "showlegend": true,
         "type": "scattergl",
         "x": [
          1,
          2,
          3,
          4,
          5,
          6,
          7,
          8,
          9,
          10
         ],
         "xaxis": "x",
         "y": [
          0.8387096774193549,
          0.8275862068965517,
          0.7419354838709677,
          0.8,
          0.7096774193548387,
          0.9333333333333333,
          0.6774193548387096,
          0.7741935483870968,
          0.6333333333333333,
          0.7037037037037037
         ],
         "yaxis": "y"
        },
        {
         "hovertemplate": "country=Chile<br>month=%{x}<br>Port Calls=%{y}<extra></extra>",
         "legendgroup": "Chile",
         "line": {
          "color": "#FF6692",
          "dash": "solid"
         },
         "marker": {
          "symbol": "circle"
         },
         "mode": "lines",
         "name": "Chile",
         "showlegend": true,
         "type": "scattergl",
         "x": [
          1,
          2,
          3,
          4,
          5,
          6,
          7,
          8,
          9,
          10
         ],
         "xaxis": "x",
         "y": [
          0.967741935483871,
          0.9292196007259528,
          0.9473684210526315,
          0.9175438596491228,
          0.9456706281833617,
          0.9157894736842105,
          0.8811544991511036,
          0.9320882852292021,
          0.8473684210526315,
          0.8615984405458089
         ],
         "yaxis": "y"
        },
        {
         "hovertemplate": "country=China<br>month=%{x}<br>Port Calls=%{y}<extra></extra>",
         "legendgroup": "China",
         "line": {
          "color": "#B6E880",
          "dash": "solid"
         },
         "marker": {
          "symbol": "circle"
         },
         "mode": "lines",
         "name": "China",
         "showlegend": true,
         "type": "scattergl",
         "x": [
          1,
          2,
          3,
          4,
          5,
          6,
          7,
          8,
          9,
          10
         ],
         "xaxis": "x",
         "y": [
          6.747580645161291,
          5.920258620689655,
          6.538306451612903,
          6.399583333333333,
          6.48266129032258,
          6.3879166666666665,
          6.014112903225806,
          6.069758064516129,
          5.7,
          5.739814814814815
         ],
         "yaxis": "y"
        },
        {
         "hovertemplate": "country=Colombia<br>month=%{x}<br>Port Calls=%{y}<extra></extra>",
         "legendgroup": "Colombia",
         "line": {
          "color": "#FF97FF",
          "dash": "solid"
         },
         "marker": {
          "symbol": "circle"
         },
         "mode": "lines",
         "name": "Colombia",
         "showlegend": true,
         "type": "scattergl",
         "x": [
          1,
          2,
          3,
          4,
          5,
          6,
          7,
          8,
          9,
          10
         ],
         "xaxis": "x",
         "y": [
          2.2701612903225805,
          2.4655172413793105,
          2.524193548387097,
          2.441666666666667,
          2.439516129032258,
          2.4125,
          2.2419354838709675,
          2.350806451612903,
          2.1875,
          2.1712962962962963
         ],
         "yaxis": "y"
        },
        {
         "hovertemplate": "country=Comoros<br>month=%{x}<br>Port Calls=%{y}<extra></extra>",
         "legendgroup": "Comoros",
         "line": {
          "color": "#FECB52",
          "dash": "solid"
         },
         "marker": {
          "symbol": "circle"
         },
         "mode": "lines",
         "name": "Comoros",
         "showlegend": true,
         "type": "scattergl",
         "x": [
          1,
          2,
          3,
          4,
          5,
          6,
          7,
          8,
          9,
          10
         ],
         "xaxis": "x",
         "y": [
          0.22580645161290322,
          0.15517241379310345,
          0.20967741935483872,
          0.18333333333333332,
          0.16129032258064516,
          0.18333333333333332,
          0.16129032258064516,
          0.1935483870967742,
          0.2,
          0.16666666666666666
         ],
         "yaxis": "y"
        },
        {
         "hovertemplate": "country=Cook Islands<br>month=%{x}<br>Port Calls=%{y}<extra></extra>",
         "legendgroup": "Cook Islands",
         "line": {
          "color": "#636efa",
          "dash": "solid"
         },
         "marker": {
          "symbol": "circle"
         },
         "mode": "lines",
         "name": "Cook Islands",
         "showlegend": true,
         "type": "scattergl",
         "x": [
          1,
          2,
          3,
          4,
          5,
          6,
          7,
          8,
          9,
          10
         ],
         "xaxis": "x",
         "y": [
          0.0967741935483871,
          0.06896551724137931,
          0.12903225806451613,
          0.1,
          0.12903225806451613,
          0.06666666666666667,
          0.12903225806451613,
          0.0967741935483871,
          0.1,
          0.07407407407407407
         ],
         "yaxis": "y"
        },
        {
         "hovertemplate": "country=Costa Rica<br>month=%{x}<br>Port Calls=%{y}<extra></extra>",
         "legendgroup": "Costa Rica",
         "line": {
          "color": "#EF553B",
          "dash": "solid"
         },
         "marker": {
          "symbol": "circle"
         },
         "mode": "lines",
         "name": "Costa Rica",
         "showlegend": true,
         "type": "scattergl",
         "x": [
          1,
          2,
          3,
          4,
          5,
          6,
          7,
          8,
          9,
          10
         ],
         "xaxis": "x",
         "y": [
          1.0516129032258064,
          1.096551724137931,
          1.1225806451612903,
          1.0733333333333333,
          1.0580645161290323,
          1,
          0.8451612903225807,
          0.896774193548387,
          0.8533333333333334,
          0.9259259259259259
         ],
         "yaxis": "y"
        },
        {
         "hovertemplate": "country=Croatia<br>month=%{x}<br>Port Calls=%{y}<extra></extra>",
         "legendgroup": "Croatia",
         "line": {
          "color": "#00cc96",
          "dash": "solid"
         },
         "marker": {
          "symbol": "circle"
         },
         "mode": "lines",
         "name": "Croatia",
         "showlegend": true,
         "type": "scattergl",
         "x": [
          1,
          2,
          3,
          4,
          5,
          6,
          7,
          8,
          9,
          10
         ],
         "xaxis": "x",
         "y": [
          0.33640552995391704,
          0.45320197044334976,
          0.45622119815668205,
          0.5523809523809524,
          0.5806451612903226,
          0.580952380952381,
          0.543778801843318,
          0.4147465437788018,
          0.43333333333333335,
          0.3915343915343915
         ],
         "yaxis": "y"
        },
        {
         "hovertemplate": "country=Cuba<br>month=%{x}<br>Port Calls=%{y}<extra></extra>",
         "legendgroup": "Cuba",
         "line": {
          "color": "#ab63fa",
          "dash": "solid"
         },
         "marker": {
          "symbol": "circle"
         },
         "mode": "lines",
         "name": "Cuba",
         "showlegend": true,
         "type": "scattergl",
         "x": [
          1,
          2,
          3,
          4,
          5,
          6,
          7,
          8,
          9,
          10
         ],
         "xaxis": "x",
         "y": [
          0.45622119815668205,
          0.458128078817734,
          0.4377880184331797,
          0.44285714285714284,
          0.4423963133640553,
          0.4857142857142857,
          0.41013824884792627,
          0.391705069124424,
          0.3904761904761905,
          0.3439153439153439
         ],
         "yaxis": "y"
        },
        {
         "hovertemplate": "country=Curaçao<br>month=%{x}<br>Port Calls=%{y}<extra></extra>",
         "legendgroup": "Curaçao",
         "line": {
          "color": "#FFA15A",
          "dash": "solid"
         },
         "marker": {
          "symbol": "circle"
         },
         "mode": "lines",
         "name": "Curaçao",
         "showlegend": true,
         "type": "scattergl",
         "x": [
          1,
          2,
          3,
          4,
          5,
          6,
          7,
          8,
          9,
          10
         ],
         "xaxis": "x",
         "y": [
          0.45161290322580644,
          0.4942528735632184,
          0.43010752688172044,
          0.4111111111111111,
          0.44086021505376344,
          0.37777777777777777,
          0.43010752688172044,
          0.3870967741935484,
          0.43333333333333335,
          0.41975308641975306
         ],
         "yaxis": "y"
        },
        {
         "hovertemplate": "country=Cyprus<br>month=%{x}<br>Port Calls=%{y}<extra></extra>",
         "legendgroup": "Cyprus",
         "line": {
          "color": "#19d3f3",
          "dash": "solid"
         },
         "marker": {
          "symbol": "circle"
         },
         "mode": "lines",
         "name": "Cyprus",
         "showlegend": true,
         "type": "scattergl",
         "x": [
          1,
          2,
          3,
          4,
          5,
          6,
          7,
          8,
          9,
          10
         ],
         "xaxis": "x",
         "y": [
          1.2580645161290323,
          1.2155172413793103,
          1.282258064516129,
          1.2666666666666666,
          1.3790322580645162,
          1.3166666666666667,
          1.1935483870967742,
          1.2741935483870968,
          1.4416666666666667,
          1.3981481481481481
         ],
         "yaxis": "y"
        },
        {
         "hovertemplate": "country=Côte d'Ivoire<br>month=%{x}<br>Port Calls=%{y}<extra></extra>",
         "legendgroup": "Côte d'Ivoire",
         "line": {
          "color": "#FF6692",
          "dash": "solid"
         },
         "marker": {
          "symbol": "circle"
         },
         "mode": "lines",
         "name": "Côte d'Ivoire",
         "showlegend": true,
         "type": "scattergl",
         "x": [
          1,
          2,
          3,
          4,
          5,
          6,
          7,
          8,
          9,
          10
         ],
         "xaxis": "x",
         "y": [
          2.5,
          2.7241379310344827,
          2.532258064516129,
          2.783333333333333,
          2.806451612903226,
          2.75,
          2.7419354838709675,
          2.467741935483871,
          2.8333333333333335,
          2.9444444444444446
         ],
         "yaxis": "y"
        },
        {
         "hovertemplate": "country=Democratic Republic of the Congo<br>month=%{x}<br>Port Calls=%{y}<extra></extra>",
         "legendgroup": "Democratic Republic of the Congo",
         "line": {
          "color": "#B6E880",
          "dash": "solid"
         },
         "marker": {
          "symbol": "circle"
         },
         "mode": "lines",
         "name": "Democratic Republic of the Congo",
         "showlegend": true,
         "type": "scattergl",
         "x": [
          1,
          2,
          3,
          4,
          5,
          6,
          7,
          8,
          9,
          10
         ],
         "xaxis": "x",
         "y": [
          0.5,
          0.6896551724137931,
          0.7419354838709677,
          0.7833333333333333,
          0.7258064516129032,
          0.6333333333333333,
          0.6612903225806451,
          0.6935483870967742,
          0.6333333333333333,
          0.7037037037037037
         ],
         "yaxis": "y"
        },
        {
         "hovertemplate": "country=Denmark<br>month=%{x}<br>Port Calls=%{y}<extra></extra>",
         "legendgroup": "Denmark",
         "line": {
          "color": "#FF97FF",
          "dash": "solid"
         },
         "marker": {
          "symbol": "circle"
         },
         "mode": "lines",
         "name": "Denmark",
         "showlegend": true,
         "type": "scattergl",
         "x": [
          1,
          2,
          3,
          4,
          5,
          6,
          7,
          8,
          9,
          10
         ],
         "xaxis": "x",
         "y": [
          1.368663594470046,
          1.3431855500821017,
          1.4055299539170507,
          1.3698412698412699,
          1.443932411674347,
          1.4095238095238096,
          1.271889400921659,
          1.3072196620583718,
          1.3523809523809525,
          1.4232804232804233
         ],
         "yaxis": "y"
        },
        {
         "hovertemplate": "country=Djibouti<br>month=%{x}<br>Port Calls=%{y}<extra></extra>",
         "legendgroup": "Djibouti",
         "line": {
          "color": "#FECB52",
          "dash": "solid"
         },
         "marker": {
          "symbol": "circle"
         },
         "mode": "lines",
         "name": "Djibouti",
         "showlegend": true,
         "type": "scattergl",
         "x": [
          1,
          2,
          3,
          4,
          5,
          6,
          7,
          8,
          9,
          10
         ],
         "xaxis": "x",
         "y": [
          3.3548387096774195,
          3.3793103448275863,
          3.6451612903225805,
          3.8666666666666667,
          3.6774193548387095,
          2.966666666666667,
          3.2903225806451615,
          3.3548387096774195,
          3.2666666666666666,
          3.5185185185185186
         ],
         "yaxis": "y"
        },
        {
         "hovertemplate": "country=Dominica<br>month=%{x}<br>Port Calls=%{y}<extra></extra>",
         "legendgroup": "Dominica",
         "line": {
          "color": "#636efa",
          "dash": "solid"
         },
         "marker": {
          "symbol": "circle"
         },
         "mode": "lines",
         "name": "Dominica",
         "showlegend": true,
         "type": "scattergl",
         "x": [
          1,
          2,
          3,
          4,
          5,
          6,
          7,
          8,
          9,
          10
         ],
         "xaxis": "x",
         "y": [
          0.6451612903225806,
          0.5862068965517241,
          0.6129032258064516,
          0.7,
          0.8064516129032258,
          0.6333333333333333,
          0.5806451612903226,
          0.7419354838709677,
          0.6333333333333333,
          0.7407407407407407
         ],
         "yaxis": "y"
        },
        {
         "hovertemplate": "country=Dominican Republic<br>month=%{x}<br>Port Calls=%{y}<extra></extra>",
         "legendgroup": "Dominican Republic",
         "line": {
          "color": "#EF553B",
          "dash": "solid"
         },
         "marker": {
          "symbol": "circle"
         },
         "mode": "lines",
         "name": "Dominican Republic",
         "showlegend": true,
         "type": "scattergl",
         "x": [
          1,
          2,
          3,
          4,
          5,
          6,
          7,
          8,
          9,
          10
         ],
         "xaxis": "x",
         "y": [
          0.8602150537634409,
          0.9693486590038314,
          0.96415770609319,
          0.9518518518518518,
          0.978494623655914,
          0.9592592592592593,
          0.9032258064516129,
          0.921146953405018,
          0.837037037037037,
          0.8559670781893004
         ],
         "yaxis": "y"
        },
        {
         "hovertemplate": "country=Ecuador<br>month=%{x}<br>Port Calls=%{y}<extra></extra>",
         "legendgroup": "Ecuador",
         "line": {
          "color": "#00cc96",
          "dash": "solid"
         },
         "marker": {
          "symbol": "circle"
         },
         "mode": "lines",
         "name": "Ecuador",
         "showlegend": true,
         "type": "scattergl",
         "x": [
          1,
          2,
          3,
          4,
          5,
          6,
          7,
          8,
          9,
          10
         ],
         "xaxis": "x",
         "y": [
          1.5,
          1.4425287356321839,
          1.3440860215053763,
          1.3388888888888888,
          1.424731182795699,
          1.3666666666666667,
          1.2795698924731183,
          1.2849462365591398,
          1.3833333333333333,
          1.4074074074074074
         ],
         "yaxis": "y"
        },
        {
         "hovertemplate": "country=Egypt<br>month=%{x}<br>Port Calls=%{y}<extra></extra>",
         "legendgroup": "Egypt",
         "line": {
          "color": "#ab63fa",
          "dash": "solid"
         },
         "marker": {
          "symbol": "circle"
         },
         "mode": "lines",
         "name": "Egypt",
         "showlegend": true,
         "type": "scattergl",
         "x": [
          1,
          2,
          3,
          4,
          5,
          6,
          7,
          8,
          9,
          10
         ],
         "xaxis": "x",
         "y": [
          2.1693548387096775,
          2.485632183908046,
          2.336021505376344,
          2.45,
          2.6478494623655915,
          2.588888888888889,
          2.422043010752688,
          2.379032258064516,
          2.236111111111111,
          2.1790123456790123
         ],
         "yaxis": "y"
        },
        {
         "hovertemplate": "country=El Salvador<br>month=%{x}<br>Port Calls=%{y}<extra></extra>",
         "legendgroup": "El Salvador",
         "line": {
          "color": "#FFA15A",
          "dash": "solid"
         },
         "marker": {
          "symbol": "circle"
         },
         "mode": "lines",
         "name": "El Salvador",
         "showlegend": true,
         "type": "scattergl",
         "x": [
          1,
          2,
          3,
          4,
          5,
          6,
          7,
          8,
          9,
          10
         ],
         "xaxis": "x",
         "y": [
          1.8709677419354838,
          1.5862068965517242,
          2.032258064516129,
          2.066666666666667,
          1.8709677419354838,
          1.6,
          1.6129032258064515,
          1.6451612903225807,
          1.4666666666666666,
          1.4444444444444444
         ],
         "yaxis": "y"
        },
        {
         "hovertemplate": "country=Equatorial Guinea<br>month=%{x}<br>Port Calls=%{y}<extra></extra>",
         "legendgroup": "Equatorial Guinea",
         "line": {
          "color": "#19d3f3",
          "dash": "solid"
         },
         "marker": {
          "symbol": "circle"
         },
         "mode": "lines",
         "name": "Equatorial Guinea",
         "showlegend": true,
         "type": "scattergl",
         "x": [
          1,
          2,
          3,
          4,
          5,
          6,
          7,
          8,
          9,
          10
         ],
         "xaxis": "x",
         "y": [
          0.6021505376344086,
          0.5172413793103449,
          0.44086021505376344,
          0.5666666666666667,
          0.44086021505376344,
          0.4666666666666667,
          0.5053763440860215,
          0.6451612903225806,
          0.45555555555555555,
          0.5061728395061729
         ],
         "yaxis": "y"
        },
        {
         "hovertemplate": "country=Eritrea<br>month=%{x}<br>Port Calls=%{y}<extra></extra>",
         "legendgroup": "Eritrea",
         "line": {
          "color": "#FF6692",
          "dash": "solid"
         },
         "marker": {
          "symbol": "circle"
         },
         "mode": "lines",
         "name": "Eritrea",
         "showlegend": true,
         "type": "scattergl",
         "x": [
          1,
          2,
          3,
          4,
          5,
          6,
          7,
          8,
          9,
          10
         ],
         "xaxis": "x",
         "y": [
          0.22580645161290322,
          0.1724137931034483,
          0.1935483870967742,
          0.2,
          0.22580645161290322,
          0.13333333333333333,
          0.12903225806451613,
          0.25806451612903225,
          0.3,
          0.25925925925925924
         ],
         "yaxis": "y"
        },
        {
         "hovertemplate": "country=Estonia<br>month=%{x}<br>Port Calls=%{y}<extra></extra>",
         "legendgroup": "Estonia",
         "line": {
          "color": "#B6E880",
          "dash": "solid"
         },
         "marker": {
          "symbol": "circle"
         },
         "mode": "lines",
         "name": "Estonia",
         "showlegend": true,
         "type": "scattergl",
         "x": [
          1,
          2,
          3,
          4,
          5,
          6,
          7,
          8,
          9,
          10
         ],
         "xaxis": "x",
         "y": [
          0.9731182795698925,
          1.1494252873563218,
          1.403225806451613,
          1.3277777777777777,
          1.2526881720430108,
          1.2444444444444445,
          1.2688172043010753,
          1.053763440860215,
          1.0555555555555556,
          1.2098765432098766
         ],
         "yaxis": "y"
        },
        {
         "hovertemplate": "country=Faroe Islands<br>month=%{x}<br>Port Calls=%{y}<extra></extra>",
         "legendgroup": "Faroe Islands",
         "line": {
          "color": "#FF97FF",
          "dash": "solid"
         },
         "marker": {
          "symbol": "circle"
         },
         "mode": "lines",
         "name": "Faroe Islands",
         "showlegend": true,
         "type": "scattergl",
         "x": [
          1,
          2,
          3,
          4,
          5,
          6,
          7,
          8,
          9,
          10
         ],
         "xaxis": "x",
         "y": [
          0.3064516129032258,
          0.22413793103448276,
          0.41935483870967744,
          0.36666666666666664,
          0.27419354838709675,
          0.36666666666666664,
          0.1774193548387097,
          0.24193548387096775,
          0.31666666666666665,
          0.2037037037037037
         ],
         "yaxis": "y"
        },
        {
         "hovertemplate": "country=Fiji<br>month=%{x}<br>Port Calls=%{y}<extra></extra>",
         "legendgroup": "Fiji",
         "line": {
          "color": "#FECB52",
          "dash": "solid"
         },
         "marker": {
          "symbol": "circle"
         },
         "mode": "lines",
         "name": "Fiji",
         "showlegend": true,
         "type": "scattergl",
         "x": [
          1,
          2,
          3,
          4,
          5,
          6,
          7,
          8,
          9,
          10
         ],
         "xaxis": "x",
         "y": [
          0.3978494623655914,
          0.3390804597701149,
          0.3602150537634409,
          0.4388888888888889,
          0.3870967741935484,
          0.4388888888888889,
          0.4032258064516129,
          0.34946236559139787,
          0.3888888888888889,
          0.35802469135802467
         ],
         "yaxis": "y"
        },
        {
         "hovertemplate": "country=Finland<br>month=%{x}<br>Port Calls=%{y}<extra></extra>",
         "legendgroup": "Finland",
         "line": {
          "color": "#636efa",
          "dash": "solid"
         },
         "marker": {
          "symbol": "circle"
         },
         "mode": "lines",
         "name": "Finland",
         "showlegend": true,
         "type": "scattergl",
         "x": [
          1,
          2,
          3,
          4,
          5,
          6,
          7,
          8,
          9,
          10
         ],
         "xaxis": "x",
         "y": [
          1.0448807854137447,
          1.0209895052473763,
          0.7335203366058906,
          1.03768115942029,
          1.1935483870967742,
          1.1884057971014492,
          1.1262272089761571,
          1.1598877980364657,
          1.0898550724637681,
          1.066022544283414
         ],
         "yaxis": "y"
        },
        {
         "hovertemplate": "country=France<br>month=%{x}<br>Port Calls=%{y}<extra></extra>",
         "legendgroup": "France",
         "line": {
          "color": "#EF553B",
          "dash": "solid"
         },
         "marker": {
          "symbol": "circle"
         },
         "mode": "lines",
         "name": "France",
         "showlegend": true,
         "type": "scattergl",
         "x": [
          1,
          2,
          3,
          4,
          5,
          6,
          7,
          8,
          9,
          10
         ],
         "xaxis": "x",
         "y": [
          1.641705069124424,
          1.6834975369458127,
          1.8456221198156681,
          1.8511904761904763,
          1.8513824884792627,
          1.9321428571428572,
          1.8202764976958525,
          1.6774193548387097,
          1.7119047619047618,
          1.7671957671957672
         ],
         "yaxis": "y"
        },
        {
         "hovertemplate": "country=French Guiana<br>month=%{x}<br>Port Calls=%{y}<extra></extra>",
         "legendgroup": "French Guiana",
         "line": {
          "color": "#00cc96",
          "dash": "solid"
         },
         "marker": {
          "symbol": "circle"
         },
         "mode": "lines",
         "name": "French Guiana",
         "showlegend": true,
         "type": "scattergl",
         "x": [
          1,
          2,
          3,
          4,
          5,
          6,
          7,
          8,
          9,
          10
         ],
         "xaxis": "x",
         "y": [
          0.3225806451612903,
          0.3103448275862069,
          0.3387096774193548,
          0.38333333333333336,
          0.3870967741935484,
          0.25,
          0.3064516129032258,
          0.3387096774193548,
          0.3,
          0.35185185185185186
         ],
         "yaxis": "y"
        },
        {
         "hovertemplate": "country=French Polynesia<br>month=%{x}<br>Port Calls=%{y}<extra></extra>",
         "legendgroup": "French Polynesia",
         "line": {
          "color": "#ab63fa",
          "dash": "solid"
         },
         "marker": {
          "symbol": "circle"
         },
         "mode": "lines",
         "name": "French Polynesia",
         "showlegend": true,
         "type": "scattergl",
         "x": [
          1,
          2,
          3,
          4,
          5,
          6,
          7,
          8,
          9,
          10
         ],
         "xaxis": "x",
         "y": [
          0.8387096774193549,
          0.8448275862068966,
          0.8548387096774194,
          0.95,
          0.7580645161290323,
          0.9,
          1.032258064516129,
          0.8870967741935484,
          1.0166666666666666,
          1.0555555555555556
         ],
         "yaxis": "y"
        },
        {
         "hovertemplate": "country=Gabon<br>month=%{x}<br>Port Calls=%{y}<extra></extra>",
         "legendgroup": "Gabon",
         "line": {
          "color": "#FFA15A",
          "dash": "solid"
         },
         "marker": {
          "symbol": "circle"
         },
         "mode": "lines",
         "name": "Gabon",
         "showlegend": true,
         "type": "scattergl",
         "x": [
          1,
          2,
          3,
          4,
          5,
          6,
          7,
          8,
          9,
          10
         ],
         "xaxis": "x",
         "y": [
          0.7204301075268817,
          0.6666666666666666,
          0.7741935483870968,
          0.7,
          0.7849462365591398,
          0.8333333333333334,
          0.7849462365591398,
          0.7419354838709677,
          0.7222222222222222,
          0.8271604938271605
         ],
         "yaxis": "y"
        },
        {
         "hovertemplate": "country=Georgia<br>month=%{x}<br>Port Calls=%{y}<extra></extra>",
         "legendgroup": "Georgia",
         "line": {
          "color": "#19d3f3",
          "dash": "solid"
         },
         "marker": {
          "symbol": "circle"
         },
         "mode": "lines",
         "name": "Georgia",
         "showlegend": true,
         "type": "scattergl",
         "x": [
          1,
          2,
          3,
          4,
          5,
          6,
          7,
          8,
          9,
          10
         ],
         "xaxis": "x",
         "y": [
          1.0161290322580645,
          0.8879310344827587,
          0.9112903225806451,
          0.9166666666666666,
          0.9112903225806451,
          0.8083333333333333,
          0.6854838709677419,
          0.8064516129032258,
          0.7916666666666666,
          0.7592592592592593
         ],
         "yaxis": "y"
        },
        {
         "hovertemplate": "country=Germany<br>month=%{x}<br>Port Calls=%{y}<extra></extra>",
         "legendgroup": "Germany",
         "line": {
          "color": "#FF6692",
          "dash": "solid"
         },
         "marker": {
          "symbol": "circle"
         },
         "mode": "lines",
         "name": "Germany",
         "showlegend": true,
         "type": "scattergl",
         "x": [
          1,
          2,
          3,
          4,
          5,
          6,
          7,
          8,
          9,
          10
         ],
         "xaxis": "x",
         "y": [
          3.6470588235294117,
          3.744421906693712,
          3.715370018975332,
          3.803921568627451,
          3.7020872865275143,
          3.835294117647059,
          3.724857685009488,
          3.650853889943074,
          3.835294117647059,
          3.679738562091503
         ],
         "yaxis": "y"
        },
        {
         "hovertemplate": "country=Ghana<br>month=%{x}<br>Port Calls=%{y}<extra></extra>",
         "legendgroup": "Ghana",
         "line": {
          "color": "#B6E880",
          "dash": "solid"
         },
         "marker": {
          "symbol": "circle"
         },
         "mode": "lines",
         "name": "Ghana",
         "showlegend": true,
         "type": "scattergl",
         "x": [
          1,
          2,
          3,
          4,
          5,
          6,
          7,
          8,
          9,
          10
         ],
         "xaxis": "x",
         "y": [
          1.6451612903225807,
          1.4137931034482758,
          1.4516129032258065,
          1.6333333333333333,
          1.6451612903225807,
          1.7222222222222223,
          1.6236559139784945,
          1.5591397849462365,
          1.5555555555555556,
          1.7160493827160495
         ],
         "yaxis": "y"
        },
        {
         "hovertemplate": "country=Gibraltar<br>month=%{x}<br>Port Calls=%{y}<extra></extra>",
         "legendgroup": "Gibraltar",
         "line": {
          "color": "#FF97FF",
          "dash": "solid"
         },
         "marker": {
          "symbol": "circle"
         },
         "mode": "lines",
         "name": "Gibraltar",
         "showlegend": true,
         "type": "scattergl",
         "x": [
          1,
          2,
          3,
          4,
          5,
          6,
          7,
          8,
          9,
          10
         ],
         "xaxis": "x",
         "y": [
          2.838709677419355,
          2,
          1.8709677419354838,
          2.033333333333333,
          2.032258064516129,
          1.5333333333333334,
          1.7419354838709677,
          1.7419354838709677,
          1.9333333333333333,
          1.6296296296296295
         ],
         "yaxis": "y"
        },
        {
         "hovertemplate": "country=Greece<br>month=%{x}<br>Port Calls=%{y}<extra></extra>",
         "legendgroup": "Greece",
         "line": {
          "color": "#FECB52",
          "dash": "solid"
         },
         "marker": {
          "symbol": "circle"
         },
         "mode": "lines",
         "name": "Greece",
         "showlegend": true,
         "type": "scattergl",
         "x": [
          1,
          2,
          3,
          4,
          5,
          6,
          7,
          8,
          9,
          10
         ],
         "xaxis": "x",
         "y": [
          1.6642228739002933,
          1.8746081504702194,
          1.8856304985337244,
          1.8075757575757576,
          1.844574780058651,
          1.896969696969697,
          1.997067448680352,
          1.9149560117302054,
          1.903030303030303,
          1.84006734006734
         ],
         "yaxis": "y"
        },
        {
         "hovertemplate": "country=Grenada<br>month=%{x}<br>Port Calls=%{y}<extra></extra>",
         "legendgroup": "Grenada",
         "line": {
          "color": "#636efa",
          "dash": "solid"
         },
         "marker": {
          "symbol": "circle"
         },
         "mode": "lines",
         "name": "Grenada",
         "showlegend": true,
         "type": "scattergl",
         "x": [
          1,
          2,
          3,
          4,
          5,
          6,
          7,
          8,
          9,
          10
         ],
         "xaxis": "x",
         "y": [
          0.7419354838709677,
          1,
          0.8709677419354839,
          0.7666666666666667,
          0.8709677419354839,
          0.8,
          0.967741935483871,
          1.064516129032258,
          1.1333333333333333,
          0.8518518518518519
         ],
         "yaxis": "y"
        },
        {
         "hovertemplate": "country=Guadeloupe<br>month=%{x}<br>Port Calls=%{y}<extra></extra>",
         "legendgroup": "Guadeloupe",
         "line": {
          "color": "#EF553B",
          "dash": "solid"
         },
         "marker": {
          "symbol": "circle"
         },
         "mode": "lines",
         "name": "Guadeloupe",
         "showlegend": true,
         "type": "scattergl",
         "x": [
          1,
          2,
          3,
          4,
          5,
          6,
          7,
          8,
          9,
          10
         ],
         "xaxis": "x",
         "y": [
          1.8387096774193548,
          1.8620689655172413,
          1.8387096774193548,
          2,
          1.7096774193548387,
          1.7333333333333334,
          1.6129032258064515,
          1.8709677419354838,
          1.4333333333333333,
          1.6296296296296295
         ],
         "yaxis": "y"
        },
        {
         "hovertemplate": "country=Guam<br>month=%{x}<br>Port Calls=%{y}<extra></extra>",
         "legendgroup": "Guam",
         "line": {
          "color": "#00cc96",
          "dash": "solid"
         },
         "marker": {
          "symbol": "circle"
         },
         "mode": "lines",
         "name": "Guam",
         "showlegend": true,
         "type": "scattergl",
         "x": [
          1,
          2,
          3,
          4,
          5,
          6,
          7,
          8,
          9,
          10
         ],
         "xaxis": "x",
         "y": [
          0.9032258064516129,
          0.6896551724137931,
          0.8709677419354839,
          0.8333333333333334,
          0.8387096774193549,
          0.7666666666666667,
          0.8064516129032258,
          0.7419354838709677,
          0.7333333333333333,
          0.7037037037037037
         ],
         "yaxis": "y"
        },
        {
         "hovertemplate": "country=Guatemala<br>month=%{x}<br>Port Calls=%{y}<extra></extra>",
         "legendgroup": "Guatemala",
         "line": {
          "color": "#ab63fa",
          "dash": "solid"
         },
         "marker": {
          "symbol": "circle"
         },
         "mode": "lines",
         "name": "Guatemala",
         "showlegend": true,
         "type": "scattergl",
         "x": [
          1,
          2,
          3,
          4,
          5,
          6,
          7,
          8,
          9,
          10
         ],
         "xaxis": "x",
         "y": [
          3.7903225806451615,
          4.086206896551724,
          3.838709677419355,
          3.6333333333333333,
          3.725806451612903,
          3.8,
          3.6774193548387095,
          3.629032258064516,
          3.45,
          3.611111111111111
         ],
         "yaxis": "y"
        },
        {
         "hovertemplate": "country=Guinea<br>month=%{x}<br>Port Calls=%{y}<extra></extra>",
         "legendgroup": "Guinea",
         "line": {
          "color": "#FFA15A",
          "dash": "solid"
         },
         "marker": {
          "symbol": "circle"
         },
         "mode": "lines",
         "name": "Guinea",
         "showlegend": true,
         "type": "scattergl",
         "x": [
          1,
          2,
          3,
          4,
          5,
          6,
          7,
          8,
          9,
          10
         ],
         "xaxis": "x",
         "y": [
          1.2580645161290323,
          1.3448275862068966,
          1.4516129032258065,
          1.35,
          1.467741935483871,
          1.15,
          1.2258064516129032,
          1.1935483870967742,
          1.2833333333333334,
          1.3333333333333333
         ],
         "yaxis": "y"
        },
        {
         "hovertemplate": "country=Guinea-Bissau<br>month=%{x}<br>Port Calls=%{y}<extra></extra>",
         "legendgroup": "Guinea-Bissau",
         "line": {
          "color": "#19d3f3",
          "dash": "solid"
         },
         "marker": {
          "symbol": "circle"
         },
         "mode": "lines",
         "name": "Guinea-Bissau",
         "showlegend": true,
         "type": "scattergl",
         "x": [
          1,
          2,
          3,
          4,
          5,
          6,
          7,
          8,
          9,
          10
         ],
         "xaxis": "x",
         "y": [
          0.5161290322580645,
          0.3793103448275862,
          0.2903225806451613,
          0.4666666666666667,
          0.5806451612903226,
          0.6666666666666666,
          0.5483870967741935,
          0.5483870967741935,
          0.3,
          0.14814814814814814
         ],
         "yaxis": "y"
        },
        {
         "hovertemplate": "country=Guyana<br>month=%{x}<br>Port Calls=%{y}<extra></extra>",
         "legendgroup": "Guyana",
         "line": {
          "color": "#FF6692",
          "dash": "solid"
         },
         "marker": {
          "symbol": "circle"
         },
         "mode": "lines",
         "name": "Guyana",
         "showlegend": true,
         "type": "scattergl",
         "x": [
          1,
          2,
          3,
          4,
          5,
          6,
          7,
          8,
          9,
          10
         ],
         "xaxis": "x",
         "y": [
          1.2150537634408602,
          1.3793103448275863,
          1.1935483870967742,
          1.3222222222222222,
          1.2688172043010753,
          1.3222222222222222,
          1.1612903225806452,
          1.2258064516129032,
          1.0666666666666667,
          1.1975308641975309
         ],
         "yaxis": "y"
        },
        {
         "hovertemplate": "country=Haiti<br>month=%{x}<br>Port Calls=%{y}<extra></extra>",
         "legendgroup": "Haiti",
         "line": {
          "color": "#B6E880",
          "dash": "solid"
         },
         "marker": {
          "symbol": "circle"
         },
         "mode": "lines",
         "name": "Haiti",
         "showlegend": true,
         "type": "scattergl",
         "x": [
          1,
          2,
          3,
          4,
          5,
          6,
          7,
          8,
          9,
          10
         ],
         "xaxis": "x",
         "y": [
          0.5806451612903226,
          0.5287356321839081,
          0.34408602150537637,
          0.37777777777777777,
          0.5698924731182796,
          0.6111111111111112,
          0.5591397849462365,
          0.6021505376344086,
          0.5666666666666667,
          0.5555555555555556
         ],
         "yaxis": "y"
        },
        {
         "hovertemplate": "country=Honduras<br>month=%{x}<br>Port Calls=%{y}<extra></extra>",
         "legendgroup": "Honduras",
         "line": {
          "color": "#FF97FF",
          "dash": "solid"
         },
         "marker": {
          "symbol": "circle"
         },
         "mode": "lines",
         "name": "Honduras",
         "showlegend": true,
         "type": "scattergl",
         "x": [
          1,
          2,
          3,
          4,
          5,
          6,
          7,
          8,
          9,
          10
         ],
         "xaxis": "x",
         "y": [
          1.4838709677419355,
          1.7011494252873562,
          1.6666666666666667,
          1.6666666666666667,
          1.5268817204301075,
          1.6222222222222222,
          1.3978494623655915,
          1.4623655913978495,
          1.4444444444444444,
          1.4814814814814814
         ],
         "yaxis": "y"
        },
        {
         "hovertemplate": "country=Hong Kong SAR<br>month=%{x}<br>Port Calls=%{y}<extra></extra>",
         "legendgroup": "Hong Kong SAR",
         "line": {
          "color": "#FECB52",
          "dash": "solid"
         },
         "marker": {
          "symbol": "circle"
         },
         "mode": "lines",
         "name": "Hong Kong SAR",
         "showlegend": true,
         "type": "scattergl",
         "x": [
          1,
          2,
          3,
          4,
          5,
          6,
          7,
          8,
          9,
          10
         ],
         "xaxis": "x",
         "y": [
          39.87096774193548,
          35.51724137931034,
          38.45161290322581,
          38.266666666666666,
          37.774193548387096,
          37.4,
          35.45161290322581,
          36.70967741935484,
          35.93333333333333,
          36.111111111111114
         ],
         "yaxis": "y"
        },
        {
         "hovertemplate": "country=Iceland<br>month=%{x}<br>Port Calls=%{y}<extra></extra>",
         "legendgroup": "Iceland",
         "line": {
          "color": "#636efa",
          "dash": "solid"
         },
         "marker": {
          "symbol": "circle"
         },
         "mode": "lines",
         "name": "Iceland",
         "showlegend": true,
         "type": "scattergl",
         "x": [
          1,
          2,
          3,
          4,
          5,
          6,
          7,
          8,
          9,
          10
         ],
         "xaxis": "x",
         "y": [
          0.3279569892473118,
          0.40229885057471265,
          0.4032258064516129,
          0.5055555555555555,
          0.4838709677419355,
          0.42777777777777776,
          0.42473118279569894,
          0.45161290322580644,
          0.46111111111111114,
          0.48148148148148145
         ],
         "yaxis": "y"
        },
        {
         "hovertemplate": "country=India<br>month=%{x}<br>Port Calls=%{y}<extra></extra>",
         "legendgroup": "India",
         "line": {
          "color": "#EF553B",
          "dash": "solid"
         },
         "marker": {
          "symbol": "circle"
         },
         "mode": "lines",
         "name": "India",
         "showlegend": true,
         "type": "scattergl",
         "x": [
          1,
          2,
          3,
          4,
          5,
          6,
          7,
          8,
          9,
          10
         ],
         "xaxis": "x",
         "y": [
          3.055299539170507,
          3.0960591133004924,
          3.2442396313364057,
          3.270238095238095,
          3.197004608294931,
          3.4214285714285713,
          3.184331797235023,
          3.046082949308756,
          2.9047619047619047,
          2.9404761904761907
         ],
         "yaxis": "y"
        },
        {
         "hovertemplate": "country=Indonesia<br>month=%{x}<br>Port Calls=%{y}<extra></extra>",
         "legendgroup": "Indonesia",
         "line": {
          "color": "#00cc96",
          "dash": "solid"
         },
         "marker": {
          "symbol": "circle"
         },
         "mode": "lines",
         "name": "Indonesia",
         "showlegend": true,
         "type": "scattergl",
         "x": [
          1,
          2,
          3,
          4,
          5,
          6,
          7,
          8,
          9,
          10
         ],
         "xaxis": "x",
         "y": [
          2.4696774193548388,
          2.4593103448275864,
          2.5264516129032257,
          2.2431111111111113,
          2.5234408602150538,
          2.485333333333333,
          2.4438709677419355,
          2.428817204301075,
          2.4164444444444446,
          2.4874074074074075
         ],
         "yaxis": "y"
        },
        {
         "hovertemplate": "country=Iran<br>month=%{x}<br>Port Calls=%{y}<extra></extra>",
         "legendgroup": "Iran",
         "line": {
          "color": "#ab63fa",
          "dash": "solid"
         },
         "marker": {
          "symbol": "circle"
         },
         "mode": "lines",
         "name": "Iran",
         "showlegend": true,
         "type": "scattergl",
         "x": [
          1,
          2,
          3,
          4,
          5,
          6,
          7,
          8,
          9,
          10
         ],
         "xaxis": "x",
         "y": [
          0.7903225806451613,
          0.6637931034482759,
          0.9489247311827957,
          0.8138888888888889,
          0.8763440860215054,
          1.0166666666666666,
          0.8494623655913979,
          1.2768817204301075,
          0.7166666666666667,
          1.0401234567901234
         ],
         "yaxis": "y"
        },
        {
         "hovertemplate": "country=Iraq<br>month=%{x}<br>Port Calls=%{y}<extra></extra>",
         "legendgroup": "Iraq",
         "line": {
          "color": "#FFA15A",
          "dash": "solid"
         },
         "marker": {
          "symbol": "circle"
         },
         "mode": "lines",
         "name": "Iraq",
         "showlegend": true,
         "type": "scattergl",
         "x": [
          1,
          2,
          3,
          4,
          5,
          6,
          7,
          8,
          9,
          10
         ],
         "xaxis": "x",
         "y": [
          3.5806451612903225,
          3.4827586206896552,
          3.806451612903226,
          4.183333333333334,
          4.435483870967742,
          4.216666666666667,
          4.016129032258065,
          4.016129032258065,
          3.75,
          3.759259259259259
         ],
         "yaxis": "y"
        },
        {
         "hovertemplate": "country=Ireland<br>month=%{x}<br>Port Calls=%{y}<extra></extra>",
         "legendgroup": "Ireland",
         "line": {
          "color": "#19d3f3",
          "dash": "solid"
         },
         "marker": {
          "symbol": "circle"
         },
         "mode": "lines",
         "name": "Ireland",
         "showlegend": true,
         "type": "scattergl",
         "x": [
          1,
          2,
          3,
          4,
          5,
          6,
          7,
          8,
          9,
          10
         ],
         "xaxis": "x",
         "y": [
          1.3906810035842294,
          1.3908045977011494,
          1.5985663082437276,
          1.6,
          1.6129032258064515,
          1.6,
          1.5806451612903225,
          1.4910394265232976,
          1.451851851851852,
          1.3045267489711934
         ],
         "yaxis": "y"
        },
        {
         "hovertemplate": "country=Israel<br>month=%{x}<br>Port Calls=%{y}<extra></extra>",
         "legendgroup": "Israel",
         "line": {
          "color": "#FF6692",
          "dash": "solid"
         },
         "marker": {
          "symbol": "circle"
         },
         "mode": "lines",
         "name": "Israel",
         "showlegend": true,
         "type": "scattergl",
         "x": [
          1,
          2,
          3,
          4,
          5,
          6,
          7,
          8,
          9,
          10
         ],
         "xaxis": "x",
         "y": [
          2.296774193548387,
          2.510344827586207,
          2.503225806451613,
          2.36,
          1.9419354838709677,
          2.066666666666667,
          2.0387096774193547,
          2.1548387096774193,
          2.0533333333333332,
          2.022222222222222
         ],
         "yaxis": "y"
        },
        {
         "hovertemplate": "country=Italy<br>month=%{x}<br>Port Calls=%{y}<extra></extra>",
         "legendgroup": "Italy",
         "line": {
          "color": "#B6E880",
          "dash": "solid"
         },
         "marker": {
          "symbol": "circle"
         },
         "mode": "lines",
         "name": "Italy",
         "showlegend": true,
         "type": "scattergl",
         "x": [
          1,
          2,
          3,
          4,
          5,
          6,
          7,
          8,
          9,
          10
         ],
         "xaxis": "x",
         "y": [
          1.879622344610543,
          1.9688814129520606,
          1.985051140833989,
          2.0235772357723576,
          2.088119590873328,
          2.008130081300813,
          2.111723052714398,
          1.91345397324941,
          1.8983739837398375,
          1.908762420957543
         ],
         "yaxis": "y"
        },
        {
         "hovertemplate": "country=Jamaica<br>month=%{x}<br>Port Calls=%{y}<extra></extra>",
         "legendgroup": "Jamaica",
         "line": {
          "color": "#FF97FF",
          "dash": "solid"
         },
         "marker": {
          "symbol": "circle"
         },
         "mode": "lines",
         "name": "Jamaica",
         "showlegend": true,
         "type": "scattergl",
         "x": [
          1,
          2,
          3,
          4,
          5,
          6,
          7,
          8,
          9,
          10
         ],
         "xaxis": "x",
         "y": [
          1.2165898617511521,
          1.2413793103448276,
          1.2027649769585254,
          1.1571428571428573,
          1.2119815668202765,
          1.1,
          0.9447004608294931,
          0.9585253456221198,
          0.9142857142857143,
          0.9206349206349206
         ],
         "yaxis": "y"
        },
        {
         "hovertemplate": "country=Japan<br>month=%{x}<br>Port Calls=%{y}<extra></extra>",
         "legendgroup": "Japan",
         "line": {
          "color": "#FECB52",
          "dash": "solid"
         },
         "marker": {
          "symbol": "circle"
         },
         "mode": "lines",
         "name": "Japan",
         "showlegend": true,
         "type": "scattergl",
         "x": [
          1,
          2,
          3,
          4,
          5,
          6,
          7,
          8,
          9,
          10
         ],
         "xaxis": "x",
         "y": [
          5.717144563918757,
          5.924968071519796,
          5.958183990442055,
          6.074074074074074,
          5.69115890083632,
          5.99537037037037,
          5.949522102747909,
          5.057347670250896,
          5.8160493827160495,
          5.834362139917696
         ],
         "yaxis": "y"
        },
        {
         "hovertemplate": "country=Jordan<br>month=%{x}<br>Port Calls=%{y}<extra></extra>",
         "legendgroup": "Jordan",
         "line": {
          "color": "#636efa",
          "dash": "solid"
         },
         "marker": {
          "symbol": "circle"
         },
         "mode": "lines",
         "name": "Jordan",
         "showlegend": true,
         "type": "scattergl",
         "x": [
          1,
          2,
          3,
          4,
          5,
          6,
          7,
          8,
          9,
          10
         ],
         "xaxis": "x",
         "y": [
          1.6451612903225807,
          1.6206896551724137,
          2.6451612903225805,
          1.6,
          1.4838709677419355,
          1.3333333333333333,
          1.3225806451612903,
          1.064516129032258,
          1.3333333333333333,
          1.1481481481481481
         ],
         "yaxis": "y"
        },
        {
         "hovertemplate": "country=Kazakhstan<br>month=%{x}<br>Port Calls=%{y}<extra></extra>",
         "legendgroup": "Kazakhstan",
         "line": {
          "color": "#EF553B",
          "dash": "solid"
         },
         "marker": {
          "symbol": "circle"
         },
         "mode": "lines",
         "name": "Kazakhstan",
         "showlegend": true,
         "type": "scattergl",
         "x": [
          1,
          2,
          3,
          4,
          5,
          6,
          7,
          8,
          9,
          10
         ],
         "xaxis": "x",
         "y": [
          1.2580645161290323,
          1.2586206896551724,
          1.5,
          1.4166666666666667,
          1.467741935483871,
          1.5,
          1.3709677419354838,
          1.3709677419354838,
          1.5333333333333334,
          1.8888888888888888
         ],
         "yaxis": "y"
        },
        {
         "hovertemplate": "country=Kenya<br>month=%{x}<br>Port Calls=%{y}<extra></extra>",
         "legendgroup": "Kenya",
         "line": {
          "color": "#00cc96",
          "dash": "solid"
         },
         "marker": {
          "symbol": "circle"
         },
         "mode": "lines",
         "name": "Kenya",
         "showlegend": true,
         "type": "scattergl",
         "x": [
          1,
          2,
          3,
          4,
          5,
          6,
          7,
          8,
          9,
          10
         ],
         "xaxis": "x",
         "y": [
          1.9838709677419355,
          1.8793103448275863,
          2.0483870967741935,
          1.4833333333333334,
          1.9838709677419355,
          1.8666666666666667,
          1.9193548387096775,
          1.7419354838709677,
          2.066666666666667,
          2
         ],
         "yaxis": "y"
        },
        {
         "hovertemplate": "country=Kiribati<br>month=%{x}<br>Port Calls=%{y}<extra></extra>",
         "legendgroup": "Kiribati",
         "line": {
          "color": "#ab63fa",
          "dash": "solid"
         },
         "marker": {
          "symbol": "circle"
         },
         "mode": "lines",
         "name": "Kiribati",
         "showlegend": true,
         "type": "scattergl",
         "x": [
          1,
          2,
          3,
          4,
          5,
          6,
          7,
          8,
          9,
          10
         ],
         "xaxis": "x",
         "y": [
          0.03225806451612903,
          0.08620689655172414,
          0.08064516129032258,
          0.08333333333333333,
          0.03225806451612903,
          0.06666666666666667,
          0.0967741935483871,
          0.06451612903225806,
          0.08333333333333333,
          0.018518518518518517
         ],
         "yaxis": "y"
        },
        {
         "hovertemplate": "country=Korea<br>month=%{x}<br>Port Calls=%{y}<extra></extra>",
         "legendgroup": "Korea",
         "line": {
          "color": "#FFA15A",
          "dash": "solid"
         },
         "marker": {
          "symbol": "circle"
         },
         "mode": "lines",
         "name": "Korea",
         "showlegend": true,
         "type": "scattergl",
         "x": [
          1,
          2,
          3,
          4,
          5,
          6,
          7,
          8,
          9,
          10
         ],
         "xaxis": "x",
         "y": [
          11.896313364055299,
          11.448275862068966,
          13.414746543778802,
          13.39047619047619,
          13.099078341013826,
          12.75952380952381,
          12.138248847926267,
          10.778801843317972,
          10.878571428571428,
          10.571428571428571
         ],
         "yaxis": "y"
        },
        {
         "hovertemplate": "country=Kuwait<br>month=%{x}<br>Port Calls=%{y}<extra></extra>",
         "legendgroup": "Kuwait",
         "line": {
          "color": "#19d3f3",
          "dash": "solid"
         },
         "marker": {
          "symbol": "circle"
         },
         "mode": "lines",
         "name": "Kuwait",
         "showlegend": true,
         "type": "scattergl",
         "x": [
          1,
          2,
          3,
          4,
          5,
          6,
          7,
          8,
          9,
          10
         ],
         "xaxis": "x",
         "y": [
          2.3870967741935485,
          1.9310344827586208,
          2.182795698924731,
          1.9444444444444444,
          1.956989247311828,
          2.011111111111111,
          1.7419354838709677,
          1.3440860215053763,
          1.9444444444444444,
          2.0246913580246915
         ],
         "yaxis": "y"
        },
        {
         "hovertemplate": "country=Latvia<br>month=%{x}<br>Port Calls=%{y}<extra></extra>",
         "legendgroup": "Latvia",
         "line": {
          "color": "#FF6692",
          "dash": "solid"
         },
         "marker": {
          "symbol": "circle"
         },
         "mode": "lines",
         "name": "Latvia",
         "showlegend": true,
         "type": "scattergl",
         "x": [
          1,
          2,
          3,
          4,
          5,
          6,
          7,
          8,
          9,
          10
         ],
         "xaxis": "x",
         "y": [
          3.7204301075268815,
          3.8505747126436782,
          4.150537634408602,
          3.5555555555555554,
          3.7419354838709675,
          3.3777777777777778,
          3.21505376344086,
          3.2580645161290325,
          2.977777777777778,
          3.1604938271604937
         ],
         "yaxis": "y"
        },
        {
         "hovertemplate": "country=Lebanon<br>month=%{x}<br>Port Calls=%{y}<extra></extra>",
         "legendgroup": "Lebanon",
         "line": {
          "color": "#B6E880",
          "dash": "solid"
         },
         "marker": {
          "symbol": "circle"
         },
         "mode": "lines",
         "name": "Lebanon",
         "showlegend": true,
         "type": "scattergl",
         "x": [
          1,
          2,
          3,
          4,
          5,
          6,
          7,
          8,
          9,
          10
         ],
         "xaxis": "x",
         "y": [
          0.6645161290322581,
          0.6482758620689655,
          0.9419354838709677,
          1.0533333333333332,
          1.2774193548387096,
          1.3933333333333333,
          1.3483870967741935,
          1.1870967741935483,
          0.88,
          0.6444444444444445
         ],
         "yaxis": "y"
        },
        {
         "hovertemplate": "country=Liberia<br>month=%{x}<br>Port Calls=%{y}<extra></extra>",
         "legendgroup": "Liberia",
         "line": {
          "color": "#FF97FF",
          "dash": "solid"
         },
         "marker": {
          "symbol": "circle"
         },
         "mode": "lines",
         "name": "Liberia",
         "showlegend": true,
         "type": "scattergl",
         "x": [
          1,
          2,
          3,
          4,
          5,
          6,
          7,
          8,
          9,
          10
         ],
         "xaxis": "x",
         "y": [
          0.532258064516129,
          0.5517241379310345,
          0.5806451612903226,
          0.43333333333333335,
          0.5806451612903226,
          0.5666666666666667,
          0.5483870967741935,
          0.5483870967741935,
          0.5833333333333334,
          0.42592592592592593
         ],
         "yaxis": "y"
        },
        {
         "hovertemplate": "country=Libya<br>month=%{x}<br>Port Calls=%{y}<extra></extra>",
         "legendgroup": "Libya",
         "line": {
          "color": "#FECB52",
          "dash": "solid"
         },
         "marker": {
          "symbol": "circle"
         },
         "mode": "lines",
         "name": "Libya",
         "showlegend": true,
         "type": "scattergl",
         "x": [
          1,
          2,
          3,
          4,
          5,
          6,
          7,
          8,
          9,
          10
         ],
         "xaxis": "x",
         "y": [
          0.5967741935483871,
          0.6206896551724138,
          0.6645161290322581,
          0.6466666666666666,
          0.6516129032258065,
          0.6733333333333333,
          0.7225806451612903,
          0.7774193548387097,
          0.7666666666666667,
          0.6
         ],
         "yaxis": "y"
        },
        {
         "hovertemplate": "country=Lithuania<br>month=%{x}<br>Port Calls=%{y}<extra></extra>",
         "legendgroup": "Lithuania",
         "line": {
          "color": "#636efa",
          "dash": "solid"
         },
         "marker": {
          "symbol": "circle"
         },
         "mode": "lines",
         "name": "Lithuania",
         "showlegend": true,
         "type": "scattergl",
         "x": [
          1,
          2,
          3,
          4,
          5,
          6,
          7,
          8,
          9,
          10
         ],
         "xaxis": "x",
         "y": [
          4.370967741935484,
          4.362068965517241,
          4.467741935483871,
          4.233333333333333,
          3.9838709677419355,
          4.5,
          3.806451612903226,
          4.612903225806452,
          4.516666666666667,
          4.666666666666667
         ],
         "yaxis": "y"
        },
        {
         "hovertemplate": "country=Macao SAR<br>month=%{x}<br>Port Calls=%{y}<extra></extra>",
         "legendgroup": "Macao SAR",
         "line": {
          "color": "#EF553B",
          "dash": "solid"
         },
         "marker": {
          "symbol": "circle"
         },
         "mode": "lines",
         "name": "Macao SAR",
         "showlegend": true,
         "type": "scattergl",
         "x": [
          1,
          2,
          3,
          4,
          5,
          6,
          7,
          8,
          9,
          10
         ],
         "xaxis": "x",
         "y": [
          0.3548387096774194,
          0.3103448275862069,
          0.16129032258064516,
          0.3,
          0.1935483870967742,
          0.36666666666666664,
          0.5483870967741935,
          0.3225806451612903,
          0.26666666666666666,
          0.4074074074074074
         ],
         "yaxis": "y"
        },
        {
         "hovertemplate": "country=Madagascar<br>month=%{x}<br>Port Calls=%{y}<extra></extra>",
         "legendgroup": "Madagascar",
         "line": {
          "color": "#00cc96",
          "dash": "solid"
         },
         "marker": {
          "symbol": "circle"
         },
         "mode": "lines",
         "name": "Madagascar",
         "showlegend": true,
         "type": "scattergl",
         "x": [
          1,
          2,
          3,
          4,
          5,
          6,
          7,
          8,
          9,
          10
         ],
         "xaxis": "x",
         "y": [
          0.27956989247311825,
          0.3218390804597701,
          0.34408602150537637,
          0.32222222222222224,
          0.3225806451612903,
          0.2777777777777778,
          0.34408602150537637,
          0.3118279569892473,
          0.3,
          0.32098765432098764
         ],
         "yaxis": "y"
        },
        {
         "hovertemplate": "country=Malaysia<br>month=%{x}<br>Port Calls=%{y}<extra></extra>",
         "legendgroup": "Malaysia",
         "line": {
          "color": "#ab63fa",
          "dash": "solid"
         },
         "marker": {
          "symbol": "circle"
         },
         "mode": "lines",
         "name": "Malaysia",
         "showlegend": true,
         "type": "scattergl",
         "x": [
          1,
          2,
          3,
          4,
          5,
          6,
          7,
          8,
          9,
          10
         ],
         "xaxis": "x",
         "y": [
          4.607038123167156,
          4.503134796238244,
          4.3049853372434015,
          4.384848484848485,
          4.290322580645161,
          4.2303030303030305,
          4.2595307917888565,
          4.131964809384164,
          4.08939393939394,
          4.087542087542087
         ],
         "yaxis": "y"
        },
        {
         "hovertemplate": "country=Maldives<br>month=%{x}<br>Port Calls=%{y}<extra></extra>",
         "legendgroup": "Maldives",
         "line": {
          "color": "#FFA15A",
          "dash": "solid"
         },
         "marker": {
          "symbol": "circle"
         },
         "mode": "lines",
         "name": "Maldives",
         "showlegend": true,
         "type": "scattergl",
         "x": [
          1,
          2,
          3,
          4,
          5,
          6,
          7,
          8,
          9,
          10
         ],
         "xaxis": "x",
         "y": [
          1.7741935483870968,
          1.2413793103448276,
          1.4193548387096775,
          1.5666666666666667,
          1.2258064516129032,
          1.7,
          1.6774193548387097,
          1.8709677419354838,
          1.8666666666666667,
          1.7777777777777777
         ],
         "yaxis": "y"
        },
        {
         "hovertemplate": "country=Malta<br>month=%{x}<br>Port Calls=%{y}<extra></extra>",
         "legendgroup": "Malta",
         "line": {
          "color": "#19d3f3",
          "dash": "solid"
         },
         "marker": {
          "symbol": "circle"
         },
         "mode": "lines",
         "name": "Malta",
         "showlegend": true,
         "type": "scattergl",
         "x": [
          1,
          2,
          3,
          4,
          5,
          6,
          7,
          8,
          9,
          10
         ],
         "xaxis": "x",
         "y": [
          3.7903225806451615,
          4.293103448275862,
          4.258064516129032,
          4.9,
          5.129032258064516,
          5.233333333333333,
          4.919354838709677,
          4.306451612903226,
          4.6,
          5.12962962962963
         ],
         "yaxis": "y"
        },
        {
         "hovertemplate": "country=Marshall Islands<br>month=%{x}<br>Port Calls=%{y}<extra></extra>",
         "legendgroup": "Marshall Islands",
         "line": {
          "color": "#FF6692",
          "dash": "solid"
         },
         "marker": {
          "symbol": "circle"
         },
         "mode": "lines",
         "name": "Marshall Islands",
         "showlegend": true,
         "type": "scattergl",
         "x": [
          1,
          2,
          3,
          4,
          5,
          6,
          7,
          8,
          9,
          10
         ],
         "xaxis": "x",
         "y": [
          0.1774193548387097,
          0.1724137931034483,
          0.1774193548387097,
          0.18333333333333332,
          0.14516129032258066,
          0.18333333333333332,
          0.16129032258064516,
          0.1935483870967742,
          0.21666666666666667,
          0.1111111111111111
         ],
         "yaxis": "y"
        },
        {
         "hovertemplate": "country=Martinique<br>month=%{x}<br>Port Calls=%{y}<extra></extra>",
         "legendgroup": "Martinique",
         "line": {
          "color": "#B6E880",
          "dash": "solid"
         },
         "marker": {
          "symbol": "circle"
         },
         "mode": "lines",
         "name": "Martinique",
         "showlegend": true,
         "type": "scattergl",
         "x": [
          1,
          2,
          3,
          4,
          5,
          6,
          7,
          8,
          9,
          10
         ],
         "xaxis": "x",
         "y": [
          1.903225806451613,
          1.7241379310344827,
          1.3548387096774193,
          1.7666666666666666,
          1.3870967741935485,
          1.6,
          1.5161290322580645,
          1.5161290322580645,
          1.0333333333333334,
          0.9629629629629629
         ],
         "yaxis": "y"
        },
        {
         "hovertemplate": "country=Mauritania<br>month=%{x}<br>Port Calls=%{y}<extra></extra>",
         "legendgroup": "Mauritania",
         "line": {
          "color": "#FF97FF",
          "dash": "solid"
         },
         "marker": {
          "symbol": "circle"
         },
         "mode": "lines",
         "name": "Mauritania",
         "showlegend": true,
         "type": "scattergl",
         "x": [
          1,
          2,
          3,
          4,
          5,
          6,
          7,
          8,
          9,
          10
         ],
         "xaxis": "x",
         "y": [
          1.1290322580645162,
          1.0689655172413792,
          1.3387096774193548,
          1.2833333333333334,
          1.096774193548387,
          1.1666666666666667,
          1.1451612903225807,
          1.064516129032258,
          1.15,
          1.1481481481481481
         ],
         "yaxis": "y"
        },
        {
         "hovertemplate": "country=Mauritius<br>month=%{x}<br>Port Calls=%{y}<extra></extra>",
         "legendgroup": "Mauritius",
         "line": {
          "color": "#FECB52",
          "dash": "solid"
         },
         "marker": {
          "symbol": "circle"
         },
         "mode": "lines",
         "name": "Mauritius",
         "showlegend": true,
         "type": "scattergl",
         "x": [
          1,
          2,
          3,
          4,
          5,
          6,
          7,
          8,
          9,
          10
         ],
         "xaxis": "x",
         "y": [
          2.129032258064516,
          2.5172413793103448,
          2.5161290322580645,
          2.9,
          2.870967741935484,
          2.6333333333333333,
          2,
          2.5806451612903225,
          2.533333333333333,
          2.4074074074074074
         ],
         "yaxis": "y"
        },
        {
         "hovertemplate": "country=Mayotte<br>month=%{x}<br>Port Calls=%{y}<extra></extra>",
         "legendgroup": "Mayotte",
         "line": {
          "color": "#636efa",
          "dash": "solid"
         },
         "marker": {
          "symbol": "circle"
         },
         "mode": "lines",
         "name": "Mayotte",
         "showlegend": true,
         "type": "scattergl",
         "x": [
          1,
          2,
          3,
          4,
          5,
          6,
          7,
          8,
          9,
          10
         ],
         "xaxis": "x",
         "y": [
          0.2903225806451613,
          0.3793103448275862,
          0.2903225806451613,
          0.43333333333333335,
          0.41935483870967744,
          0.43333333333333335,
          0.41935483870967744,
          0.3548387096774194,
          0.43333333333333335,
          0.37037037037037035
         ],
         "yaxis": "y"
        },
        {
         "hovertemplate": "country=Mexico<br>month=%{x}<br>Port Calls=%{y}<extra></extra>",
         "legendgroup": "Mexico",
         "line": {
          "color": "#EF553B",
          "dash": "solid"
         },
         "marker": {
          "symbol": "circle"
         },
         "mode": "lines",
         "name": "Mexico",
         "showlegend": true,
         "type": "scattergl",
         "x": [
          1,
          2,
          3,
          4,
          5,
          6,
          7,
          8,
          9,
          10
         ],
         "xaxis": "x",
         "y": [
          1.9587813620071686,
          2.0651340996168583,
          2.07168458781362,
          2.064814814814815,
          2.017921146953405,
          1.9388888888888889,
          1.842293906810036,
          1.7939068100358424,
          1.7259259259259259,
          1.6975308641975309
         ],
         "yaxis": "y"
        },
        {
         "hovertemplate": "country=Micronesia<br>month=%{x}<br>Port Calls=%{y}<extra></extra>",
         "legendgroup": "Micronesia",
         "line": {
          "color": "#00cc96",
          "dash": "solid"
         },
         "marker": {
          "symbol": "circle"
         },
         "mode": "lines",
         "name": "Micronesia",
         "showlegend": true,
         "type": "scattergl",
         "x": [
          1,
          2,
          3,
          4,
          5,
          6,
          7,
          8,
          9,
          10
         ],
         "xaxis": "x",
         "y": [
          0.13709677419354838,
          0.16379310344827586,
          0.13709677419354838,
          0.15,
          0.14516129032258066,
          0.125,
          0.13709677419354838,
          0.1532258064516129,
          0.14166666666666666,
          0.1388888888888889
         ],
         "yaxis": "y"
        },
        {
         "hovertemplate": "country=Moldova<br>month=%{x}<br>Port Calls=%{y}<extra></extra>",
         "legendgroup": "Moldova",
         "line": {
          "color": "#ab63fa",
          "dash": "solid"
         },
         "marker": {
          "symbol": "circle"
         },
         "mode": "lines",
         "name": "Moldova",
         "showlegend": true,
         "type": "scattergl",
         "x": [
          1,
          2,
          3,
          4,
          5,
          6,
          7,
          8,
          9,
          10
         ],
         "xaxis": "x",
         "y": [
          0.7741935483870968,
          0.896551724137931,
          1.096774193548387,
          0.7,
          0.9032258064516129,
          0.6333333333333333,
          0.9032258064516129,
          0.7419354838709677,
          0.5666666666666667,
          1
         ],
         "yaxis": "y"
        },
        {
         "hovertemplate": "country=Montenegro<br>month=%{x}<br>Port Calls=%{y}<extra></extra>",
         "legendgroup": "Montenegro",
         "line": {
          "color": "#FFA15A",
          "dash": "solid"
         },
         "marker": {
          "symbol": "circle"
         },
         "mode": "lines",
         "name": "Montenegro",
         "showlegend": true,
         "type": "scattergl",
         "x": [
          1,
          2,
          3,
          4,
          5,
          6,
          7,
          8,
          9,
          10
         ],
         "xaxis": "x",
         "y": [
          0.22580645161290322,
          0.20689655172413793,
          0.1774193548387097,
          0.21666666666666667,
          0.2903225806451613,
          0.36666666666666664,
          0.46774193548387094,
          0.3225806451612903,
          0.35,
          0.3333333333333333
         ],
         "yaxis": "y"
        },
        {
         "hovertemplate": "country=Montserrat<br>month=%{x}<br>Port Calls=%{y}<extra></extra>",
         "legendgroup": "Montserrat",
         "line": {
          "color": "#19d3f3",
          "dash": "solid"
         },
         "marker": {
          "symbol": "circle"
         },
         "mode": "lines",
         "name": "Montserrat",
         "showlegend": true,
         "type": "scattergl",
         "x": [
          1,
          2,
          3,
          4,
          5,
          6,
          7,
          8,
          9,
          10
         ],
         "xaxis": "x",
         "y": [
          0.08064516129032258,
          0.034482758620689655,
          0.03225806451612903,
          0.08333333333333333,
          0.06451612903225806,
          0.03333333333333333,
          0.016129032258064516,
          0.03225806451612903,
          0.016666666666666666,
          0.037037037037037035
         ],
         "yaxis": "y"
        },
        {
         "hovertemplate": "country=Morocco<br>month=%{x}<br>Port Calls=%{y}<extra></extra>",
         "legendgroup": "Morocco",
         "line": {
          "color": "#FF6692",
          "dash": "solid"
         },
         "marker": {
          "symbol": "circle"
         },
         "mode": "lines",
         "name": "Morocco",
         "showlegend": true,
         "type": "scattergl",
         "x": [
          1,
          2,
          3,
          4,
          5,
          6,
          7,
          8,
          9,
          10
         ],
         "xaxis": "x",
         "y": [
          3.407258064516129,
          3.4698275862068964,
          3.125,
          3.720833333333333,
          3.6370967741935485,
          3.475,
          3.3911290322580645,
          3.375,
          3.3583333333333334,
          3.462962962962963
         ],
         "yaxis": "y"
        },
        {
         "hovertemplate": "country=Mozambique<br>month=%{x}<br>Port Calls=%{y}<extra></extra>",
         "legendgroup": "Mozambique",
         "line": {
          "color": "#B6E880",
          "dash": "solid"
         },
         "marker": {
          "symbol": "circle"
         },
         "mode": "lines",
         "name": "Mozambique",
         "showlegend": true,
         "type": "scattergl",
         "x": [
          1,
          2,
          3,
          4,
          5,
          6,
          7,
          8,
          9,
          10
         ],
         "xaxis": "x",
         "y": [
          1.3629032258064515,
          1.3879310344827587,
          1.3709677419354838,
          1.2583333333333333,
          1.4758064516129032,
          1.4083333333333334,
          1.5241935483870968,
          1.3870967741935485,
          1.5,
          1.4351851851851851
         ],
         "yaxis": "y"
        },
        {
         "hovertemplate": "country=Myanmar<br>month=%{x}<br>Port Calls=%{y}<extra></extra>",
         "legendgroup": "Myanmar",
         "line": {
          "color": "#FF97FF",
          "dash": "solid"
         },
         "marker": {
          "symbol": "circle"
         },
         "mode": "lines",
         "name": "Myanmar",
         "showlegend": true,
         "type": "scattergl",
         "x": [
          1,
          2,
          3,
          4,
          5,
          6,
          7,
          8,
          9,
          10
         ],
         "xaxis": "x",
         "y": [
          2.1451612903225805,
          2.5344827586206895,
          2.5483870967741935,
          1.9833333333333334,
          2.4838709677419355,
          2.3666666666666667,
          2.1451612903225805,
          2.1774193548387095,
          1.7666666666666666,
          1.8518518518518519
         ],
         "yaxis": "y"
        },
        {
         "hovertemplate": "country=Namibia<br>month=%{x}<br>Port Calls=%{y}<extra></extra>",
         "legendgroup": "Namibia",
         "line": {
          "color": "#FECB52",
          "dash": "solid"
         },
         "marker": {
          "symbol": "circle"
         },
         "mode": "lines",
         "name": "Namibia",
         "showlegend": true,
         "type": "scattergl",
         "x": [
          1,
          2,
          3,
          4,
          5,
          6,
          7,
          8,
          9,
          10
         ],
         "xaxis": "x",
         "y": [
          0.9516129032258065,
          0.9310344827586207,
          0.7903225806451613,
          1,
          0.8870967741935484,
          0.7833333333333333,
          0.8548387096774194,
          0.7741935483870968,
          0.8166666666666667,
          0.8703703703703703
         ],
         "yaxis": "y"
        },
        {
         "hovertemplate": "country=Nauru<br>month=%{x}<br>Port Calls=%{y}<extra></extra>",
         "legendgroup": "Nauru",
         "line": {
          "color": "#636efa",
          "dash": "solid"
         },
         "marker": {
          "symbol": "circle"
         },
         "mode": "lines",
         "name": "Nauru",
         "showlegend": true,
         "type": "scattergl",
         "x": [
          1,
          2,
          3,
          4,
          5,
          6,
          7,
          8,
          9,
          10
         ],
         "xaxis": "x",
         "y": [
          0.06451612903225806,
          0.06896551724137931,
          0.03225806451612903,
          0.13333333333333333,
          0.06451612903225806,
          0.06666666666666667,
          0.03225806451612903,
          0,
          0.13333333333333333,
          0.037037037037037035
         ],
         "yaxis": "y"
        },
        {
         "hovertemplate": "country=New Caledonia<br>month=%{x}<br>Port Calls=%{y}<extra></extra>",
         "legendgroup": "New Caledonia",
         "line": {
          "color": "#EF553B",
          "dash": "solid"
         },
         "marker": {
          "symbol": "circle"
         },
         "mode": "lines",
         "name": "New Caledonia",
         "showlegend": true,
         "type": "scattergl",
         "x": [
          1,
          2,
          3,
          4,
          5,
          6,
          7,
          8,
          9,
          10
         ],
         "xaxis": "x",
         "y": [
          0.36693548387096775,
          0.30603448275862066,
          0.2782258064516129,
          0.225,
          0.2217741935483871,
          0.24583333333333332,
          0.2217741935483871,
          0.20967741935483872,
          0.22083333333333333,
          0.25
         ],
         "yaxis": "y"
        },
        {
         "hovertemplate": "country=New Zealand<br>month=%{x}<br>Port Calls=%{y}<extra></extra>",
         "legendgroup": "New Zealand",
         "line": {
          "color": "#00cc96",
          "dash": "solid"
         },
         "marker": {
          "symbol": "circle"
         },
         "mode": "lines",
         "name": "New Zealand",
         "showlegend": true,
         "type": "scattergl",
         "x": [
          1,
          2,
          3,
          4,
          5,
          6,
          7,
          8,
          9,
          10
         ],
         "xaxis": "x",
         "y": [
          1.0092165898617511,
          1.1724137931034482,
          1.1474654377880185,
          1.0976190476190477,
          0.9861751152073732,
          1.0166666666666666,
          0.9953917050691244,
          1.0253456221198156,
          1.019047619047619,
          0.9841269841269841
         ],
         "yaxis": "y"
        },
        {
         "hovertemplate": "country=Nicaragua<br>month=%{x}<br>Port Calls=%{y}<extra></extra>",
         "legendgroup": "Nicaragua",
         "line": {
          "color": "#ab63fa",
          "dash": "solid"
         },
         "marker": {
          "symbol": "circle"
         },
         "mode": "lines",
         "name": "Nicaragua",
         "showlegend": true,
         "type": "scattergl",
         "x": [
          1,
          2,
          3,
          4,
          5,
          6,
          7,
          8,
          9,
          10
         ],
         "xaxis": "x",
         "y": [
          0.44086021505376344,
          0.4827586206896552,
          0.5483870967741935,
          0.4777777777777778,
          0.46236559139784944,
          0.34444444444444444,
          0.3870967741935484,
          0.3978494623655914,
          0.3,
          0.35802469135802467
         ],
         "yaxis": "y"
        },
        {
         "hovertemplate": "country=Nigeria<br>month=%{x}<br>Port Calls=%{y}<extra></extra>",
         "legendgroup": "Nigeria",
         "line": {
          "color": "#FFA15A",
          "dash": "solid"
         },
         "marker": {
          "symbol": "circle"
         },
         "mode": "lines",
         "name": "Nigeria",
         "showlegend": true,
         "type": "scattergl",
         "x": [
          1,
          2,
          3,
          4,
          5,
          6,
          7,
          8,
          9,
          10
         ],
         "xaxis": "x",
         "y": [
          0.8935483870967742,
          0.9275862068965517,
          0.8580645161290322,
          0.88,
          0.9,
          0.8166666666666667,
          0.7709677419354839,
          0.7709677419354839,
          0.9,
          0.8
         ],
         "yaxis": "y"
        },
        {
         "hovertemplate": "country=Northern Mariana Islands<br>month=%{x}<br>Port Calls=%{y}<extra></extra>",
         "legendgroup": "Northern Mariana Islands",
         "line": {
          "color": "#19d3f3",
          "dash": "solid"
         },
         "marker": {
          "symbol": "circle"
         },
         "mode": "lines",
         "name": "Northern Mariana Islands",
         "showlegend": true,
         "type": "scattergl",
         "x": [
          1,
          2,
          3,
          4,
          5,
          6,
          7,
          8,
          9,
          10
         ],
         "xaxis": "x",
         "y": [
          0.13978494623655913,
          0.10344827586206896,
          0.1827956989247312,
          0.14444444444444443,
          0.11827956989247312,
          0.12222222222222222,
          0.16129032258064516,
          0.11827956989247312,
          0.2,
          0.09876543209876543
         ],
         "yaxis": "y"
        },
        {
         "hovertemplate": "country=Norway<br>month=%{x}<br>Port Calls=%{y}<extra></extra>",
         "legendgroup": "Norway",
         "line": {
          "color": "#FF6692",
          "dash": "solid"
         },
         "marker": {
          "symbol": "circle"
         },
         "mode": "lines",
         "name": "Norway",
         "showlegend": true,
         "type": "scattergl",
         "x": [
          1,
          2,
          3,
          4,
          5,
          6,
          7,
          8,
          9,
          10
         ],
         "xaxis": "x",
         "y": [
          1.1093969144460027,
          1.206896551724138,
          1.2054698457223,
          1.2166666666666666,
          1.238429172510519,
          1.296376811594203,
          1.2047685834502104,
          1.2138849929873772,
          1.2753623188405796,
          1.2326892109500804
         ],
         "yaxis": "y"
        },
        {
         "hovertemplate": "country=Oman<br>month=%{x}<br>Port Calls=%{y}<extra></extra>",
         "legendgroup": "Oman",
         "line": {
          "color": "#B6E880",
          "dash": "solid"
         },
         "marker": {
          "symbol": "circle"
         },
         "mode": "lines",
         "name": "Oman",
         "showlegend": true,
         "type": "scattergl",
         "x": [
          1,
          2,
          3,
          4,
          5,
          6,
          7,
          8,
          9,
          10
         ],
         "xaxis": "x",
         "y": [
          2.2451612903225806,
          2.1862068965517243,
          2.2903225806451615,
          2.493333333333333,
          2.3483870967741933,
          2.4,
          2.303225806451613,
          2.3419354838709676,
          2.4066666666666667,
          2.111111111111111
         ],
         "yaxis": "y"
        },
        {
         "hovertemplate": "country=Pakistan<br>month=%{x}<br>Port Calls=%{y}<extra></extra>",
         "legendgroup": "Pakistan",
         "line": {
          "color": "#FF97FF",
          "dash": "solid"
         },
         "marker": {
          "symbol": "circle"
         },
         "mode": "lines",
         "name": "Pakistan",
         "showlegend": true,
         "type": "scattergl",
         "x": [
          1,
          2,
          3,
          4,
          5,
          6,
          7,
          8,
          9,
          10
         ],
         "xaxis": "x",
         "y": [
          1.989247311827957,
          1.9425287356321839,
          2.236559139784946,
          2.1333333333333333,
          2.032258064516129,
          1.8666666666666667,
          1.8602150537634408,
          1.8172043010752688,
          1.8444444444444446,
          1.8888888888888888
         ],
         "yaxis": "y"
        },
        {
         "hovertemplate": "country=Palau<br>month=%{x}<br>Port Calls=%{y}<extra></extra>",
         "legendgroup": "Palau",
         "line": {
          "color": "#FECB52",
          "dash": "solid"
         },
         "marker": {
          "symbol": "circle"
         },
         "mode": "lines",
         "name": "Palau",
         "showlegend": true,
         "type": "scattergl",
         "x": [
          1,
          2,
          3,
          4,
          5,
          6,
          7,
          8,
          9,
          10
         ],
         "xaxis": "x",
         "y": [
          0.12903225806451613,
          0.1724137931034483,
          0.1935483870967742,
          0.1,
          0.16129032258064516,
          0.16666666666666666,
          0.16129032258064516,
          0.16129032258064516,
          0.1,
          0.07407407407407407
         ],
         "yaxis": "y"
        },
        {
         "hovertemplate": "country=Panama<br>month=%{x}<br>Port Calls=%{y}<extra></extra>",
         "legendgroup": "Panama",
         "line": {
          "color": "#636efa",
          "dash": "solid"
         },
         "marker": {
          "symbol": "circle"
         },
         "mode": "lines",
         "name": "Panama",
         "showlegend": true,
         "type": "scattergl",
         "x": [
          1,
          2,
          3,
          4,
          5,
          6,
          7,
          8,
          9,
          10
         ],
         "xaxis": "x",
         "y": [
          3.10752688172043,
          2.9808429118773945,
          2.960573476702509,
          2.9,
          2.903225806451613,
          2.914814814814815,
          2.8100358422939067,
          2.860215053763441,
          2.7925925925925927,
          2.769547325102881
         ],
         "yaxis": "y"
        },
        {
         "hovertemplate": "country=Papua New Guinea<br>month=%{x}<br>Port Calls=%{y}<extra></extra>",
         "legendgroup": "Papua New Guinea",
         "line": {
          "color": "#EF553B",
          "dash": "solid"
         },
         "marker": {
          "symbol": "circle"
         },
         "mode": "lines",
         "name": "Papua New Guinea",
         "showlegend": true,
         "type": "scattergl",
         "x": [
          1,
          2,
          3,
          4,
          5,
          6,
          7,
          8,
          9,
          10
         ],
         "xaxis": "x",
         "y": [
          0.4817204301075269,
          0.4896551724137931,
          0.45806451612903226,
          0.4866666666666667,
          0.443010752688172,
          0.4266666666666667,
          0.43010752688172044,
          0.45376344086021503,
          0.4311111111111111,
          0.47160493827160493
         ],
         "yaxis": "y"
        },
        {
         "hovertemplate": "country=Peru<br>month=%{x}<br>Port Calls=%{y}<extra></extra>",
         "legendgroup": "Peru",
         "line": {
          "color": "#00cc96",
          "dash": "solid"
         },
         "marker": {
          "symbol": "circle"
         },
         "mode": "lines",
         "name": "Peru",
         "showlegend": true,
         "type": "scattergl",
         "x": [
          1,
          2,
          3,
          4,
          5,
          6,
          7,
          8,
          9,
          10
         ],
         "xaxis": "x",
         "y": [
          0.8084677419354839,
          0.7801724137931034,
          0.8004032258064516,
          0.7645833333333333,
          0.8185483870967742,
          0.7479166666666667,
          0.8104838709677419,
          0.8165322580645161,
          0.75,
          0.7106481481481481
         ],
         "yaxis": "y"
        },
        {
         "hovertemplate": "country=Philippines<br>month=%{x}<br>Port Calls=%{y}<extra></extra>",
         "legendgroup": "Philippines",
         "line": {
          "color": "#ab63fa",
          "dash": "solid"
         },
         "marker": {
          "symbol": "circle"
         },
         "mode": "lines",
         "name": "Philippines",
         "showlegend": true,
         "type": "scattergl",
         "x": [
          1,
          2,
          3,
          4,
          5,
          6,
          7,
          8,
          9,
          10
         ],
         "xaxis": "x",
         "y": [
          2.1739130434782608,
          2.1979010494752624,
          2.1893408134642356,
          2.2318840579710146,
          2.2314165497896212,
          2.2028985507246377,
          1.932678821879383,
          1.8274894810659186,
          1.818840579710145,
          1.8856682769726247
         ],
         "yaxis": "y"
        },
        {
         "hovertemplate": "country=Poland<br>month=%{x}<br>Port Calls=%{y}<extra></extra>",
         "legendgroup": "Poland",
         "line": {
          "color": "#FFA15A",
          "dash": "solid"
         },
         "marker": {
          "symbol": "circle"
         },
         "mode": "lines",
         "name": "Poland",
         "showlegend": true,
         "type": "scattergl",
         "x": [
          1,
          2,
          3,
          4,
          5,
          6,
          7,
          8,
          9,
          10
         ],
         "xaxis": "x",
         "y": [
          4.895161290322581,
          5.258620689655173,
          5.5,
          5.433333333333334,
          5.516129032258065,
          5.05,
          5.104838709677419,
          5.080645161290323,
          5.15,
          5.111111111111111
         ],
         "yaxis": "y"
        },
        {
         "hovertemplate": "country=Portugal<br>month=%{x}<br>Port Calls=%{y}<extra></extra>",
         "legendgroup": "Portugal",
         "line": {
          "color": "#19d3f3",
          "dash": "solid"
         },
         "marker": {
          "symbol": "circle"
         },
         "mode": "lines",
         "name": "Portugal",
         "showlegend": true,
         "type": "scattergl",
         "x": [
          1,
          2,
          3,
          4,
          5,
          6,
          7,
          8,
          9,
          10
         ],
         "xaxis": "x",
         "y": [
          2.3489736070381233,
          2.3573667711598745,
          2.1055718475073313,
          2.584848484848485,
          2.372434017595308,
          2.412121212121212,
          2.3225806451612905,
          2.2170087976539588,
          2.118181818181818,
          2.191919191919192
         ],
         "yaxis": "y"
        },
        {
         "hovertemplate": "country=Puerto Rico<br>month=%{x}<br>Port Calls=%{y}<extra></extra>",
         "legendgroup": "Puerto Rico",
         "line": {
          "color": "#FF6692",
          "dash": "solid"
         },
         "marker": {
          "symbol": "circle"
         },
         "mode": "lines",
         "name": "Puerto Rico",
         "showlegend": true,
         "type": "scattergl",
         "x": [
          1,
          2,
          3,
          4,
          5,
          6,
          7,
          8,
          9,
          10
         ],
         "xaxis": "x",
         "y": [
          1,
          1.0258620689655173,
          0.8709677419354839,
          0.9166666666666666,
          0.9435483870967742,
          1.0416666666666667,
          1.0241935483870968,
          1.0080645161290323,
          0.875,
          0.8148148148148148
         ],
         "yaxis": "y"
        },
        {
         "hovertemplate": "country=Qatar<br>month=%{x}<br>Port Calls=%{y}<extra></extra>",
         "legendgroup": "Qatar",
         "line": {
          "color": "#B6E880",
          "dash": "solid"
         },
         "marker": {
          "symbol": "circle"
         },
         "mode": "lines",
         "name": "Qatar",
         "showlegend": true,
         "type": "scattergl",
         "x": [
          1,
          2,
          3,
          4,
          5,
          6,
          7,
          8,
          9,
          10
         ],
         "xaxis": "x",
         "y": [
          2.5080645161290325,
          2.0344827586206895,
          2.967741935483871,
          2.8833333333333333,
          2.7580645161290325,
          2.8666666666666667,
          2.782258064516129,
          2.725806451612903,
          2.6666666666666665,
          2.5555555555555554
         ],
         "yaxis": "y"
        },
        {
         "hovertemplate": "country=Republic of Congo<br>month=%{x}<br>Port Calls=%{y}<extra></extra>",
         "legendgroup": "Republic of Congo",
         "line": {
          "color": "#FF97FF",
          "dash": "solid"
         },
         "marker": {
          "symbol": "circle"
         },
         "mode": "lines",
         "name": "Republic of Congo",
         "showlegend": true,
         "type": "scattergl",
         "x": [
          1,
          2,
          3,
          4,
          5,
          6,
          7,
          8,
          9,
          10
         ],
         "xaxis": "x",
         "y": [
          2.6774193548387095,
          2.6551724137931036,
          2.774193548387097,
          2.6333333333333333,
          2.6451612903225805,
          2.6,
          2.7419354838709675,
          2.7096774193548385,
          2.7,
          2.5185185185185186
         ],
         "yaxis": "y"
        },
        {
         "hovertemplate": "country=Romania<br>month=%{x}<br>Port Calls=%{y}<extra></extra>",
         "legendgroup": "Romania",
         "line": {
          "color": "#FECB52",
          "dash": "solid"
         },
         "marker": {
          "symbol": "circle"
         },
         "mode": "lines",
         "name": "Romania",
         "showlegend": true,
         "type": "scattergl",
         "x": [
          1,
          2,
          3,
          4,
          5,
          6,
          7,
          8,
          9,
          10
         ],
         "xaxis": "x",
         "y": [
          1.391705069124424,
          1.5763546798029557,
          1.737327188940092,
          1.7142857142857142,
          1.5345622119815667,
          1.6,
          1.4792626728110598,
          1.4470046082949308,
          1.3,
          1.2645502645502646
         ],
         "yaxis": "y"
        },
        {
         "hovertemplate": "country=Russian Federation<br>month=%{x}<br>Port Calls=%{y}<extra></extra>",
         "legendgroup": "Russian Federation",
         "line": {
          "color": "#636efa",
          "dash": "solid"
         },
         "marker": {
          "symbol": "circle"
         },
         "mode": "lines",
         "name": "Russian Federation",
         "showlegend": true,
         "type": "scattergl",
         "x": [
          1,
          2,
          3,
          4,
          5,
          6,
          7,
          8,
          9,
          10
         ],
         "xaxis": "x",
         "y": [
          2.444022770398482,
          2.4918864097363085,
          2.760910815939279,
          2.6852941176470586,
          2.5502846299810247,
          2.523529411764706,
          2.472485768500949,
          2.284629981024668,
          2.25,
          2.1296296296296298
         ],
         "yaxis": "y"
        },
        {
         "hovertemplate": "country=Réunion<br>month=%{x}<br>Port Calls=%{y}<extra></extra>",
         "legendgroup": "Réunion",
         "line": {
          "color": "#EF553B",
          "dash": "solid"
         },
         "marker": {
          "symbol": "circle"
         },
         "mode": "lines",
         "name": "Réunion",
         "showlegend": true,
         "type": "scattergl",
         "x": [
          1,
          2,
          3,
          4,
          5,
          6,
          7,
          8,
          9,
          10
         ],
         "xaxis": "x",
         "y": [
          1.096774193548387,
          1.5862068965517242,
          1.2258064516129032,
          1.3333333333333333,
          1.3225806451612903,
          1.3666666666666667,
          1.3225806451612903,
          1.032258064516129,
          1.3666666666666667,
          1.2962962962962963
         ],
         "yaxis": "y"
        },
        {
         "hovertemplate": "country=Saint Martin<br>month=%{x}<br>Port Calls=%{y}<extra></extra>",
         "legendgroup": "Saint Martin",
         "line": {
          "color": "#00cc96",
          "dash": "solid"
         },
         "marker": {
          "symbol": "circle"
         },
         "mode": "lines",
         "name": "Saint Martin",
         "showlegend": true,
         "type": "scattergl",
         "x": [
          1,
          2,
          3,
          4,
          5,
          6,
          7,
          8,
          9,
          10
         ],
         "xaxis": "x",
         "y": [
          0.4838709677419355,
          0.41379310344827586,
          0.3870967741935484,
          0.4,
          0.41935483870967744,
          0.43333333333333335,
          0.3870967741935484,
          0.4838709677419355,
          0.4666666666666667,
          0.4444444444444444
         ],
         "yaxis": "y"
        },
        {
         "hovertemplate": "country=Saint-Barthélemy<br>month=%{x}<br>Port Calls=%{y}<extra></extra>",
         "legendgroup": "Saint-Barthélemy",
         "line": {
          "color": "#ab63fa",
          "dash": "solid"
         },
         "marker": {
          "symbol": "circle"
         },
         "mode": "lines",
         "name": "Saint-Barthélemy",
         "showlegend": true,
         "type": "scattergl",
         "x": [
          1,
          2,
          3,
          4,
          5,
          6,
          7,
          8,
          9,
          10
         ],
         "xaxis": "x",
         "y": [
          0.22580645161290322,
          0.2413793103448276,
          0.25806451612903225,
          0.3333333333333333,
          0.45161290322580644,
          0.26666666666666666,
          0.2903225806451613,
          0.16129032258064516,
          0.36666666666666664,
          0.3333333333333333
         ],
         "yaxis": "y"
        },
        {
         "hovertemplate": "country=Samoa<br>month=%{x}<br>Port Calls=%{y}<extra></extra>",
         "legendgroup": "Samoa",
         "line": {
          "color": "#FFA15A",
          "dash": "solid"
         },
         "marker": {
          "symbol": "circle"
         },
         "mode": "lines",
         "name": "Samoa",
         "showlegend": true,
         "type": "scattergl",
         "x": [
          1,
          2,
          3,
          4,
          5,
          6,
          7,
          8,
          9,
          10
         ],
         "xaxis": "x",
         "y": [
          0.4838709677419355,
          0.4482758620689655,
          0.5806451612903226,
          0.5,
          0.5161290322580645,
          0.5666666666666667,
          0.5806451612903226,
          0.6774193548387096,
          0.43333333333333335,
          0.5555555555555556
         ],
         "yaxis": "y"
        },
        {
         "hovertemplate": "country=Saudi Arabia<br>month=%{x}<br>Port Calls=%{y}<extra></extra>",
         "legendgroup": "Saudi Arabia",
         "line": {
          "color": "#19d3f3",
          "dash": "solid"
         },
         "marker": {
          "symbol": "circle"
         },
         "mode": "lines",
         "name": "Saudi Arabia",
         "showlegend": true,
         "type": "scattergl",
         "x": [
          1,
          2,
          3,
          4,
          5,
          6,
          7,
          8,
          9,
          10
         ],
         "xaxis": "x",
         "y": [
          1.5996204933586338,
          1.6288032454361054,
          2.049335863377609,
          1.892156862745098,
          1.9791271347248578,
          2.003921568627451,
          1.8785578747628084,
          1.8652751423149905,
          1.8647058823529412,
          1.7037037037037037
         ],
         "yaxis": "y"
        },
        {
         "hovertemplate": "country=Senegal<br>month=%{x}<br>Port Calls=%{y}<extra></extra>",
         "legendgroup": "Senegal",
         "line": {
          "color": "#FF6692",
          "dash": "solid"
         },
         "marker": {
          "symbol": "circle"
         },
         "mode": "lines",
         "name": "Senegal",
         "showlegend": true,
         "type": "scattergl",
         "x": [
          1,
          2,
          3,
          4,
          5,
          6,
          7,
          8,
          9,
          10
         ],
         "xaxis": "x",
         "y": [
          3.806451612903226,
          3.9655172413793105,
          3.6129032258064515,
          4.133333333333334,
          4.193548387096774,
          3.4,
          3.6774193548387095,
          4.064516129032258,
          3.566666666666667,
          3.6296296296296298
         ],
         "yaxis": "y"
        },
        {
         "hovertemplate": "country=Seychelles<br>month=%{x}<br>Port Calls=%{y}<extra></extra>",
         "legendgroup": "Seychelles",
         "line": {
          "color": "#B6E880",
          "dash": "solid"
         },
         "marker": {
          "symbol": "circle"
         },
         "mode": "lines",
         "name": "Seychelles",
         "showlegend": true,
         "type": "scattergl",
         "x": [
          1,
          2,
          3,
          4,
          5,
          6,
          7,
          8,
          9,
          10
         ],
         "xaxis": "x",
         "y": [
          0.5161290322580645,
          0.4482758620689655,
          0.6129032258064516,
          0.4666666666666667,
          0.6129032258064516,
          0.43333333333333335,
          0.3548387096774194,
          0.5161290322580645,
          0.3,
          0.6296296296296297
         ],
         "yaxis": "y"
        },
        {
         "hovertemplate": "country=Sierra Leone<br>month=%{x}<br>Port Calls=%{y}<extra></extra>",
         "legendgroup": "Sierra Leone",
         "line": {
          "color": "#FF97FF",
          "dash": "solid"
         },
         "marker": {
          "symbol": "circle"
         },
         "mode": "lines",
         "name": "Sierra Leone",
         "showlegend": true,
         "type": "scattergl",
         "x": [
          1,
          2,
          3,
          4,
          5,
          6,
          7,
          8,
          9,
          10
         ],
         "xaxis": "x",
         "y": [
          1.5806451612903225,
          2,
          2.096774193548387,
          2.1,
          3.129032258064516,
          2.8,
          2.2903225806451615,
          2.5483870967741935,
          2.8666666666666667,
          2.7037037037037037
         ],
         "yaxis": "y"
        },
        {
         "hovertemplate": "country=Singapore<br>month=%{x}<br>Port Calls=%{y}<extra></extra>",
         "legendgroup": "Singapore",
         "line": {
          "color": "#FECB52",
          "dash": "solid"
         },
         "marker": {
          "symbol": "circle"
         },
         "mode": "lines",
         "name": "Singapore",
         "showlegend": true,
         "type": "scattergl",
         "x": [
          1,
          2,
          3,
          4,
          5,
          6,
          7,
          8,
          9,
          10
         ],
         "xaxis": "x",
         "y": [
          63.95161290322581,
          63.827586206896555,
          61.53225806451613,
          61.78333333333333,
          60.54838709677419,
          59.15,
          56.58064516129032,
          58.11290322580645,
          56.43333333333333,
          58.25925925925926
         ],
         "yaxis": "y"
        },
        {
         "hovertemplate": "country=Sint Maarten<br>month=%{x}<br>Port Calls=%{y}<extra></extra>",
         "legendgroup": "Sint Maarten",
         "line": {
          "color": "#636efa",
          "dash": "solid"
         },
         "marker": {
          "symbol": "circle"
         },
         "mode": "lines",
         "name": "Sint Maarten",
         "showlegend": true,
         "type": "scattergl",
         "x": [
          1,
          2,
          3,
          4,
          5,
          6,
          7,
          8,
          9,
          10
         ],
         "xaxis": "x",
         "y": [
          0.9193548387096774,
          0.7068965517241379,
          0.9032258064516129,
          0.9666666666666667,
          0.8064516129032258,
          0.7833333333333333,
          0.7741935483870968,
          0.7580645161290323,
          0.8833333333333333,
          0.9259259259259259
         ],
         "yaxis": "y"
        },
        {
         "hovertemplate": "country=Slovenia<br>month=%{x}<br>Port Calls=%{y}<extra></extra>",
         "legendgroup": "Slovenia",
         "line": {
          "color": "#EF553B",
          "dash": "solid"
         },
         "marker": {
          "symbol": "circle"
         },
         "mode": "lines",
         "name": "Slovenia",
         "showlegend": true,
         "type": "scattergl",
         "x": [
          1,
          2,
          3,
          4,
          5,
          6,
          7,
          8,
          9,
          10
         ],
         "xaxis": "x",
         "y": [
          4,
          3.896551724137931,
          3.6451612903225805,
          3.7,
          4,
          4.1,
          3.903225806451613,
          3.7096774193548385,
          3.1333333333333333,
          3.5925925925925926
         ],
         "yaxis": "y"
        },
        {
         "hovertemplate": "country=Solomon Islands<br>month=%{x}<br>Port Calls=%{y}<extra></extra>",
         "legendgroup": "Solomon Islands",
         "line": {
          "color": "#00cc96",
          "dash": "solid"
         },
         "marker": {
          "symbol": "circle"
         },
         "mode": "lines",
         "name": "Solomon Islands",
         "showlegend": true,
         "type": "scattergl",
         "x": [
          1,
          2,
          3,
          4,
          5,
          6,
          7,
          8,
          9,
          10
         ],
         "xaxis": "x",
         "y": [
          0.14112903225806453,
          0.09913793103448276,
          0.13709677419354838,
          0.10833333333333334,
          0.0967741935483871,
          0.1,
          0.10483870967741936,
          0.10887096774193548,
          0.07083333333333333,
          0.125
         ],
         "yaxis": "y"
        },
        {
         "hovertemplate": "country=Somalia<br>month=%{x}<br>Port Calls=%{y}<extra></extra>",
         "legendgroup": "Somalia",
         "line": {
          "color": "#ab63fa",
          "dash": "solid"
         },
         "marker": {
          "symbol": "circle"
         },
         "mode": "lines",
         "name": "Somalia",
         "showlegend": true,
         "type": "scattergl",
         "x": [
          1,
          2,
          3,
          4,
          5,
          6,
          7,
          8,
          9,
          10
         ],
         "xaxis": "x",
         "y": [
          0.5161290322580645,
          0.5517241379310345,
          0.6209677419354839,
          0.43333333333333335,
          0.5564516129032258,
          0.6833333333333333,
          0.4596774193548387,
          0.45161290322580644,
          0.4666666666666667,
          0.4537037037037037
         ],
         "yaxis": "y"
        },
        {
         "hovertemplate": "country=South Africa<br>month=%{x}<br>Port Calls=%{y}<extra></extra>",
         "legendgroup": "South Africa",
         "line": {
          "color": "#FFA15A",
          "dash": "solid"
         },
         "marker": {
          "symbol": "circle"
         },
         "mode": "lines",
         "name": "South Africa",
         "showlegend": true,
         "type": "scattergl",
         "x": [
          1,
          2,
          3,
          4,
          5,
          6,
          7,
          8,
          9,
          10
         ],
         "xaxis": "x",
         "y": [
          2.2620967741935485,
          2.2413793103448274,
          2.2620967741935485,
          2.120833333333333,
          2.2943548387096775,
          2.3666666666666667,
          2.1411290322580645,
          2.0766129032258065,
          2.1791666666666667,
          2.0787037037037037
         ],
         "yaxis": "y"
        },
        {
         "hovertemplate": "country=Spain<br>month=%{x}<br>Port Calls=%{y}<extra></extra>",
         "legendgroup": "Spain",
         "line": {
          "color": "#19d3f3",
          "dash": "solid"
         },
         "marker": {
          "symbol": "circle"
         },
         "mode": "lines",
         "name": "Spain",
         "showlegend": true,
         "type": "scattergl",
         "x": [
          1,
          2,
          3,
          4,
          5,
          6,
          7,
          8,
          9,
          10
         ],
         "xaxis": "x",
         "y": [
          3.139219015280136,
          3.1107078039927405,
          3.1825127334465195,
          3.369298245614035,
          3.340407470288625,
          3.2070175438596493,
          3.134974533106961,
          3.002546689303905,
          3.0385964912280703,
          2.9346978557504872
         ],
         "yaxis": "y"
        },
        {
         "hovertemplate": "country=Sri Lanka<br>month=%{x}<br>Port Calls=%{y}<extra></extra>",
         "legendgroup": "Sri Lanka",
         "line": {
          "color": "#FF6692",
          "dash": "solid"
         },
         "marker": {
          "symbol": "circle"
         },
         "mode": "lines",
         "name": "Sri Lanka",
         "showlegend": true,
         "type": "scattergl",
         "x": [
          1,
          2,
          3,
          4,
          5,
          6,
          7,
          8,
          9,
          10
         ],
         "xaxis": "x",
         "y": [
          3.314516129032258,
          3.0775862068965516,
          3.088709677419355,
          2.875,
          2.903225806451613,
          2.8333333333333335,
          2.8548387096774195,
          2.685483870967742,
          2.816666666666667,
          2.9814814814814814
         ],
         "yaxis": "y"
        },
        {
         "hovertemplate": "country=St.  Kitts and Nevis<br>month=%{x}<br>Port Calls=%{y}<extra></extra>",
         "legendgroup": "St.  Kitts and Nevis",
         "line": {
          "color": "#B6E880",
          "dash": "solid"
         },
         "marker": {
          "symbol": "circle"
         },
         "mode": "lines",
         "name": "St.  Kitts and Nevis",
         "showlegend": true,
         "type": "scattergl",
         "x": [
          1,
          2,
          3,
          4,
          5,
          6,
          7,
          8,
          9,
          10
         ],
         "xaxis": "x",
         "y": [
          0.45161290322580644,
          0.3275862068965517,
          0.3225806451612903,
          0.38333333333333336,
          0.27419354838709675,
          0.26666666666666666,
          0.3387096774193548,
          0.27419354838709675,
          0.2,
          0.2777777777777778
         ],
         "yaxis": "y"
        },
        {
         "hovertemplate": "country=St.  Lucia<br>month=%{x}<br>Port Calls=%{y}<extra></extra>",
         "legendgroup": "St.  Lucia",
         "line": {
          "color": "#FF97FF",
          "dash": "solid"
         },
         "marker": {
          "symbol": "circle"
         },
         "mode": "lines",
         "name": "St.  Lucia",
         "showlegend": true,
         "type": "scattergl",
         "x": [
          1,
          2,
          3,
          4,
          5,
          6,
          7,
          8,
          9,
          10
         ],
         "xaxis": "x",
         "y": [
          0.7903225806451613,
          1.0172413793103448,
          0.8709677419354839,
          0.9833333333333333,
          0.8870967741935484,
          1.0166666666666666,
          0.8064516129032258,
          0.9516129032258065,
          0.85,
          0.8518518518518519
         ],
         "yaxis": "y"
        },
        {
         "hovertemplate": "country=St.  Vincent and the Grenadines<br>month=%{x}<br>Port Calls=%{y}<extra></extra>",
         "legendgroup": "St.  Vincent and the Grenadines",
         "line": {
          "color": "#FECB52",
          "dash": "solid"
         },
         "marker": {
          "symbol": "circle"
         },
         "mode": "lines",
         "name": "St.  Vincent and the Grenadines",
         "showlegend": true,
         "type": "scattergl",
         "x": [
          1,
          2,
          3,
          4,
          5,
          6,
          7,
          8,
          9,
          10
         ],
         "xaxis": "x",
         "y": [
          0.8387096774193549,
          1.1379310344827587,
          1,
          0.9333333333333333,
          1.1935483870967742,
          1.0333333333333334,
          1.064516129032258,
          1.032258064516129,
          1.3,
          1.1111111111111112
         ],
         "yaxis": "y"
        },
        {
         "hovertemplate": "country=Sudan<br>month=%{x}<br>Port Calls=%{y}<extra></extra>",
         "legendgroup": "Sudan",
         "line": {
          "color": "#636efa",
          "dash": "solid"
         },
         "marker": {
          "symbol": "circle"
         },
         "mode": "lines",
         "name": "Sudan",
         "showlegend": true,
         "type": "scattergl",
         "x": [
          1,
          2,
          3,
          4,
          5,
          6,
          7,
          8,
          9,
          10
         ],
         "xaxis": "x",
         "y": [
          0.7956989247311828,
          0.7586206896551724,
          0.8494623655913979,
          0.8555555555555555,
          0.8817204301075269,
          0.8,
          0.6881720430107527,
          0.5376344086021505,
          0.6222222222222222,
          0.654320987654321
         ],
         "yaxis": "y"
        },
        {
         "hovertemplate": "country=Suriname<br>month=%{x}<br>Port Calls=%{y}<extra></extra>",
         "legendgroup": "Suriname",
         "line": {
          "color": "#EF553B",
          "dash": "solid"
         },
         "marker": {
          "symbol": "circle"
         },
         "mode": "lines",
         "name": "Suriname",
         "showlegend": true,
         "type": "scattergl",
         "x": [
          1,
          2,
          3,
          4,
          5,
          6,
          7,
          8,
          9,
          10
         ],
         "xaxis": "x",
         "y": [
          1.8709677419354838,
          1.9310344827586208,
          1.8387096774193548,
          1.8333333333333333,
          1.6774193548387097,
          1.7,
          1.2258064516129032,
          1.2580645161290323,
          1.4666666666666666,
          1.3703703703703705
         ],
         "yaxis": "y"
        },
        {
         "hovertemplate": "country=Sweden<br>month=%{x}<br>Port Calls=%{y}<extra></extra>",
         "legendgroup": "Sweden",
         "line": {
          "color": "#00cc96",
          "dash": "solid"
         },
         "marker": {
          "symbol": "circle"
         },
         "mode": "lines",
         "name": "Sweden",
         "showlegend": true,
         "type": "scattergl",
         "x": [
          1,
          2,
          3,
          4,
          5,
          6,
          7,
          8,
          9,
          10
         ],
         "xaxis": "x",
         "y": [
          1.3618951612903225,
          1.4364224137931034,
          1.4758064516129032,
          1.365625,
          1.4294354838709677,
          1.3552083333333333,
          1.2993951612903225,
          1.2943548387096775,
          1.3145833333333334,
          1.2789351851851851
         ],
         "yaxis": "y"
        },
        {
         "hovertemplate": "country=Syria<br>month=%{x}<br>Port Calls=%{y}<extra></extra>",
         "legendgroup": "Syria",
         "line": {
          "color": "#ab63fa",
          "dash": "solid"
         },
         "marker": {
          "symbol": "circle"
         },
         "mode": "lines",
         "name": "Syria",
         "showlegend": true,
         "type": "scattergl",
         "x": [
          1,
          2,
          3,
          4,
          5,
          6,
          7,
          8,
          9,
          10
         ],
         "xaxis": "x",
         "y": [
          0.07526881720430108,
          0.11494252873563218,
          0.0967741935483871,
          0.2222222222222222,
          0.20430107526881722,
          0.25555555555555554,
          0.21505376344086022,
          0.13978494623655913,
          0.1,
          0.09876543209876543
         ],
         "yaxis": "y"
        },
        {
         "hovertemplate": "country=São Tomé and Príncipe<br>month=%{x}<br>Port Calls=%{y}<extra></extra>",
         "legendgroup": "São Tomé and Príncipe",
         "line": {
          "color": "#FFA15A",
          "dash": "solid"
         },
         "marker": {
          "symbol": "circle"
         },
         "mode": "lines",
         "name": "São Tomé and Príncipe",
         "showlegend": true,
         "type": "scattergl",
         "x": [
          1,
          2,
          3,
          4,
          5,
          6,
          7,
          8,
          9,
          10
         ],
         "xaxis": "x",
         "y": [
          0.03225806451612903,
          0,
          0.03225806451612903,
          0.06666666666666667,
          0,
          0,
          0.06451612903225806,
          0,
          0.03333333333333333,
          0
         ],
         "yaxis": "y"
        },
        {
         "hovertemplate": "country=Taiwan Province of China<br>month=%{x}<br>Port Calls=%{y}<extra></extra>",
         "legendgroup": "Taiwan Province of China",
         "line": {
          "color": "#19d3f3",
          "dash": "solid"
         },
         "marker": {
          "symbol": "circle"
         },
         "mode": "lines",
         "name": "Taiwan Province of China",
         "showlegend": true,
         "type": "scattergl",
         "x": [
          1,
          2,
          3,
          4,
          5,
          6,
          7,
          8,
          9,
          10
         ],
         "xaxis": "x",
         "y": [
          9.080645161290322,
          8.116379310344827,
          9.491935483870968,
          9.3875,
          9.451612903225806,
          9.216666666666667,
          8.09274193548387,
          7.834677419354839,
          7.55,
          6.777777777777778
         ],
         "yaxis": "y"
        },
        {
         "hovertemplate": "country=Tanzania<br>month=%{x}<br>Port Calls=%{y}<extra></extra>",
         "legendgroup": "Tanzania",
         "line": {
          "color": "#FF6692",
          "dash": "solid"
         },
         "marker": {
          "symbol": "circle"
         },
         "mode": "lines",
         "name": "Tanzania",
         "showlegend": true,
         "type": "scattergl",
         "x": [
          1,
          2,
          3,
          4,
          5,
          6,
          7,
          8,
          9,
          10
         ],
         "xaxis": "x",
         "y": [
          1.0483870967741935,
          1.1293103448275863,
          0.9112903225806451,
          0.8333333333333334,
          0.9032258064516129,
          0.9916666666666667,
          0.9435483870967742,
          0.8225806451612904,
          1.0916666666666666,
          1.037037037037037
         ],
         "yaxis": "y"
        },
        {
         "hovertemplate": "country=Thailand<br>month=%{x}<br>Port Calls=%{y}<extra></extra>",
         "legendgroup": "Thailand",
         "line": {
          "color": "#B6E880",
          "dash": "solid"
         },
         "marker": {
          "symbol": "circle"
         },
         "mode": "lines",
         "name": "Thailand",
         "showlegend": true,
         "type": "scattergl",
         "x": [
          1,
          2,
          3,
          4,
          5,
          6,
          7,
          8,
          9,
          10
         ],
         "xaxis": "x",
         "y": [
          9.745967741935484,
          9.879310344827585,
          9.40725806451613,
          9.945833333333333,
          8.870967741935484,
          7.445833333333334,
          8.540322580645162,
          8.44758064516129,
          8.383333333333333,
          8.712962962962964
         ],
         "yaxis": "y"
        },
        {
         "hovertemplate": "country=The Bahamas<br>month=%{x}<br>Port Calls=%{y}<extra></extra>",
         "legendgroup": "The Bahamas",
         "line": {
          "color": "#FF97FF",
          "dash": "solid"
         },
         "marker": {
          "symbol": "circle"
         },
         "mode": "lines",
         "name": "The Bahamas",
         "showlegend": true,
         "type": "scattergl",
         "x": [
          1,
          2,
          3,
          4,
          5,
          6,
          7,
          8,
          9,
          10
         ],
         "xaxis": "x",
         "y": [
          0.8870967741935484,
          0.9195402298850575,
          0.8010752688172043,
          0.7611111111111111,
          0.9032258064516129,
          0.8555555555555555,
          0.8978494623655914,
          0.7795698924731183,
          0.7444444444444445,
          0.691358024691358
         ],
         "yaxis": "y"
        },
        {
         "hovertemplate": "country=The Gambia<br>month=%{x}<br>Port Calls=%{y}<extra></extra>",
         "legendgroup": "The Gambia",
         "line": {
          "color": "#FECB52",
          "dash": "solid"
         },
         "marker": {
          "symbol": "circle"
         },
         "mode": "lines",
         "name": "The Gambia",
         "showlegend": true,
         "type": "scattergl",
         "x": [
          1,
          2,
          3,
          4,
          5,
          6,
          7,
          8,
          9,
          10
         ],
         "xaxis": "x",
         "y": [
          0.41935483870967744,
          0.4827586206896552,
          0.6129032258064516,
          0.4666666666666667,
          0.5161290322580645,
          0.4,
          0.4838709677419355,
          0.4838709677419355,
          0.5,
          0.37037037037037035
         ],
         "yaxis": "y"
        },
        {
         "hovertemplate": "country=The Netherlands<br>month=%{x}<br>Port Calls=%{y}<extra></extra>",
         "legendgroup": "The Netherlands",
         "line": {
          "color": "#636efa",
          "dash": "solid"
         },
         "marker": {
          "symbol": "circle"
         },
         "mode": "lines",
         "name": "The Netherlands",
         "showlegend": true,
         "type": "scattergl",
         "x": [
          1,
          2,
          3,
          4,
          5,
          6,
          7,
          8,
          9,
          10
         ],
         "xaxis": "x",
         "y": [
          11.455645161290322,
          11.607758620689655,
          12.27016129032258,
          12.1875,
          11.94758064516129,
          11.945833333333333,
          11.971774193548388,
          11.508064516129032,
          11.208333333333334,
          10.800925925925926
         ],
         "yaxis": "y"
        },
        {
         "hovertemplate": "country=Timor-Leste<br>month=%{x}<br>Port Calls=%{y}<extra></extra>",
         "legendgroup": "Timor-Leste",
         "line": {
          "color": "#EF553B",
          "dash": "solid"
         },
         "marker": {
          "symbol": "circle"
         },
         "mode": "lines",
         "name": "Timor-Leste",
         "showlegend": true,
         "type": "scattergl",
         "x": [
          1,
          2,
          3,
          4,
          5,
          6,
          7,
          8,
          9,
          10
         ],
         "xaxis": "x",
         "y": [
          0.016129032258064516,
          0.034482758620689655,
          0.04838709677419355,
          0.016666666666666666,
          0.03225806451612903,
          0.03333333333333333,
          0.03225806451612903,
          0.04838709677419355,
          0.016666666666666666,
          0.018518518518518517
         ],
         "yaxis": "y"
        },
        {
         "hovertemplate": "country=Togo<br>month=%{x}<br>Port Calls=%{y}<extra></extra>",
         "legendgroup": "Togo",
         "line": {
          "color": "#00cc96",
          "dash": "solid"
         },
         "marker": {
          "symbol": "circle"
         },
         "mode": "lines",
         "name": "Togo",
         "showlegend": true,
         "type": "scattergl",
         "x": [
          1,
          2,
          3,
          4,
          5,
          6,
          7,
          8,
          9,
          10
         ],
         "xaxis": "x",
         "y": [
          3.5483870967741935,
          3.4482758620689653,
          3.838709677419355,
          3.8666666666666667,
          3.3548387096774195,
          3.7333333333333334,
          3.967741935483871,
          3.2580645161290325,
          3.6666666666666665,
          3.7777777777777777
         ],
         "yaxis": "y"
        },
        {
         "hovertemplate": "country=Tonga<br>month=%{x}<br>Port Calls=%{y}<extra></extra>",
         "legendgroup": "Tonga",
         "line": {
          "color": "#ab63fa",
          "dash": "solid"
         },
         "marker": {
          "symbol": "circle"
         },
         "mode": "lines",
         "name": "Tonga",
         "showlegend": true,
         "type": "scattergl",
         "x": [
          1,
          2,
          3,
          4,
          5,
          6,
          7,
          8,
          9,
          10
         ],
         "xaxis": "x",
         "y": [
          0.24193548387096775,
          0.22413793103448276,
          0.27419354838709675,
          0.26666666666666666,
          0.24193548387096775,
          0.23333333333333334,
          0.24193548387096775,
          0.27419354838709675,
          0.2,
          0.2962962962962963
         ],
         "yaxis": "y"
        },
        {
         "hovertemplate": "country=Trinidad and Tobago<br>month=%{x}<br>Port Calls=%{y}<extra></extra>",
         "legendgroup": "Trinidad and Tobago",
         "line": {
          "color": "#FFA15A",
          "dash": "solid"
         },
         "marker": {
          "symbol": "circle"
         },
         "mode": "lines",
         "name": "Trinidad and Tobago",
         "showlegend": true,
         "type": "scattergl",
         "x": [
          1,
          2,
          3,
          4,
          5,
          6,
          7,
          8,
          9,
          10
         ],
         "xaxis": "x",
         "y": [
          1.1059907834101383,
          1.1182266009852218,
          1.1612903225806452,
          1.0666666666666667,
          1.0737327188940091,
          0.9380952380952381,
          0.9953917050691244,
          1.0783410138248848,
          1.0666666666666667,
          0.9312169312169312
         ],
         "yaxis": "y"
        },
        {
         "hovertemplate": "country=Tunisia<br>month=%{x}<br>Port Calls=%{y}<extra></extra>",
         "legendgroup": "Tunisia",
         "line": {
          "color": "#19d3f3",
          "dash": "solid"
         },
         "marker": {
          "symbol": "circle"
         },
         "mode": "lines",
         "name": "Tunisia",
         "showlegend": true,
         "type": "scattergl",
         "x": [
          1,
          2,
          3,
          4,
          5,
          6,
          7,
          8,
          9,
          10
         ],
         "xaxis": "x",
         "y": [
          0.9758064516129032,
          0.9956896551724138,
          0.9556451612903226,
          0.95,
          1.064516129032258,
          1.05,
          1.092741935483871,
          0.9233870967741935,
          0.85,
          0.8148148148148148
         ],
         "yaxis": "y"
        },
        {
         "hovertemplate": "country=Turkmenistan<br>month=%{x}<br>Port Calls=%{y}<extra></extra>",
         "legendgroup": "Turkmenistan",
         "line": {
          "color": "#FF6692",
          "dash": "solid"
         },
         "marker": {
          "symbol": "circle"
         },
         "mode": "lines",
         "name": "Turkmenistan",
         "showlegend": true,
         "type": "scattergl",
         "x": [
          1,
          2,
          3,
          4,
          5,
          6,
          7,
          8,
          9,
          10
         ],
         "xaxis": "x",
         "y": [
          0.8387096774193549,
          1.1896551724137931,
          0.4032258064516129,
          0.4,
          0.9354838709677419,
          1.1833333333333333,
          1.0483870967741935,
          1.2741935483870968,
          1.2333333333333334,
          0.7222222222222222
         ],
         "yaxis": "y"
        },
        {
         "hovertemplate": "country=Turks and Caicos Islands<br>month=%{x}<br>Port Calls=%{y}<extra></extra>",
         "legendgroup": "Turks and Caicos Islands",
         "line": {
          "color": "#B6E880",
          "dash": "solid"
         },
         "marker": {
          "symbol": "circle"
         },
         "mode": "lines",
         "name": "Turks and Caicos Islands",
         "showlegend": true,
         "type": "scattergl",
         "x": [
          1,
          2,
          3,
          4,
          5,
          6,
          7,
          8,
          9,
          10
         ],
         "xaxis": "x",
         "y": [
          0.2903225806451613,
          0.3793103448275862,
          0.45161290322580644,
          0.36666666666666664,
          0.45161290322580644,
          0.45,
          0.3709677419354839,
          0.27419354838709675,
          0.23333333333333334,
          0.3333333333333333
         ],
         "yaxis": "y"
        },
        {
         "hovertemplate": "country=Tuvalu<br>month=%{x}<br>Port Calls=%{y}<extra></extra>",
         "legendgroup": "Tuvalu",
         "line": {
          "color": "#FF97FF",
          "dash": "solid"
         },
         "marker": {
          "symbol": "circle"
         },
         "mode": "lines",
         "name": "Tuvalu",
         "showlegend": true,
         "type": "scattergl",
         "x": [
          1,
          2,
          3,
          4,
          5,
          6,
          7,
          8,
          9,
          10
         ],
         "xaxis": "x",
         "y": [
          0.16129032258064516,
          0.034482758620689655,
          0.16129032258064516,
          0.1,
          0.0967741935483871,
          0.13333333333333333,
          0.06451612903225806,
          0.03225806451612903,
          0.03333333333333333,
          0.1111111111111111
         ],
         "yaxis": "y"
        },
        {
         "hovertemplate": "country=Türkiye<br>month=%{x}<br>Port Calls=%{y}<extra></extra>",
         "legendgroup": "Türkiye",
         "line": {
          "color": "#FECB52",
          "dash": "solid"
         },
         "marker": {
          "symbol": "circle"
         },
         "mode": "lines",
         "name": "Türkiye",
         "showlegend": true,
         "type": "scattergl",
         "x": [
          1,
          2,
          3,
          4,
          5,
          6,
          7,
          8,
          9,
          10
         ],
         "xaxis": "x",
         "y": [
          3.865102639296188,
          3.9801462904911182,
          4.161290322580645,
          3.893939393939394,
          3.929618768328446,
          3.791919191919192,
          3.6480938416422286,
          3.5591397849462365,
          3.3535353535353534,
          3.508417508417508
         ],
         "yaxis": "y"
        },
        {
         "hovertemplate": "country=Ukraine<br>month=%{x}<br>Port Calls=%{y}<extra></extra>",
         "legendgroup": "Ukraine",
         "line": {
          "color": "#636efa",
          "dash": "solid"
         },
         "marker": {
          "symbol": "circle"
         },
         "mode": "lines",
         "name": "Ukraine",
         "showlegend": true,
         "type": "scattergl",
         "x": [
          1,
          2,
          3,
          4,
          5,
          6,
          7,
          8,
          9,
          10
         ],
         "xaxis": "x",
         "y": [
          0.7626728110599078,
          0.8866995073891626,
          0.847926267281106,
          0.8642857142857143,
          0.6682027649769585,
          0.6619047619047619,
          0.631336405529954,
          0.5852534562211982,
          0.5857142857142857,
          0.2698412698412698
         ],
         "yaxis": "y"
        },
        {
         "hovertemplate": "country=United Arab Emirates<br>month=%{x}<br>Port Calls=%{y}<extra></extra>",
         "legendgroup": "United Arab Emirates",
         "line": {
          "color": "#EF553B",
          "dash": "solid"
         },
         "marker": {
          "symbol": "circle"
         },
         "mode": "lines",
         "name": "United Arab Emirates",
         "showlegend": true,
         "type": "scattergl",
         "x": [
          1,
          2,
          3,
          4,
          5,
          6,
          7,
          8,
          9,
          10
         ],
         "xaxis": "x",
         "y": [
          4.529032258064516,
          4.213793103448276,
          4.503225806451613,
          4.262222222222222,
          4.363440860215054,
          4.344444444444444,
          4.163440860215053,
          4.294623655913979,
          4.571111111111111,
          4.306172839506173
         ],
         "yaxis": "y"
        },
        {
         "hovertemplate": "country=United Kingdom<br>month=%{x}<br>Port Calls=%{y}<extra></extra>",
         "legendgroup": "United Kingdom",
         "line": {
          "color": "#00cc96",
          "dash": "solid"
         },
         "marker": {
          "symbol": "circle"
         },
         "mode": "lines",
         "name": "United Kingdom",
         "showlegend": true,
         "type": "scattergl",
         "x": [
          1,
          2,
          3,
          4,
          5,
          6,
          7,
          8,
          9,
          10
         ],
         "xaxis": "x",
         "y": [
          1.5420332355816226,
          1.53239289446186,
          1.6407624633431086,
          1.6131313131313132,
          1.583088954056696,
          1.5893939393939394,
          1.6041055718475072,
          1.553763440860215,
          1.5227272727272727,
          1.5538720538720538
         ],
         "yaxis": "y"
        },
        {
         "hovertemplate": "country=United States<br>month=%{x}<br>Port Calls=%{y}<extra></extra>",
         "legendgroup": "United States",
         "line": {
          "color": "#ab63fa",
          "dash": "solid"
         },
         "marker": {
          "symbol": "circle"
         },
         "mode": "lines",
         "name": "United States",
         "showlegend": true,
         "type": "scattergl",
         "x": [
          1,
          2,
          3,
          4,
          5,
          6,
          7,
          8,
          9,
          10
         ],
         "xaxis": "x",
         "y": [
          1.6676810712111991,
          1.6551724137931034,
          1.6664637857577602,
          1.7040880503144653,
          1.743761412051126,
          1.7481132075471697,
          1.6950699939135727,
          1.6716372489348752,
          1.6628930817610064,
          1.5443745632424877
         ],
         "yaxis": "y"
        },
        {
         "hovertemplate": "country=United States Virgin Islands<br>month=%{x}<br>Port Calls=%{y}<extra></extra>",
         "legendgroup": "United States Virgin Islands",
         "line": {
          "color": "#FFA15A",
          "dash": "solid"
         },
         "marker": {
          "symbol": "circle"
         },
         "mode": "lines",
         "name": "United States Virgin Islands",
         "showlegend": true,
         "type": "scattergl",
         "x": [
          1,
          2,
          3,
          4,
          5,
          6,
          7,
          8,
          9,
          10
         ],
         "xaxis": "x",
         "y": [
          2.1451612903225805,
          1.9827586206896552,
          2.274193548387097,
          2.033333333333333,
          2.064516129032258,
          1.9166666666666667,
          2.225806451612903,
          1.967741935483871,
          1.9666666666666666,
          1.7407407407407407
         ],
         "yaxis": "y"
        },
        {
         "hovertemplate": "country=Uruguay<br>month=%{x}<br>Port Calls=%{y}<extra></extra>",
         "legendgroup": "Uruguay",
         "line": {
          "color": "#19d3f3",
          "dash": "solid"
         },
         "marker": {
          "symbol": "circle"
         },
         "mode": "lines",
         "name": "Uruguay",
         "showlegend": true,
         "type": "scattergl",
         "x": [
          1,
          2,
          3,
          4,
          5,
          6,
          7,
          8,
          9,
          10
         ],
         "xaxis": "x",
         "y": [
          1.1612903225806452,
          1.3362068965517242,
          1.2903225806451613,
          1.2416666666666667,
          1.346774193548387,
          1.4666666666666666,
          1.217741935483871,
          1.25,
          1.1583333333333334,
          1.1388888888888888
         ],
         "yaxis": "y"
        },
        {
         "hovertemplate": "country=Vanuatu<br>month=%{x}<br>Port Calls=%{y}<extra></extra>",
         "legendgroup": "Vanuatu",
         "line": {
          "color": "#FF6692",
          "dash": "solid"
         },
         "marker": {
          "symbol": "circle"
         },
         "mode": "lines",
         "name": "Vanuatu",
         "showlegend": true,
         "type": "scattergl",
         "x": [
          1,
          2,
          3,
          4,
          5,
          6,
          7,
          8,
          9,
          10
         ],
         "xaxis": "x",
         "y": [
          0.3387096774193548,
          0.13793103448275862,
          0.2903225806451613,
          0.2833333333333333,
          0.20967741935483872,
          0.26666666666666666,
          0.25806451612903225,
          0.22580645161290322,
          0.25,
          0.2777777777777778
         ],
         "yaxis": "y"
        },
        {
         "hovertemplate": "country=Venezuela<br>month=%{x}<br>Port Calls=%{y}<extra></extra>",
         "legendgroup": "Venezuela",
         "line": {
          "color": "#B6E880",
          "dash": "solid"
         },
         "marker": {
          "symbol": "circle"
         },
         "mode": "lines",
         "name": "Venezuela",
         "showlegend": true,
         "type": "scattergl",
         "x": [
          1,
          2,
          3,
          4,
          5,
          6,
          7,
          8,
          9,
          10
         ],
         "xaxis": "x",
         "y": [
          0.423963133640553,
          0.43103448275862066,
          0.43548387096774194,
          0.49047619047619045,
          0.4470046082949309,
          0.4261904761904762,
          0.48847926267281105,
          0.47465437788018433,
          0.42857142857142855,
          0.4576719576719577
         ],
         "yaxis": "y"
        },
        {
         "hovertemplate": "country=Vietnam<br>month=%{x}<br>Port Calls=%{y}<extra></extra>",
         "legendgroup": "Vietnam",
         "line": {
          "color": "#FF97FF",
          "dash": "solid"
         },
         "marker": {
          "symbol": "circle"
         },
         "mode": "lines",
         "name": "Vietnam",
         "showlegend": true,
         "type": "scattergl",
         "x": [
          1,
          2,
          3,
          4,
          5,
          6,
          7,
          8,
          9,
          10
         ],
         "xaxis": "x",
         "y": [
          6.472350230414746,
          5.600985221674877,
          6.255760368663594,
          6.173809523809524,
          6.085253456221198,
          6.083333333333333,
          5.7373271889400925,
          5.88479262672811,
          5.435714285714286,
          5.619047619047619
         ],
         "yaxis": "y"
        },
        {
         "hovertemplate": "country=Yemen<br>month=%{x}<br>Port Calls=%{y}<extra></extra>",
         "legendgroup": "Yemen",
         "line": {
          "color": "#FECB52",
          "dash": "solid"
         },
         "marker": {
          "symbol": "circle"
         },
         "mode": "lines",
         "name": "Yemen",
         "showlegend": true,
         "type": "scattergl",
         "x": [
          1,
          2,
          3,
          4,
          5,
          6,
          7,
          8,
          9,
          10
         ],
         "xaxis": "x",
         "y": [
          0.41013824884792627,
          0.43842364532019706,
          0.3271889400921659,
          0.38571428571428573,
          0.2903225806451613,
          0.3333333333333333,
          0.2626728110599078,
          0.34101382488479265,
          0.37142857142857144,
          0.3386243386243386
         ],
         "yaxis": "y"
        }
       ],
       "layout": {
        "legend": {
         "title": {
          "text": "country"
         },
         "tracegroupgap": 0
        },
        "template": {
         "data": {
          "bar": [
           {
            "error_x": {
             "color": "#2a3f5f"
            },
            "error_y": {
             "color": "#2a3f5f"
            },
            "marker": {
             "line": {
              "color": "#E5ECF6",
              "width": 0.5
             },
             "pattern": {
              "fillmode": "overlay",
              "size": 10,
              "solidity": 0.2
             }
            },
            "type": "bar"
           }
          ],
          "barpolar": [
           {
            "marker": {
             "line": {
              "color": "#E5ECF6",
              "width": 0.5
             },
             "pattern": {
              "fillmode": "overlay",
              "size": 10,
              "solidity": 0.2
             }
            },
            "type": "barpolar"
           }
          ],
          "carpet": [
           {
            "aaxis": {
             "endlinecolor": "#2a3f5f",
             "gridcolor": "white",
             "linecolor": "white",
             "minorgridcolor": "white",
             "startlinecolor": "#2a3f5f"
            },
            "baxis": {
             "endlinecolor": "#2a3f5f",
             "gridcolor": "white",
             "linecolor": "white",
             "minorgridcolor": "white",
             "startlinecolor": "#2a3f5f"
            },
            "type": "carpet"
           }
          ],
          "choropleth": [
           {
            "colorbar": {
             "outlinewidth": 0,
             "ticks": ""
            },
            "type": "choropleth"
           }
          ],
          "contour": [
           {
            "colorbar": {
             "outlinewidth": 0,
             "ticks": ""
            },
            "colorscale": [
             [
              0,
              "#0d0887"
             ],
             [
              0.1111111111111111,
              "#46039f"
             ],
             [
              0.2222222222222222,
              "#7201a8"
             ],
             [
              0.3333333333333333,
              "#9c179e"
             ],
             [
              0.4444444444444444,
              "#bd3786"
             ],
             [
              0.5555555555555556,
              "#d8576b"
             ],
             [
              0.6666666666666666,
              "#ed7953"
             ],
             [
              0.7777777777777778,
              "#fb9f3a"
             ],
             [
              0.8888888888888888,
              "#fdca26"
             ],
             [
              1,
              "#f0f921"
             ]
            ],
            "type": "contour"
           }
          ],
          "contourcarpet": [
           {
            "colorbar": {
             "outlinewidth": 0,
             "ticks": ""
            },
            "type": "contourcarpet"
           }
          ],
          "heatmap": [
           {
            "colorbar": {
             "outlinewidth": 0,
             "ticks": ""
            },
            "colorscale": [
             [
              0,
              "#0d0887"
             ],
             [
              0.1111111111111111,
              "#46039f"
             ],
             [
              0.2222222222222222,
              "#7201a8"
             ],
             [
              0.3333333333333333,
              "#9c179e"
             ],
             [
              0.4444444444444444,
              "#bd3786"
             ],
             [
              0.5555555555555556,
              "#d8576b"
             ],
             [
              0.6666666666666666,
              "#ed7953"
             ],
             [
              0.7777777777777778,
              "#fb9f3a"
             ],
             [
              0.8888888888888888,
              "#fdca26"
             ],
             [
              1,
              "#f0f921"
             ]
            ],
            "type": "heatmap"
           }
          ],
          "heatmapgl": [
           {
            "colorbar": {
             "outlinewidth": 0,
             "ticks": ""
            },
            "colorscale": [
             [
              0,
              "#0d0887"
             ],
             [
              0.1111111111111111,
              "#46039f"
             ],
             [
              0.2222222222222222,
              "#7201a8"
             ],
             [
              0.3333333333333333,
              "#9c179e"
             ],
             [
              0.4444444444444444,
              "#bd3786"
             ],
             [
              0.5555555555555556,
              "#d8576b"
             ],
             [
              0.6666666666666666,
              "#ed7953"
             ],
             [
              0.7777777777777778,
              "#fb9f3a"
             ],
             [
              0.8888888888888888,
              "#fdca26"
             ],
             [
              1,
              "#f0f921"
             ]
            ],
            "type": "heatmapgl"
           }
          ],
          "histogram": [
           {
            "marker": {
             "pattern": {
              "fillmode": "overlay",
              "size": 10,
              "solidity": 0.2
             }
            },
            "type": "histogram"
           }
          ],
          "histogram2d": [
           {
            "colorbar": {
             "outlinewidth": 0,
             "ticks": ""
            },
            "colorscale": [
             [
              0,
              "#0d0887"
             ],
             [
              0.1111111111111111,
              "#46039f"
             ],
             [
              0.2222222222222222,
              "#7201a8"
             ],
             [
              0.3333333333333333,
              "#9c179e"
             ],
             [
              0.4444444444444444,
              "#bd3786"
             ],
             [
              0.5555555555555556,
              "#d8576b"
             ],
             [
              0.6666666666666666,
              "#ed7953"
             ],
             [
              0.7777777777777778,
              "#fb9f3a"
             ],
             [
              0.8888888888888888,
              "#fdca26"
             ],
             [
              1,
              "#f0f921"
             ]
            ],
            "type": "histogram2d"
           }
          ],
          "histogram2dcontour": [
           {
            "colorbar": {
             "outlinewidth": 0,
             "ticks": ""
            },
            "colorscale": [
             [
              0,
              "#0d0887"
             ],
             [
              0.1111111111111111,
              "#46039f"
             ],
             [
              0.2222222222222222,
              "#7201a8"
             ],
             [
              0.3333333333333333,
              "#9c179e"
             ],
             [
              0.4444444444444444,
              "#bd3786"
             ],
             [
              0.5555555555555556,
              "#d8576b"
             ],
             [
              0.6666666666666666,
              "#ed7953"
             ],
             [
              0.7777777777777778,
              "#fb9f3a"
             ],
             [
              0.8888888888888888,
              "#fdca26"
             ],
             [
              1,
              "#f0f921"
             ]
            ],
            "type": "histogram2dcontour"
           }
          ],
          "mesh3d": [
           {
            "colorbar": {
             "outlinewidth": 0,
             "ticks": ""
            },
            "type": "mesh3d"
           }
          ],
          "parcoords": [
           {
            "line": {
             "colorbar": {
              "outlinewidth": 0,
              "ticks": ""
             }
            },
            "type": "parcoords"
           }
          ],
          "pie": [
           {
            "automargin": true,
            "type": "pie"
           }
          ],
          "scatter": [
           {
            "fillpattern": {
             "fillmode": "overlay",
             "size": 10,
             "solidity": 0.2
            },
            "type": "scatter"
           }
          ],
          "scatter3d": [
           {
            "line": {
             "colorbar": {
              "outlinewidth": 0,
              "ticks": ""
             }
            },
            "marker": {
             "colorbar": {
              "outlinewidth": 0,
              "ticks": ""
             }
            },
            "type": "scatter3d"
           }
          ],
          "scattercarpet": [
           {
            "marker": {
             "colorbar": {
              "outlinewidth": 0,
              "ticks": ""
             }
            },
            "type": "scattercarpet"
           }
          ],
          "scattergeo": [
           {
            "marker": {
             "colorbar": {
              "outlinewidth": 0,
              "ticks": ""
             }
            },
            "type": "scattergeo"
           }
          ],
          "scattergl": [
           {
            "marker": {
             "colorbar": {
              "outlinewidth": 0,
              "ticks": ""
             }
            },
            "type": "scattergl"
           }
          ],
          "scattermapbox": [
           {
            "marker": {
             "colorbar": {
              "outlinewidth": 0,
              "ticks": ""
             }
            },
            "type": "scattermapbox"
           }
          ],
          "scatterpolar": [
           {
            "marker": {
             "colorbar": {
              "outlinewidth": 0,
              "ticks": ""
             }
            },
            "type": "scatterpolar"
           }
          ],
          "scatterpolargl": [
           {
            "marker": {
             "colorbar": {
              "outlinewidth": 0,
              "ticks": ""
             }
            },
            "type": "scatterpolargl"
           }
          ],
          "scatterternary": [
           {
            "marker": {
             "colorbar": {
              "outlinewidth": 0,
              "ticks": ""
             }
            },
            "type": "scatterternary"
           }
          ],
          "surface": [
           {
            "colorbar": {
             "outlinewidth": 0,
             "ticks": ""
            },
            "colorscale": [
             [
              0,
              "#0d0887"
             ],
             [
              0.1111111111111111,
              "#46039f"
             ],
             [
              0.2222222222222222,
              "#7201a8"
             ],
             [
              0.3333333333333333,
              "#9c179e"
             ],
             [
              0.4444444444444444,
              "#bd3786"
             ],
             [
              0.5555555555555556,
              "#d8576b"
             ],
             [
              0.6666666666666666,
              "#ed7953"
             ],
             [
              0.7777777777777778,
              "#fb9f3a"
             ],
             [
              0.8888888888888888,
              "#fdca26"
             ],
             [
              1,
              "#f0f921"
             ]
            ],
            "type": "surface"
           }
          ],
          "table": [
           {
            "cells": {
             "fill": {
              "color": "#EBF0F8"
             },
             "line": {
              "color": "white"
             }
            },
            "header": {
             "fill": {
              "color": "#C8D4E3"
             },
             "line": {
              "color": "white"
             }
            },
            "type": "table"
           }
          ]
         },
         "layout": {
          "annotationdefaults": {
           "arrowcolor": "#2a3f5f",
           "arrowhead": 0,
           "arrowwidth": 1
          },
          "autotypenumbers": "strict",
          "coloraxis": {
           "colorbar": {
            "outlinewidth": 0,
            "ticks": ""
           }
          },
          "colorscale": {
           "diverging": [
            [
             0,
             "#8e0152"
            ],
            [
             0.1,
             "#c51b7d"
            ],
            [
             0.2,
             "#de77ae"
            ],
            [
             0.3,
             "#f1b6da"
            ],
            [
             0.4,
             "#fde0ef"
            ],
            [
             0.5,
             "#f7f7f7"
            ],
            [
             0.6,
             "#e6f5d0"
            ],
            [
             0.7,
             "#b8e186"
            ],
            [
             0.8,
             "#7fbc41"
            ],
            [
             0.9,
             "#4d9221"
            ],
            [
             1,
             "#276419"
            ]
           ],
           "sequential": [
            [
             0,
             "#0d0887"
            ],
            [
             0.1111111111111111,
             "#46039f"
            ],
            [
             0.2222222222222222,
             "#7201a8"
            ],
            [
             0.3333333333333333,
             "#9c179e"
            ],
            [
             0.4444444444444444,
             "#bd3786"
            ],
            [
             0.5555555555555556,
             "#d8576b"
            ],
            [
             0.6666666666666666,
             "#ed7953"
            ],
            [
             0.7777777777777778,
             "#fb9f3a"
            ],
            [
             0.8888888888888888,
             "#fdca26"
            ],
            [
             1,
             "#f0f921"
            ]
           ],
           "sequentialminus": [
            [
             0,
             "#0d0887"
            ],
            [
             0.1111111111111111,
             "#46039f"
            ],
            [
             0.2222222222222222,
             "#7201a8"
            ],
            [
             0.3333333333333333,
             "#9c179e"
            ],
            [
             0.4444444444444444,
             "#bd3786"
            ],
            [
             0.5555555555555556,
             "#d8576b"
            ],
            [
             0.6666666666666666,
             "#ed7953"
            ],
            [
             0.7777777777777778,
             "#fb9f3a"
            ],
            [
             0.8888888888888888,
             "#fdca26"
            ],
            [
             1,
             "#f0f921"
            ]
           ]
          },
          "colorway": [
           "#636efa",
           "#EF553B",
           "#00cc96",
           "#ab63fa",
           "#FFA15A",
           "#19d3f3",
           "#FF6692",
           "#B6E880",
           "#FF97FF",
           "#FECB52"
          ],
          "font": {
           "color": "#2a3f5f"
          },
          "geo": {
           "bgcolor": "white",
           "lakecolor": "white",
           "landcolor": "#E5ECF6",
           "showlakes": true,
           "showland": true,
           "subunitcolor": "white"
          },
          "hoverlabel": {
           "align": "left"
          },
          "hovermode": "closest",
          "mapbox": {
           "style": "light"
          },
          "paper_bgcolor": "white",
          "plot_bgcolor": "#E5ECF6",
          "polar": {
           "angularaxis": {
            "gridcolor": "white",
            "linecolor": "white",
            "ticks": ""
           },
           "bgcolor": "#E5ECF6",
           "radialaxis": {
            "gridcolor": "white",
            "linecolor": "white",
            "ticks": ""
           }
          },
          "scene": {
           "xaxis": {
            "backgroundcolor": "#E5ECF6",
            "gridcolor": "white",
            "gridwidth": 2,
            "linecolor": "white",
            "showbackground": true,
            "ticks": "",
            "zerolinecolor": "white"
           },
           "yaxis": {
            "backgroundcolor": "#E5ECF6",
            "gridcolor": "white",
            "gridwidth": 2,
            "linecolor": "white",
            "showbackground": true,
            "ticks": "",
            "zerolinecolor": "white"
           },
           "zaxis": {
            "backgroundcolor": "#E5ECF6",
            "gridcolor": "white",
            "gridwidth": 2,
            "linecolor": "white",
            "showbackground": true,
            "ticks": "",
            "zerolinecolor": "white"
           }
          },
          "shapedefaults": {
           "line": {
            "color": "#2a3f5f"
           }
          },
          "ternary": {
           "aaxis": {
            "gridcolor": "white",
            "linecolor": "white",
            "ticks": ""
           },
           "baxis": {
            "gridcolor": "white",
            "linecolor": "white",
            "ticks": ""
           },
           "bgcolor": "#E5ECF6",
           "caxis": {
            "gridcolor": "white",
            "linecolor": "white",
            "ticks": ""
           }
          },
          "title": {
           "x": 0.05
          },
          "xaxis": {
           "automargin": true,
           "gridcolor": "white",
           "linecolor": "white",
           "ticks": "",
           "title": {
            "standoff": 15
           },
           "zerolinecolor": "white",
           "zerolinewidth": 2
          },
          "yaxis": {
           "automargin": true,
           "gridcolor": "white",
           "linecolor": "white",
           "ticks": "",
           "title": {
            "standoff": 15
           },
           "zerolinecolor": "white",
           "zerolinewidth": 2
          }
         }
        },
        "title": {
         "text": "Portcalls by Country (2023-2024)"
        },
        "xaxis": {
         "anchor": "y",
         "domain": [
          0,
          1
         ],
         "title": {
          "text": "month"
         }
        },
        "yaxis": {
         "anchor": "x",
         "domain": [
          0,
          1
         ],
         "title": {
          "text": "Port Calls"
         }
        }
       }
      }
     },
     "metadata": {},
     "output_type": "display_data"
    }
   ],
   "source": [
    "import plotly.express as px\n",
    "\n",
    "# Filter data for the years 2023 and 2024\n",
    "filtered_data = data[(data['year'] == 2023) | (data['year'] == 2024)]\n",
    "\n",
    "# Group by country and year, and sum the portcalls\n",
    "grouped_data = filtered_data.groupby(['country', 'year','month'])['portcalls'].mean().reset_index()\n",
    "\n",
    "# Create a line chart\n",
    "fig = px.line(grouped_data, x='month', y='portcalls', color='country', title='Portcalls by Country (2023-2024)', labels={'portcalls': 'Port Calls', 'year': 'Year'})\n",
    "\n",
    "# Show the chart\n",
    "fig.show()"
   ]
  },
  {
   "cell_type": "code",
   "execution_count": 25,
   "metadata": {},
   "outputs": [
    {
     "name": "stdout",
     "output_type": "stream",
     "text": [
      "Defaulting to user installation because normal site-packages is not writeableNote: you may need to restart the kernel to use updated packages.\n"
     ]
    },
    {
     "name": "stderr",
     "output_type": "stream",
     "text": [
      "DEPRECATION: Loading egg at c:\\programdata\\anaconda3\\lib\\site-packages\\vboxapi-1.0-py3.11.egg is deprecated. pip 23.3 will enforce this behaviour change. A possible replacement is to use pip for package installation..\n"
     ]
    },
    {
     "name": "stdout",
     "output_type": "stream",
     "text": [
      "\n",
      "Requirement already satisfied: geoplot in c:\\users\\issac\\appdata\\roaming\\python\\python311\\site-packages (0.5.1)\n",
      "Requirement already satisfied: matplotlib>=3.1.2 in c:\\programdata\\anaconda3\\lib\\site-packages (from geoplot) (3.7.1)\n",
      "Requirement already satisfied: seaborn in c:\\programdata\\anaconda3\\lib\\site-packages (from geoplot) (0.12.2)\n",
      "Requirement already satisfied: pandas in c:\\programdata\\anaconda3\\lib\\site-packages (from geoplot) (1.5.3)\n",
      "Requirement already satisfied: geopandas>=0.9.0 in c:\\users\\issac\\appdata\\roaming\\python\\python311\\site-packages (from geoplot) (1.0.1)\n",
      "Requirement already satisfied: cartopy in c:\\users\\issac\\appdata\\roaming\\python\\python311\\site-packages (from geoplot) (0.24.1)\n",
      "Requirement already satisfied: mapclassify>=2.1 in c:\\users\\issac\\appdata\\roaming\\python\\python311\\site-packages (from geoplot) (2.8.1)\n",
      "Requirement already satisfied: contextily>=1.0.0 in c:\\users\\issac\\appdata\\roaming\\python\\python311\\site-packages (from geoplot) (1.6.2)\n",
      "Requirement already satisfied: geopy in c:\\users\\issac\\appdata\\roaming\\python\\python311\\site-packages (from contextily>=1.0.0->geoplot) (2.4.1)\n",
      "Requirement already satisfied: mercantile in c:\\users\\issac\\appdata\\roaming\\python\\python311\\site-packages (from contextily>=1.0.0->geoplot) (1.2.1)\n",
      "Requirement already satisfied: pillow in c:\\programdata\\anaconda3\\lib\\site-packages (from contextily>=1.0.0->geoplot) (9.4.0)\n",
      "Requirement already satisfied: rasterio in c:\\users\\issac\\appdata\\roaming\\python\\python311\\site-packages (from contextily>=1.0.0->geoplot) (1.4.2)\n",
      "Requirement already satisfied: requests in c:\\programdata\\anaconda3\\lib\\site-packages (from contextily>=1.0.0->geoplot) (2.31.0)\n",
      "Requirement already satisfied: joblib in c:\\programdata\\anaconda3\\lib\\site-packages (from contextily>=1.0.0->geoplot) (1.2.0)\n",
      "Requirement already satisfied: xyzservices in c:\\programdata\\anaconda3\\lib\\site-packages (from contextily>=1.0.0->geoplot) (2022.9.0)\n",
      "Requirement already satisfied: numpy>=1.22 in c:\\users\\issac\\appdata\\roaming\\python\\python311\\site-packages (from geopandas>=0.9.0->geoplot) (1.24.4)\n",
      "Requirement already satisfied: pyogrio>=0.7.2 in c:\\users\\issac\\appdata\\roaming\\python\\python311\\site-packages (from geopandas>=0.9.0->geoplot) (0.10.0)\n",
      "Requirement already satisfied: packaging in c:\\programdata\\anaconda3\\lib\\site-packages (from geopandas>=0.9.0->geoplot) (23.0)\n",
      "Requirement already satisfied: pyproj>=3.3.0 in c:\\users\\issac\\appdata\\roaming\\python\\python311\\site-packages (from geopandas>=0.9.0->geoplot) (3.7.0)\n",
      "Requirement already satisfied: shapely>=2.0.0 in c:\\users\\issac\\appdata\\roaming\\python\\python311\\site-packages (from geopandas>=0.9.0->geoplot) (2.0.6)\n",
      "Requirement already satisfied: networkx>=2.7 in c:\\programdata\\anaconda3\\lib\\site-packages (from mapclassify>=2.1->geoplot) (3.1)\n",
      "Requirement already satisfied: scikit-learn>=1.0 in c:\\users\\issac\\appdata\\roaming\\python\\python311\\site-packages (from mapclassify>=2.1->geoplot) (1.5.2)\n",
      "Requirement already satisfied: scipy>=1.8 in c:\\programdata\\anaconda3\\lib\\site-packages (from mapclassify>=2.1->geoplot) (1.10.1)\n",
      "Requirement already satisfied: contourpy>=1.0.1 in c:\\programdata\\anaconda3\\lib\\site-packages (from matplotlib>=3.1.2->geoplot) (1.0.5)\n",
      "Requirement already satisfied: cycler>=0.10 in c:\\programdata\\anaconda3\\lib\\site-packages (from matplotlib>=3.1.2->geoplot) (0.11.0)\n",
      "Requirement already satisfied: fonttools>=4.22.0 in c:\\programdata\\anaconda3\\lib\\site-packages (from matplotlib>=3.1.2->geoplot) (4.25.0)\n",
      "Requirement already satisfied: kiwisolver>=1.0.1 in c:\\programdata\\anaconda3\\lib\\site-packages (from matplotlib>=3.1.2->geoplot) (1.4.4)\n",
      "Requirement already satisfied: pyparsing>=2.3.1 in c:\\programdata\\anaconda3\\lib\\site-packages (from matplotlib>=3.1.2->geoplot) (3.0.9)\n",
      "Requirement already satisfied: python-dateutil>=2.7 in c:\\programdata\\anaconda3\\lib\\site-packages (from matplotlib>=3.1.2->geoplot) (2.8.2)\n",
      "Requirement already satisfied: pytz>=2020.1 in c:\\programdata\\anaconda3\\lib\\site-packages (from pandas->geoplot) (2022.7)\n",
      "Requirement already satisfied: pyshp>=2.3 in c:\\users\\issac\\appdata\\roaming\\python\\python311\\site-packages (from cartopy->geoplot) (2.3.1)\n",
      "Requirement already satisfied: certifi in c:\\programdata\\anaconda3\\lib\\site-packages (from pyogrio>=0.7.2->geopandas>=0.9.0->geoplot) (2023.11.17)\n",
      "Requirement already satisfied: six>=1.5 in c:\\programdata\\anaconda3\\lib\\site-packages (from python-dateutil>=2.7->matplotlib>=3.1.2->geoplot) (1.16.0)\n",
      "Requirement already satisfied: threadpoolctl>=3.1.0 in c:\\users\\issac\\appdata\\roaming\\python\\python311\\site-packages (from scikit-learn>=1.0->mapclassify>=2.1->geoplot) (3.5.0)\n",
      "Requirement already satisfied: geographiclib<3,>=1.52 in c:\\users\\issac\\appdata\\roaming\\python\\python311\\site-packages (from geopy->contextily>=1.0.0->geoplot) (2.0)\n",
      "Requirement already satisfied: click>=3.0 in c:\\programdata\\anaconda3\\lib\\site-packages (from mercantile->contextily>=1.0.0->geoplot) (8.0.4)\n",
      "Requirement already satisfied: affine in c:\\users\\issac\\appdata\\roaming\\python\\python311\\site-packages (from rasterio->contextily>=1.0.0->geoplot) (2.4.0)\n",
      "Requirement already satisfied: attrs in c:\\programdata\\anaconda3\\lib\\site-packages (from rasterio->contextily>=1.0.0->geoplot) (22.1.0)\n",
      "Requirement already satisfied: cligj>=0.5 in c:\\users\\issac\\appdata\\roaming\\python\\python311\\site-packages (from rasterio->contextily>=1.0.0->geoplot) (0.7.2)\n",
      "Requirement already satisfied: click-plugins in c:\\users\\issac\\appdata\\roaming\\python\\python311\\site-packages (from rasterio->contextily>=1.0.0->geoplot) (1.1.1)\n",
      "Requirement already satisfied: charset-normalizer<4,>=2 in c:\\programdata\\anaconda3\\lib\\site-packages (from requests->contextily>=1.0.0->geoplot) (2.0.4)\n",
      "Requirement already satisfied: idna<4,>=2.5 in c:\\programdata\\anaconda3\\lib\\site-packages (from requests->contextily>=1.0.0->geoplot) (3.4)\n",
      "Requirement already satisfied: urllib3<3,>=1.21.1 in c:\\programdata\\anaconda3\\lib\\site-packages (from requests->contextily>=1.0.0->geoplot) (1.26.16)\n",
      "Requirement already satisfied: colorama in c:\\programdata\\anaconda3\\lib\\site-packages (from click>=3.0->mercantile->contextily>=1.0.0->geoplot) (0.4.6)\n",
      "Defaulting to user installation because normal site-packages is not writeable\n",
      "Requirement already satisfied: Dash in c:\\users\\issac\\appdata\\roaming\\python\\python311\\site-packages (2.18.2)\n",
      "Requirement already satisfied: Flask<3.1,>=1.0.4 in c:\\programdata\\anaconda3\\lib\\site-packages (from Dash) (2.2.2)\n",
      "Requirement already satisfied: Werkzeug<3.1 in c:\\programdata\\anaconda3\\lib\\site-packages (from Dash) (2.2.3)\n",
      "Requirement already satisfied: plotly>=5.0.0 in c:\\programdata\\anaconda3\\lib\\site-packages (from Dash) (5.9.0)\n",
      "Requirement already satisfied: dash-html-components==2.0.0 in c:\\users\\issac\\appdata\\roaming\\python\\python311\\site-packages (from Dash) (2.0.0)\n",
      "Requirement already satisfied: dash-core-components==2.0.0 in c:\\users\\issac\\appdata\\roaming\\python\\python311\\site-packages (from Dash) (2.0.0)\n",
      "Requirement already satisfied: dash-table==5.0.0 in c:\\users\\issac\\appdata\\roaming\\python\\python311\\site-packages (from Dash) (5.0.0)\n",
      "Requirement already satisfied: importlib-metadata in c:\\programdata\\anaconda3\\lib\\site-packages (from Dash) (6.0.0)\n",
      "Requirement already satisfied: typing-extensions>=4.1.1 in c:\\users\\issac\\appdata\\roaming\\python\\python311\\site-packages (from Dash) (4.12.2)\n",
      "Requirement already satisfied: requests in c:\\programdata\\anaconda3\\lib\\site-packages (from Dash) (2.31.0)\n",
      "Requirement already satisfied: retrying in c:\\users\\issac\\appdata\\roaming\\python\\python311\\site-packages (from Dash) (1.3.4)\n",
      "Requirement already satisfied: nest-asyncio in c:\\programdata\\anaconda3\\lib\\site-packages (from Dash) (1.5.6)\n",
      "Requirement already satisfied: setuptools in c:\\programdata\\anaconda3\\lib\\site-packages (from Dash) (68.0.0)\n",
      "Requirement already satisfied: Jinja2>=3.0 in c:\\programdata\\anaconda3\\lib\\site-packages (from Flask<3.1,>=1.0.4->Dash) (3.1.2)\n",
      "Requirement already satisfied: itsdangerous>=2.0 in c:\\programdata\\anaconda3\\lib\\site-packages (from Flask<3.1,>=1.0.4->Dash) (2.0.1)\n",
      "Requirement already satisfied: click>=8.0 in c:\\programdata\\anaconda3\\lib\\site-packages (from Flask<3.1,>=1.0.4->Dash) (8.0.4)\n",
      "Requirement already satisfied: tenacity>=6.2.0 in c:\\programdata\\anaconda3\\lib\\site-packages (from plotly>=5.0.0->Dash) (8.2.2)\n",
      "Requirement already satisfied: MarkupSafe>=2.1.1 in c:\\programdata\\anaconda3\\lib\\site-packages (from Werkzeug<3.1->Dash) (2.1.1)\n",
      "Requirement already satisfied: zipp>=0.5 in c:\\programdata\\anaconda3\\lib\\site-packages (from importlib-metadata->Dash) (3.11.0)\n",
      "Requirement already satisfied: charset-normalizer<4,>=2 in c:\\programdata\\anaconda3\\lib\\site-packages (from requests->Dash) (2.0.4)\n",
      "Requirement already satisfied: idna<4,>=2.5 in c:\\programdata\\anaconda3\\lib\\site-packages (from requests->Dash) (3.4)\n",
      "Requirement already satisfied: urllib3<3,>=1.21.1 in c:\\programdata\\anaconda3\\lib\\site-packages (from requests->Dash) (1.26.16)\n",
      "Requirement already satisfied: certifi>=2017.4.17 in c:\\programdata\\anaconda3\\lib\\site-packages (from requests->Dash) (2023.11.17)\n",
      "Requirement already satisfied: six>=1.7.0 in c:\\programdata\\anaconda3\\lib\\site-packages (from retrying->Dash) (1.16.0)\n",
      "Requirement already satisfied: colorama in c:\\programdata\\anaconda3\\lib\\site-packages (from click>=8.0->Flask<3.1,>=1.0.4->Dash) (0.4.6)\n",
      "Note: you may need to restart the kernel to use updated packages.\n"
     ]
    },
    {
     "name": "stderr",
     "output_type": "stream",
     "text": [
      "DEPRECATION: Loading egg at c:\\programdata\\anaconda3\\lib\\site-packages\\vboxapi-1.0-py3.11.egg is deprecated. pip 23.3 will enforce this behaviour change. A possible replacement is to use pip for package installation..\n"
     ]
    }
   ],
   "source": [
    "%pip install geoplot\n",
    "%pip install Dash\n",
    "\n",
    "import geopandas as gpd\n",
    "import geodatasets\n",
    "geodatasets.data\n",
    "import geoplot as gplt\n",
    "import geoplot.crs as gcrs\n",
    "%matplotlib inline\n",
    "import folium as fm\n",
    "\n"
   ]
  },
  {
   "cell_type": "code",
   "execution_count": 15,
   "metadata": {},
   "outputs": [
    {
     "name": "stdout",
     "output_type": "stream",
     "text": [
      "Total Port Calls: 2.6745234646901612\n",
      "Total Imports: 8719.785705084572\n",
      "Total Exports: 8721.612334535783\n"
     ]
    }
   ],
   "source": [
    "# Calculate key performance indicators\n",
    "total_port_calls = data['portcalls'].mean()\n",
    "total_imports = data['import'].mean()\n",
    "total_exports = data['export'].mean()\n",
    "\n",
    "# Create a dictionary to store the KPIs\n",
    "kpis = {\n",
    "    'Total Port Calls': total_port_calls,\n",
    "    'Total Imports': total_imports,\n",
    "    'Total Exports': total_exports\n",
    "}\n",
    "\n",
    "# Print the KPIs\n",
    "for kpi, value in kpis.items():\n",
    "    print(f\"{kpi}: {value}\")"
   ]
  },
  {
   "cell_type": "code",
   "execution_count": 8,
   "metadata": {},
   "outputs": [
    {
     "ename": "NameError",
     "evalue": "name 'data' is not defined",
     "output_type": "error",
     "traceback": [
      "\u001b[1;31m---------------------------------------------------------------------------\u001b[0m",
      "\u001b[1;31mNameError\u001b[0m                                 Traceback (most recent call last)",
      "Cell \u001b[1;32mIn[8], line 7\u001b[0m\n\u001b[0;32m      4\u001b[0m \u001b[38;5;28;01mimport\u001b[39;00m \u001b[38;5;21;01mplotly\u001b[39;00m\u001b[38;5;21;01m.\u001b[39;00m\u001b[38;5;21;01mexpress\u001b[39;00m \u001b[38;5;28;01mas\u001b[39;00m \u001b[38;5;21;01mpx\u001b[39;00m\n\u001b[0;32m      6\u001b[0m \u001b[38;5;66;03m# Calculate key performance indicators\u001b[39;00m\n\u001b[1;32m----> 7\u001b[0m total_port_calls \u001b[38;5;241m=\u001b[39m data[\u001b[38;5;124m'\u001b[39m\u001b[38;5;124mportcalls\u001b[39m\u001b[38;5;124m'\u001b[39m]\u001b[38;5;241m.\u001b[39msum()\n\u001b[0;32m      8\u001b[0m total_imports \u001b[38;5;241m=\u001b[39m data[\u001b[38;5;124m'\u001b[39m\u001b[38;5;124mimport\u001b[39m\u001b[38;5;124m'\u001b[39m]\u001b[38;5;241m.\u001b[39msum()\n\u001b[0;32m      9\u001b[0m total_exports \u001b[38;5;241m=\u001b[39m data[\u001b[38;5;124m'\u001b[39m\u001b[38;5;124mexport\u001b[39m\u001b[38;5;124m'\u001b[39m]\u001b[38;5;241m.\u001b[39msum()\n",
      "\u001b[1;31mNameError\u001b[0m: name 'data' is not defined"
     ]
    }
   ],
   "source": [
    "from dash import Dash, dcc, html\n",
    "import dash_bootstrap_components as dbc\n",
    "\n",
    "import plotly.express as px\n",
    "\n",
    "# Calculate key performance indicators\n",
    "total_port_calls = data['portcalls'].sum()\n",
    "total_imports = data['import'].sum()\n",
    "total_exports = data['export'].sum()\n",
    "top_exporters = data.groupby('country')['export'].sum().sort_values(ascending=False).head(10)\n",
    "top_importers = data.groupby('country')['import'].sum().sort_values(ascending=False).head(10)\n",
    "groupby_port = data.groupby('portname')['export'].mean()\n",
    "groupby_country = data.groupby('country')['export'].mean()\n",
    "# Create a dictionary to store the KPIs\n",
    "kpis = {\n",
    "    'Total Port Calls': total_port_calls,\n",
    "    'Total Imports': total_imports,\n",
    "    'Total Exports': total_exports,\n",
    "    'By Country': groupby_country,\n",
    "    'By Port': groupby_port\n",
    "}\n",
    "\n",
    "# Initialize the Dash app\n",
    "app = Dash(__name__, external_stylesheets=[dbc.themes.BOOTSTRAP])\n",
    "\n",
    "# Create the layout of the app\n",
    "app.layout = dbc.Container([\n",
    "    dbc.Row([\n",
    "        dbc.Col(html.H1(\"Key Performance Indicators\"), className=\"mb-2\")\n",
    "    ]),\n",
    "    dbc.Row([\n",
    "        dbc.Col(dbc.Card([\n",
    "            dbc.CardBody([\n",
    "                html.H4(\"Total Port Calls\", className=\"card-title\"),\n",
    "                html.P(f\"{total_port_calls:,}\", className=\"card-text\")\n",
    "            ])\n",
    "        ], color=\"primary\", inverse=True), width=4),\n",
    "        dbc.Col(dbc.Card([\n",
    "            dbc.CardBody([\n",
    "                html.H4(\"Total Imports\", className=\"card-title\"),\n",
    "                html.P(f\"{total_imports:,.2f}\", className=\"card-text\")\n",
    "            ])\n",
    "        ], color=\"success\", inverse=True), width=4),\n",
    "        dbc.Col(dbc.Card([\n",
    "            dbc.CardBody([\n",
    "                html.H4(\"Total Exports\", className=\"card-title\"),\n",
    "                html.P(f\"{total_exports:,.2f}\", className=\"card-text\")\n",
    "            ])\n",
    "        ], color=\"info\", inverse=True), width=4)\n",
    "    ]),\n",
    "    dbc.Row([\n",
    "        dbc.Col(dcc.Graph(\n",
    "            figure=px.bar(\n",
    "                x=list(kpis.keys()),\n",
    "                y=list(kpis.values()),\n",
    "                labels={'x': 'KPI', 'y': 'Value'},\n",
    "                title=\"Key Performance Indicators\"\n",
    "            )\n",
    "        ), width=12)\n",
    "    ])\n",
    "], fluid=True)\n",
    "\n",
    "# Run the app\n",
    "if __name__ == '__main__':\n",
    "     app.run_server(debug=True, port=8060)\n",
    "    #app.run(debug=True, port=8060)"
   ]
  },
  {
   "cell_type": "code",
   "execution_count": 63,
   "metadata": {},
   "outputs": [
    {
     "data": {
      "text/plain": [
       "<matplotlib.legend.Legend at 0x2085e005f90>"
      ]
     },
     "execution_count": 63,
     "metadata": {},
     "output_type": "execute_result"
    },
    {
     "data": {
      "image/png": "[encoded data removed]",
      "text/plain": [
       "<Figure size 1000x600 with 1 Axes>"
      ]
     },
     "metadata": {},
     "output_type": "display_data"
    }
   ],
   "source": [
    "fig, ax = plt.subplots(figsize=(10, 6))\n",
    "ax.barh(top_exporters.index, top_exporters.values, alpha=0.7)\n",
    "ax.barh(top_importers.index, top_importers.values, alpha=0.7)\n",
    "ax.set_xlabel('Export Value')\n",
    "ax.set_ylabel('Country')\n",
    "ax.set_title('Top 10 Exporters and Top 10 Importers')\n",
    "ax.legend(['Export', 'Import'])"
   ]
  },
  {
   "cell_type": "code",
   "execution_count": 18,
   "metadata": {},
   "outputs": [
    {
     "data": {
      "image/png": "[encoded data removed]",
      "text/plain": [
       "<Figure size 1000x600 with 1 Axes>"
      ]
     },
     "metadata": {},
     "output_type": "display_data"
    }
   ],
   "source": [
    "# pie chart of the top 10 exporters\n",
    "\n",
    "top_exporters = data.groupby('country')['export'].sum().sort_values(ascending=False).head(10)\n",
    "fig, ax = plt.subplots(figsize=(10, 6))\n",
    "ax.pie(top_exporters.values, labels=top_exporters.index, autopct='%1.1f%%', startangle=140)\n",
    "ax.set_title('Top 10 Exporters')\n",
    "plt.show()"
   ]
  },
  {
   "cell_type": "code",
   "execution_count": 64,
   "metadata": {},
   "outputs": [],
   "source": [
    "import seaborn as sns"
   ]
  },
  {
   "cell_type": "code",
   "execution_count": 45,
   "metadata": {},
   "outputs": [
    {
     "name": "stdout",
     "output_type": "stream",
     "text": [
      "country\n",
      "Albania           1.779290e+05\n",
      "Algeria           2.223207e+07\n",
      "American Samoa    2.828348e+04\n",
      "Angola            3.239163e+06\n",
      "Anguilla          8.831549e+03\n",
      "                      ...     \n",
      "Uruguay           7.348610e+06\n",
      "Vanuatu           2.814984e+04\n",
      "Venezuela         7.220968e+06\n",
      "Vietnam           3.819572e+07\n",
      "Yemen             2.377962e+05\n",
      "Name: export, Length: 180, dtype: float64\n"
     ]
    }
   ],
   "source": [
    "print(groupby_country)"
   ]
  },
  {
   "cell_type": "code",
   "execution_count": 19,
   "metadata": {},
   "outputs": [
    {
     "data": {
      "image/png": "[encoded data removed]",
      "text/plain": [
       "<Figure size 1000x600 with 1 Axes>"
      ]
     },
     "metadata": {},
     "output_type": "display_data"
    }
   ],
   "source": [
    "# Scatterplot of the top 10 exporters\n",
    "fig, ax = plt.subplots(figsize=(10, 6))\n",
    "ax.scatter(top_exporters.index, top_exporters.values, alpha=0.7)\n",
    "ax.set_xlabel('Country')\n",
    "ax.set_ylabel('Export Value')\n",
    "ax.set_title('Top 10 Exporters')\n",
    "plt.xticks(rotation=45)\n",
    "plt.show()"
   ]
  },
  {
   "cell_type": "markdown",
   "metadata": {},
   "source": [
    "Once the library is loaded, the polyplot() function can be used to draw a map of the geospatial data frame. The polyplot() function is used to plot polygons, i.e any type of geographic area."
   ]
  },
  {
   "cell_type": "code",
   "execution_count": 32,
   "metadata": {},
   "outputs": [
    {
     "data": {
      "image/png": "[encoded data removed]",
      "text/plain": [
       "<Figure size 1000x600 with 1 Axes>"
      ]
     },
     "metadata": {},
     "output_type": "display_data"
    }
   ],
   "source": [
    "fig, ax = plt.subplots(figsize=(10, 6))\n",
    "ax.scatter(top_importers.index, top_importers.values, alpha=0.7)\n",
    "ax.set_xlabel('Country')\n",
    "ax.set_ylabel('Import Value')\n",
    "ax.set_title('Top 10 Importers')\n",
    "plt.xticks(rotation=45)\n",
    "ax.legend(['Import'])\n",
    "plt.show()"
   ]
  },
  {
   "cell_type": "code",
   "execution_count": null,
   "metadata": {},
   "outputs": [
    {
     "ename": "AttributeError",
     "evalue": "module 'dash.dash' has no attribute 'dependencies'",
     "output_type": "error",
     "traceback": [
      "\u001b[1;31m---------------------------------------------------------------------------\u001b[0m",
      "\u001b[1;31mAttributeError\u001b[0m                            Traceback (most recent call last)",
      "Cell \u001b[1;32mIn[48], line 46\u001b[0m\n\u001b[0;32m      2\u001b[0m \u001b[38;5;28;01mfrom\u001b[39;00m \u001b[38;5;21;01mdash\u001b[39;00m \u001b[38;5;28;01mimport\u001b[39;00m dash\n\u001b[0;32m      5\u001b[0m app\u001b[38;5;241m.\u001b[39mlayout \u001b[38;5;241m=\u001b[39m dbc\u001b[38;5;241m.\u001b[39mContainer([\n\u001b[0;32m      6\u001b[0m     dbc\u001b[38;5;241m.\u001b[39mRow([\n\u001b[0;32m      7\u001b[0m         dbc\u001b[38;5;241m.\u001b[39mCol(html\u001b[38;5;241m.\u001b[39mH1(\u001b[38;5;124m\"\u001b[39m\u001b[38;5;124mKey Performance Indicators\u001b[39m\u001b[38;5;124m\"\u001b[39m), className\u001b[38;5;241m=\u001b[39m\u001b[38;5;124m\"\u001b[39m\u001b[38;5;124mmb-2\u001b[39m\u001b[38;5;124m\"\u001b[39m)\n\u001b[1;32m   (...)\u001b[0m\n\u001b[0;32m     42\u001b[0m     ])\n\u001b[0;32m     43\u001b[0m ], fluid\u001b[38;5;241m=\u001b[39m\u001b[38;5;28;01mTrue\u001b[39;00m)\n\u001b[0;32m     45\u001b[0m \u001b[38;5;129m@app\u001b[39m\u001b[38;5;241m.\u001b[39mcallback(\n\u001b[1;32m---> 46\u001b[0m     [dash\u001b[38;5;241m.\u001b[39mdependencies\u001b[38;5;241m.\u001b[39mOutput(\u001b[38;5;124m'\u001b[39m\u001b[38;5;124mportname-dropdown\u001b[39m\u001b[38;5;124m'\u001b[39m, \u001b[38;5;124m'\u001b[39m\u001b[38;5;124moptions\u001b[39m\u001b[38;5;124m'\u001b[39m),\n\u001b[0;32m     47\u001b[0m      dash\u001b[38;5;241m.\u001b[39mdependencies\u001b[38;5;241m.\u001b[39mOutput(\u001b[38;5;124m'\u001b[39m\u001b[38;5;124mportname-dropdown\u001b[39m\u001b[38;5;124m'\u001b[39m, \u001b[38;5;124m'\u001b[39m\u001b[38;5;124mvalue\u001b[39m\u001b[38;5;124m'\u001b[39m)],\n\u001b[0;32m     48\u001b[0m     [dash\u001b[38;5;241m.\u001b[39mdependencies\u001b[38;5;241m.\u001b[39mInput(\u001b[38;5;124m'\u001b[39m\u001b[38;5;124mcountry-dropdown\u001b[39m\u001b[38;5;124m'\u001b[39m, \u001b[38;5;124m'\u001b[39m\u001b[38;5;124mvalue\u001b[39m\u001b[38;5;124m'\u001b[39m)]\n\u001b[0;32m     49\u001b[0m )\n\u001b[0;32m     50\u001b[0m \u001b[38;5;28;01mdef\u001b[39;00m \u001b[38;5;21mset_port_options\u001b[39m(selected_country):\n\u001b[0;32m     51\u001b[0m     \u001b[38;5;28;01mif\u001b[39;00m selected_country \u001b[38;5;129;01mis\u001b[39;00m \u001b[38;5;28;01mNone\u001b[39;00m:\n\u001b[0;32m     52\u001b[0m         \u001b[38;5;28;01mreturn\u001b[39;00m [], \u001b[38;5;28;01mNone\u001b[39;00m\n",
      "\u001b[1;31mAttributeError\u001b[0m: module 'dash.dash' has no attribute 'dependencies'"
     ]
    }
   ],
   "source": [
    "\n",
    "# C dropdown for selecting country and portname\n",
    "from dash import dash\n",
    "\n",
    "\n",
    "app.layout = dbc.Container([\n",
    "    dbc.Row([\n",
    "        dbc.Col(html.H1(\"Key Performance Indicators\"), className=\"mb-2\")\n",
    "    ]),\n",
    "    dbc.Row([\n",
    "        dbc.Col(dbc.Card([\n",
    "            dbc.CardBody([\n",
    "                html.H4(\"Total Port Calls\", className=\"card-title\"),\n",
    "                html.P(id=\"total-port-calls\", className=\"card-text\")\n",
    "            ])\n",
    "        ], color=\"primary\", inverse=True), width=4),\n",
    "        dbc.Col(dbc.Card([\n",
    "            dbc.CardBody([\n",
    "                html.H4(\"Total Imports\", className=\"card-title\"),\n",
    "                html.P(id=\"total-imports\", className=\"card-text\")\n",
    "            ])\n",
    "        ], color=\"success\", inverse=True), width=4),\n",
    "        dbc.Col(dbc.Card([\n",
    "            dbc.CardBody([\n",
    "                html.H4(\"Total Exports\", className=\"card-title\"),\n",
    "                html.P(id=\"total-exports\", className=\"card-text\")\n",
    "            ])\n",
    "        ], color=\"info\", inverse=True), width=4)\n",
    "    ]),\n",
    "    dbc.Row([\n",
    "        dbc.Col(dcc.Dropdown(\n",
    "            id='country-dropdown',\n",
    "            options=[{'label': country, 'value': country} for country in data['country'].unique()],\n",
    "            placeholder=\"Select a country\"\n",
    "        ), width=6),\n",
    "        dbc.Col(dcc.Dropdown(\n",
    "            id='portname-dropdown',\n",
    "            placeholder=\"Select a port\"\n",
    "        ), width=6)\n",
    "    ]),\n",
    "    dbc.Row([\n",
    "        dbc.Col(dcc.Graph(id='kpi-bar-chart'), width=12)\n",
    "    ])\n",
    "], fluid=True)\n",
    "\n",
    "@app.callback(\n",
    "    [dash.dependencies.Output('portname-dropdown', 'options'),\n",
    "     dash.dependencies.Output('portname-dropdown', 'value')],\n",
    "    [dash.dependencies.Input('country-dropdown', 'value')]\n",
    ")\n",
    "def set_port_options(selected_country):\n",
    "    if selected_country is None:\n",
    "        return [], None\n",
    "    filtered_ports = data[data['country'] == selected_country]['portname'].unique()\n",
    "    return [{'label': port, 'value': port} for port in filtered_ports], None\n",
    "\n",
    "@app.callback(\n",
    "    [dash.dependencies.Output('total-port-calls', 'children'),\n",
    "     dash.dependencies.Output('total-imports', 'children'),\n",
    "     dash.dependencies.Output('total-exports', 'children'),\n",
    "     dash.dependencies.Output('kpi-bar-chart', 'figure')],\n",
    "    [dash.dependencies.Input('country-dropdown', 'value'),\n",
    "     dash.dependencies.Input('portname-dropdown', 'value')]\n",
    ")\n",
    "def update_kpis(selected_country, selected_port):\n",
    "    filtered_data = data\n",
    "    if selected_country:\n",
    "        filtered_data = filtered_data[filtered_data['country'] == selected_country]\n",
    "    if selected_port:\n",
    "        filtered_data = filtered_data[filtered_data['portname'] == selected_port]\n",
    "\n",
    "    total_port_calls = filtered_data['portcalls'].sum()\n",
    "    total_imports = filtered_data['import'].sum()\n",
    "    total_exports = filtered_data['export'].sum()\n",
    "\n",
    "    kpis = {\n",
    "        'Total Port Calls': total_port_calls,\n",
    "        'Total Imports': total_imports,\n",
    "        'Total Exports': total_exports\n",
    "    }\n",
    "\n",
    "    figure = px.bar(\n",
    "        x=list(kpis.keys()),\n",
    "        y=list(kpis.values()),\n",
    "        labels={'x': 'KPI', 'y': 'Value'},\n",
    "        title=\"Key Performance Indicators\"\n",
    "    )\n",
    "\n",
    "    return f\"{total_port_calls:,}\", f\"{total_imports:,.2f}\", f\"{total_exports:,.2f}\", figure\n",
    "\n",
    "if __name__ == '__main__':\n",
    "    app.run_server(debug=True, port=8060)"
   ]
  },
  {
   "cell_type": "code",
   "execution_count": 20,
   "metadata": {},
   "outputs": [
    {
     "ename": "NameError",
     "evalue": "name 'gplt' is not defined",
     "output_type": "error",
     "traceback": [
      "\u001b[1;31m---------------------------------------------------------------------------\u001b[0m",
      "\u001b[1;31mNameError\u001b[0m                                 Traceback (most recent call last)",
      "Cell \u001b[1;32mIn[20], line 1\u001b[0m\n\u001b[1;32m----> 1\u001b[0m gplt\u001b[38;5;241m.\u001b[39mpolyplot(data, projection\u001b[38;5;241m=\u001b[39mgcrs\u001b[38;5;241m.\u001b[39mAlbersEqualArea(), figsize\u001b[38;5;241m=\u001b[39m(\u001b[38;5;241m12\u001b[39m, \u001b[38;5;241m8\u001b[39m))\n\u001b[0;32m      2\u001b[0m gplt\u001b[38;5;241m.\u001b[39mcartogram(data, scale\u001b[38;5;241m=\u001b[39m\u001b[38;5;124m'\u001b[39m\u001b[38;5;124mpopulation\u001b[39m\u001b[38;5;124m'\u001b[39m, projection\u001b[38;5;241m=\u001b[39mgcrs\u001b[38;5;241m.\u001b[39mAlbersEqualArea(), figsize\u001b[38;5;241m=\u001b[39m(\u001b[38;5;241m12\u001b[39m, \u001b[38;5;241m8\u001b[39m))\n\u001b[0;32m      3\u001b[0m gplt\u001b[38;5;241m.\u001b[39mchoropleth(data, hue\u001b[38;5;241m=\u001b[39m\u001b[38;5;124m'\u001b[39m\u001b[38;5;124mpopulation\u001b[39m\u001b[38;5;124m'\u001b[39m, projection\u001b[38;5;241m=\u001b[39mgcrs\u001b[38;5;241m.\u001b[39mAlbersEqualArea(), cmap\u001b[38;5;241m=\u001b[39m\u001b[38;5;124m'\u001b[39m\u001b[38;5;124mGreens\u001b[39m\u001b[38;5;124m'\u001b[39m, figsize\u001b[38;5;241m=\u001b[39m(\u001b[38;5;241m12\u001b[39m, \u001b[38;5;241m8\u001b[39m))\n",
      "\u001b[1;31mNameError\u001b[0m: name 'gplt' is not defined"
     ]
    }
   ],
   "source": [
    "gplt.polyplot(data, projection=gcrs.AlbersEqualArea(), figsize=(12, 8))\n",
    "gplt.cartogram(data, scale='population', projection=gcrs.AlbersEqualArea(), figsize=(12, 8))\n",
    "gplt.choropleth(data, hue='population', projection=gcrs.AlbersEqualArea(), cmap='Greens', figsize=(12, 8))"
   ]
  },
  {
   "cell_type": "code",
   "execution_count": 27,
   "metadata": {},
   "outputs": [
    {
     "data": {
      "image/png": "[encoded data removed]",
      "text/plain": [
       "<Figure size 640x480 with 1 Axes>"
      ]
     },
     "metadata": {},
     "output_type": "display_data"
    }
   ],
   "source": [
    "#  histogram of the top exporters\n",
    "plt.hist(top_exporters, color = '#4e4187', edgecolor = '#f8ffe5',bins = 10)\n",
    "plt.axvline(top_exporters.mean(), color = 'g', linestyle = 'dashed')\n",
    "plt.axvline(top_exporters.median(), color = 'r', linestyle = 'dashed')\n",
    "plt.title('Distribution of Top Exporters')\n",
    "plt.show()"
   ]
  },
  {
   "cell_type": "code",
   "execution_count": 28,
   "metadata": {},
   "outputs": [
    {
     "data": {
      "image/png": "[encoded data removed]",
      "text/plain": [
       "<Figure size 640x480 with 1 Axes>"
      ]
     },
     "metadata": {},
     "output_type": "display_data"
    }
   ],
   "source": [
    "# histogram of the top importers\n",
    "top_importers = data.groupby('country')['import'].sum().sort_values(ascending=False).head(10)\n",
    "plt.hist(top_importers, color = '#4e4187', edgecolor = '#f8ffe5', bins = 10)\n",
    "plt.axvline(top_importers.mean(), color = 'y', linestyle = 'dashed')\n",
    "plt.axvline(top_importers.median(), color = 'orange', linestyle = 'dashed')\n",
    "plt.xlabel('Import Value')\n",
    "plt.xticks(rotation=45)\n",
    "plt.title('Distribution of Top Importers')\n",
    "plt.show()"
   ]
  },
  {
   "cell_type": "code",
   "execution_count": null,
   "metadata": {},
   "outputs": [
    {
     "ename": "NameError",
     "evalue": "name 'fm' is not defined",
     "output_type": "error",
     "traceback": [
      "\u001b[1;31m---------------------------------------------------------------------------\u001b[0m",
      "\u001b[1;31mNameError\u001b[0m                                 Traceback (most recent call last)",
      "Cell \u001b[1;32mIn[2], line 2\u001b[0m\n\u001b[0;32m      1\u001b[0m \u001b[38;5;66;03m# Interactive map using Folium\u001b[39;00m\n\u001b[1;32m----> 2\u001b[0m im \u001b[38;5;241m=\u001b[39m fm\u001b[38;5;241m.\u001b[39mMap(location \u001b[38;5;241m=\u001b[39m [\u001b[38;5;241m36.16\u001b[39m, \u001b[38;5;241m-\u001b[39m\u001b[38;5;241m86.78\u001b[39m], zoom_start \u001b[38;5;241m=\u001b[39m \u001b[38;5;241m12\u001b[39m, tiles \u001b[38;5;241m=\u001b[39m \u001b[38;5;124m'\u001b[39m\u001b[38;5;124mStamen Terrain\u001b[39m\u001b[38;5;124m'\u001b[39m)\n\u001b[0;32m      3\u001b[0m im\n",
      "\u001b[1;31mNameError\u001b[0m: name 'fm' is not defined"
     ]
    }
   ],
   "source": [
    "# Interactive map using Folium\n",
    "#im = folium.Map(location = [36.16, -86.78], zoom_start = 12, tiles = 'Stamen Terrain')\n",
    "im "
   ]
  },
  {
   "cell_type": "markdown",
   "metadata": {},
   "source": [
    "Add several markers"
   ]
  }
 ],
 "metadata": {
  "kernelspec": {
   "display_name": "base",
   "language": "python",
   "name": "python3"
  },
  "language_info": {
   "codemirror_mode": {
    "name": "ipython",
    "version": 3
   },
   "file_extension": ".py",
   "mimetype": "text/x-python",
   "name": "python",
   "nbconvert_exporter": "python",
   "pygments_lexer": "ipython3",
   "version": "3.11.4"
  }
 },
 "nbformat": 4,
 "nbformat_minor": 2
}
